{
 "cells": [
  {
   "cell_type": "code",
   "execution_count": 1,
   "id": "minor-throat",
   "metadata": {},
   "outputs": [],
   "source": [
    "import pickle\n",
    "import pandas as pd\n",
    "import re"
   ]
  },
  {
   "cell_type": "code",
   "execution_count": 2,
   "id": "continuing-artwork",
   "metadata": {},
   "outputs": [],
   "source": [
    "with open('../data/interim/ham_train.pkl', 'rb') as f:\n",
    "    ham_train = pickle.load(f)"
   ]
  },
  {
   "cell_type": "code",
   "execution_count": 3,
   "id": "elder-andrews",
   "metadata": {},
   "outputs": [],
   "source": [
    "with open('../data/interim/spam_train.pkl', 'rb') as f:\n",
    "    spam_train = pickle.load(f)"
   ]
  },
  {
   "cell_type": "code",
   "execution_count": 4,
   "id": "natural-confidentiality",
   "metadata": {},
   "outputs": [
    {
     "name": "stdout",
     "output_type": "stream",
     "text": [
      "2491\n",
      "1091\n"
     ]
    }
   ],
   "source": [
    "print(len(ham_train))\n",
    "print(len(spam_train))"
   ]
  },
  {
   "cell_type": "code",
   "execution_count": 5,
   "id": "broken-emission",
   "metadata": {},
   "outputs": [],
   "source": [
    "with open('../data/interim/ham_val.pkl', 'rb') as f:\n",
    "    ham_val = pickle.load(f)\n",
    "with open('../data/interim/ham_test.pkl', 'rb') as f:\n",
    "    ham_test = pickle.load(f)\n",
    "with open('../data/interim/spam_val.pkl', 'rb') as f:\n",
    "    spam_val = pickle.load(f)\n",
    "with open('../data/interim/spam_test.pkl', 'rb') as f:\n",
    "    spam_test = pickle.load(f)"
   ]
  },
  {
   "cell_type": "code",
   "execution_count": 6,
   "id": "vocational-announcement",
   "metadata": {},
   "outputs": [
    {
     "name": "stdout",
     "output_type": "stream",
     "text": [
      "831\n",
      "831\n",
      "364\n",
      "364\n"
     ]
    }
   ],
   "source": [
    "print(len(ham_val))\n",
    "print(len(ham_test))\n",
    "print(len(spam_val))\n",
    "print(len(spam_test))"
   ]
  },
  {
   "cell_type": "markdown",
   "id": "expected-collins",
   "metadata": {},
   "source": [
    "Let's take a look at a ham email and a spam email."
   ]
  },
  {
   "cell_type": "code",
   "execution_count": 7,
   "id": "excessive-monster",
   "metadata": {
    "scrolled": true
   },
   "outputs": [
    {
     "name": "stdout",
     "output_type": "stream",
     "text": [
      "From rpm-list-admin@freshrpms.net  Tue Aug  6 11:13:22 2002\n",
      "Return-Path: <rpm-zzzlist-admin@freshrpms.net>\n",
      "Delivered-To: yyyy@localhost.netnoteinc.com\n",
      "Received: from localhost (localhost [127.0.0.1])\n",
      "\tby phobos.labs.netnoteinc.com (Postfix) with ESMTP id 328174412A\n",
      "\tfor <jm@localhost>; Tue,  6 Aug 2002 06:09:09 -0400 (EDT)\n",
      "Received: from phobos [127.0.0.1]\n",
      "\tby localhost with IMAP (fetchmail-5.9.0)\n",
      "\tfor jm@localhost (single-drop); Tue, 06 Aug 2002 11:09:09 +0100 (IST)\n",
      "Received: from egwn.net (ns2.egwn.net [193.172.5.4]) by\n",
      "    dogma.slashnull.org (8.11.6/8.11.6) with ESMTP id g73HeEv21552 for\n",
      "    <jm-rpm@jmason.org>; Sat, 3 Aug 2002 18:40:14 +0100\n",
      "Received: from auth02.nl.egwn.net (localhost [127.0.0.1]) by egwn.net\n",
      "    (8.11.6/8.11.6/EGWN) with ESMTP id g73HW2J23725; Sat, 3 Aug 2002 19:32:03\n",
      "    +0200\n",
      "Received: from gateway.gestalt.entity.net\n",
      "    (host217-39-70-155.in-addr.btopenworld.com [217.39.70.155]) by egwn.net\n",
      "    (8.11.6/8.11.6/EGWN) with ESMTP id g73HVnJ23693 for\n",
      "    <rpm-list@freshrpms.net>; Sat, 3 Aug 2002 19:31:49 +0200\n",
      "Received: from turner.gestalt.entity.net (turner.gestalt.entity.net\n",
      "    [192.168.0.253]) by gateway.gestalt.entity.net (8.11.6/8.11.2) with ESMTP\n",
      "    id g73HZJ915850 for <rpm-list@freshrpms.net>; Sat, 3 Aug 2002 18:35:19\n",
      "    +0100\n",
      "Subject: APT, gcc-3.2-0.1\n",
      "From: Dave Cridland <dave@cridland.net>\n",
      "To: rpm-zzzlist@freshrpms.net\n",
      "Content-Type: text/plain\n",
      "Content-Transfer-Encoding: 7bit\n",
      "X-Mailer: Ximian Evolution 1.0.8 (1.0.8-4)\n",
      "Message-Id: <1028396119.14824.369.camel@turner.gestalt.entity.net>\n",
      "MIME-Version: 1.0\n",
      "X-Mailscanner: Found to be clean, Found to be clean\n",
      "Sender: rpm-zzzlist-admin@freshrpms.net\n",
      "Errors-To: rpm-zzzlist-admin@freshrpms.net\n",
      "X-Beenthere: rpm-zzzlist@freshrpms.net\n",
      "X-Mailman-Version: 2.0.11\n",
      "Precedence: bulk\n",
      "Reply-To: rpm-zzzlist@freshrpms.net\n",
      "List-Help: <mailto:rpm-zzzlist-request@freshrpms.net?subject=help>\n",
      "List-Post: <mailto:rpm-zzzlist@freshrpms.net>\n",
      "List-Subscribe: <http://lists.freshrpms.net/mailman/listinfo/rpm-zzzlist>,\n",
      "    <mailto:rpm-list-request@freshrpms.net?subject=subscribe>\n",
      "List-Id: Freshrpms RPM discussion list <rpm-zzzlist.freshrpms.net>\n",
      "List-Unsubscribe: <http://lists.freshrpms.net/mailman/listinfo/rpm-zzzlist>,\n",
      "    <mailto:rpm-list-request@freshrpms.net?subject=unsubscribe>\n",
      "List-Archive: <http://lists.freshrpms.net/pipermail/rpm-zzzlist/>\n",
      "X-Original-Date: 03 Aug 2002 18:35:19 +0100\n",
      "Date: 03 Aug 2002 18:35:19 +0100\n",
      "\n",
      "Hiya folks,\n",
      "\n",
      "I'm currently running RawHide, since I had the brilliant idea that, by\n",
      "using APT, it might actually be practical to keep up with the\n",
      "developments.\n",
      "\n",
      "However, APT seems to want a recompile - its sometimes leaving the RPM\n",
      "database in need of a db_recover - and gcc 3.2 seems to require a closer\n",
      "adherence to the standard than the C++ in APT was written for.\n",
      "\n",
      "This is a bit of a bummer.\n",
      "\n",
      "Does anyone know if there's a latest version I could try which might\n",
      "work, or whether I should simply do the porting myself? (I've made a\n",
      "start, but there's a fair amount of work to do.)\n",
      "\n",
      "If this works out, I might start a repository for the freshrpms compiled\n",
      "on vLatest RawHide, for my own purposes and anyone else who's\n",
      "interested.\n",
      "\n",
      "Dave.\n",
      "\n",
      "\n",
      "\n",
      "_______________________________________________\n",
      "RPM-List mailing list <RPM-List@freshrpms.net>\n",
      "http://lists.freshrpms.net/mailman/listinfo/rpm-list\n",
      "\n",
      "\n",
      "\n"
     ]
    }
   ],
   "source": [
    "print(ham_train[0])"
   ]
  },
  {
   "cell_type": "code",
   "execution_count": 8,
   "id": "convertible-fossil",
   "metadata": {},
   "outputs": [
    {
     "name": "stdout",
     "output_type": "stream",
     "text": [
      "From ilug-admin@linux.ie  Tue Aug  6 11:51:02 2002\n",
      "Return-Path: <ilug-admin@linux.ie>\n",
      "Delivered-To: yyyy@localhost.netnoteinc.com\n",
      "Received: from localhost (localhost [127.0.0.1])\n",
      "\tby phobos.labs.netnoteinc.com (Postfix) with ESMTP id 9E1F5441DD\n",
      "\tfor <jm@localhost>; Tue,  6 Aug 2002 06:48:09 -0400 (EDT)\n",
      "Received: from phobos [127.0.0.1]\n",
      "\tby localhost with IMAP (fetchmail-5.9.0)\n",
      "\tfor jm@localhost (single-drop); Tue, 06 Aug 2002 11:48:09 +0100 (IST)\n",
      "Received: from lugh.tuatha.org (root@lugh.tuatha.org [194.125.145.45]) by\n",
      "    dogma.slashnull.org (8.11.6/8.11.6) with ESMTP id g72LqWv13294 for\n",
      "    <jm-ilug@jmason.org>; Fri, 2 Aug 2002 22:52:32 +0100\n",
      "Received: from lugh (root@localhost [127.0.0.1]) by lugh.tuatha.org\n",
      "    (8.9.3/8.9.3) with ESMTP id WAA31224; Fri, 2 Aug 2002 22:50:17 +0100\n",
      "Received: from bettyjagessar.com (w142.z064000057.nyc-ny.dsl.cnc.net\n",
      "    [64.0.57.142]) by lugh.tuatha.org (8.9.3/8.9.3) with ESMTP id WAA31201 for\n",
      "    <ilug@linux.ie>; Fri, 2 Aug 2002 22:50:11 +0100\n",
      "X-Authentication-Warning: lugh.tuatha.org: Host w142.z064000057.nyc-ny.dsl.cnc.net\n",
      "    [64.0.57.142] claimed to be bettyjagessar.com\n",
      "Received: from 64.0.57.142 [202.63.165.34] by bettyjagessar.com\n",
      "    (SMTPD32-7.06 EVAL) id A42A7FC01F2; Fri, 02 Aug 2002 02:18:18 -0400\n",
      "Message-Id: <1028311679.886@0.57.142>\n",
      "Date: Fri, 02 Aug 2002 23:37:59 0530\n",
      "To: ilug@linux.ie\n",
      "From: \"Start Now\" <startnow2002@hotmail.com>\n",
      "MIME-Version: 1.0\n",
      "Content-Type: text/plain; charset=\"US-ASCII\"; format=flowed\n",
      "Subject: [ILUG] STOP THE MLM INSANITY\n",
      "Sender: ilug-admin@linux.ie\n",
      "Errors-To: ilug-admin@linux.ie\n",
      "X-Mailman-Version: 1.1\n",
      "Precedence: bulk\n",
      "List-Id: Irish Linux Users' Group <ilug.linux.ie>\n",
      "X-Beenthere: ilug@linux.ie\n",
      "\n",
      "Greetings!\n",
      "\n",
      "You are receiving this letter because you have expressed an interest in \n",
      "receiving information about online business opportunities. If this is \n",
      "erroneous then please accept my most sincere apology. This is a one-time \n",
      "mailing, so no removal is necessary.\n",
      "\n",
      "If you've been burned, betrayed, and back-stabbed by multi-level marketing, \n",
      "MLM, then please read this letter. It could be the most important one that \n",
      "has ever landed in your Inbox.\n",
      "\n",
      "MULTI-LEVEL MARKETING IS A HUGE MISTAKE FOR MOST PEOPLE\n",
      "\n",
      "MLM has failed to deliver on its promises for the past 50 years. The pursuit \n",
      "of the \"MLM Dream\" has cost hundreds of thousands of people their friends, \n",
      "their fortunes and their sacred honor. The fact is that MLM is fatally \n",
      "flawed, meaning that it CANNOT work for most people.\n",
      "\n",
      "The companies and the few who earn the big money in MLM are NOT going to \n",
      "tell you the real story. FINALLY, there is someone who has the courage to \n",
      "cut through the hype and lies and tell the TRUTH about MLM.\n",
      "\n",
      "HERE'S GOOD NEWS\n",
      "\n",
      "There IS an alternative to MLM that WORKS, and works BIG! If you haven't yet \n",
      "abandoned your dreams, then you need to see this. Earning the kind of income \n",
      "you've dreamed about is easier than you think!\n",
      "\n",
      "With your permission, I'd like to send you a brief letter that will tell you \n",
      "WHY MLM doesn't work for most people and will then introduce you to \n",
      "something so new and refreshing that you'll wonder why you haven't heard of \n",
      "this before.\n",
      "\n",
      "I promise that there will be NO unwanted follow up, NO sales pitch, no one \n",
      "will call you, and your email address will only be used to send you the \n",
      "information. Period.\n",
      "\n",
      "To receive this free, life-changing information, simply click Reply, type \n",
      "\"Send Info\" in the Subject box and hit Send. I'll get the information to you \n",
      "within 24 hours. Just look for the words MLM WALL OF SHAME in your Inbox.\n",
      "\n",
      "Cordially,\n",
      "\n",
      "Siddhi\n",
      "\n",
      "P.S. Someone recently sent the letter to me and it has been the most \n",
      "eye-opening, financially beneficial information I have ever received. I \n",
      "honestly believe that you will feel the same way once you've read it. And \n",
      "it's FREE!\n",
      "\n",
      "\n",
      "------------------------------------------------------------\n",
      "This email is NEVER sent unsolicited.  THIS IS NOT \"SPAM\". You are receiving \n",
      "this email because you EXPLICITLY signed yourself up to our list with our \n",
      "online signup form or through use of our FFA Links Page and E-MailDOM \n",
      "systems, which have EXPLICIT terms of use which state that through its use \n",
      "you agree to receive our emailings.  You may also be a member of a Altra \n",
      "Computer Systems list or one of many numerous FREE Marketing Services and as \n",
      "such you agreed when you signed up for such list that you would also be \n",
      "receiving this emailing.\n",
      "Due to the above, this email message cannot be considered unsolicitated, or \n",
      "spam.\n",
      "-----------------------------------------------------------\n",
      "\n",
      "\n",
      "\n",
      "\n",
      "-- \n",
      "Irish Linux Users' Group: ilug@linux.ie\n",
      "http://www.linux.ie/mailman/listinfo/ilug for (un)subscription information.\n",
      "List maintainer: listmaster@linux.ie\n",
      "\n",
      "\n",
      "\n"
     ]
    }
   ],
   "source": [
    "print(spam_train[0])"
   ]
  },
  {
   "cell_type": "markdown",
   "id": "existing-adams",
   "metadata": {},
   "source": [
    "Let's clean up the emails, then have another look."
   ]
  },
  {
   "cell_type": "code",
   "execution_count": 9,
   "id": "raised-mason",
   "metadata": {},
   "outputs": [],
   "source": [
    "def clean1(email):\n",
    "    pat = re.compile(r'([-\\w]+: .+|<.*|.*>|.*NextPart.*|charset=.*|\\w+\\.\\w+\\.?\\w*\\.?\\w*\\.?\\w*)')\n",
    "    return pat.sub(' ', email)\n",
    "\n",
    "\n",
    "def get_words(email, exclude_below=2):\n",
    "    return [x.lower()\n",
    "            for x in re.findall(r'[A-Za-z]+', email)\n",
    "            if len(x) > exclude_below]"
   ]
  },
  {
   "cell_type": "code",
   "execution_count": 10,
   "id": "funky-responsibility",
   "metadata": {
    "scrolled": true
   },
   "outputs": [
    {
     "name": "stdout",
     "output_type": "stream",
     "text": [
      "From rpm-list-admin@   Tue Aug  6 11:13:22 2002\n",
      " \n",
      " \n",
      " \n",
      "\tby   (Postfix) with ESMTP id 328174412A\n",
      " ; Tue,  6 Aug 2002 06:09:09 -0400 (EDT)\n",
      " \n",
      "\tby localhost with IMAP (fetchmail- )\n",
      "\tfor jm@localhost (single-drop); Tue, 06 Aug 2002 11:09:09 +0100 (IST)\n",
      " \n",
      "      ( / ) with ESMTP id g73HeEv21552 for\n",
      " ; Sat, 3 Aug 2002 18:40:14 +0100\n",
      " \n",
      "    ( / /EGWN) with ESMTP id g73HW2J23725; Sat, 3 Aug 2002 19:32:03\n",
      "    +0200\n",
      " \n",
      "    (host217-39-70- -  [ ]) by  \n",
      "    ( / /EGWN) with ESMTP id g73HVnJ23693 for\n",
      " ; Sat, 3 Aug 2002 19:31:49 +0200\n",
      " \n",
      "    [ ]) by   ( / ) with ESMTP\n",
      " ; Sat, 3 Aug 2002 18:35:19\n",
      "    +0100\n",
      " \n",
      " \n",
      " \n",
      " \n",
      " \n",
      " \n",
      " \n",
      " \n",
      " \n",
      " \n",
      " \n",
      " \n",
      " \n",
      " \n",
      " \n",
      " \n",
      " \n",
      " \n",
      " \n",
      " \n",
      " \n",
      " \n",
      " \n",
      " \n",
      " \n",
      "\n",
      "Hiya folks,\n",
      "\n",
      "I'm currently running RawHide, since I had the brilliant idea that, by\n",
      "using APT, it might actually be practical to keep up with the\n",
      "developments.\n",
      "\n",
      "However, APT seems to want a recompile - its sometimes leaving the RPM\n",
      "database in need of a db_recover - and gcc   seems to require a closer\n",
      "adherence to the standard than the C++ in APT was written for.\n",
      "\n",
      "This is a bit of a bummer.\n",
      "\n",
      "Does anyone know if there's a latest version I could try which might\n",
      "work, or whether I should simply do the porting myself? (I've made a\n",
      "start, but there's a fair amount of work to do.)\n",
      "\n",
      "If this works out, I might start a repository for the freshrpms compiled\n",
      "on vLatest RawHide, for my own purposes and anyone else who's\n",
      "interested.\n",
      "\n",
      "Dave.\n",
      "\n",
      "\n",
      "\n",
      "_______________________________________________\n",
      " \n",
      "http:// /mailman/listinfo/rpm-list\n",
      "\n",
      "\n",
      "\n"
     ]
    }
   ],
   "source": [
    "print(clean1(ham_train[0]))"
   ]
  },
  {
   "cell_type": "markdown",
   "id": "reverse-intranet",
   "metadata": {},
   "source": [
    "Our cleaning function isn't working perfectly... we could use a built in module."
   ]
  },
  {
   "cell_type": "code",
   "execution_count": 11,
   "id": "available-affect",
   "metadata": {},
   "outputs": [],
   "source": [
    "import email\n",
    "import email.policy\n",
    "\n",
    "def clean2(email_):\n",
    "    msg = email.parser.Parser(policy=email.policy.default).parsestr(email_)\n",
    "    return msg.get_content()"
   ]
  },
  {
   "cell_type": "code",
   "execution_count": 12,
   "id": "entertaining-checkout",
   "metadata": {},
   "outputs": [],
   "source": [
    "msg = clean2(ham_train[0])"
   ]
  },
  {
   "cell_type": "code",
   "execution_count": 13,
   "id": "funded-toyota",
   "metadata": {
    "scrolled": true
   },
   "outputs": [
    {
     "name": "stdout",
     "output_type": "stream",
     "text": [
      "Hiya folks,\n",
      "\n",
      "I'm currently running RawHide, since I had the brilliant idea that, by\n",
      "using APT, it might actually be practical to keep up with the\n",
      "developments.\n",
      "\n",
      "However, APT seems to want a recompile - its sometimes leaving the RPM\n",
      "database in need of a db_recover - and gcc 3.2 seems to require a closer\n",
      "adherence to the standard than the C++ in APT was written for.\n",
      "\n",
      "This is a bit of a bummer.\n",
      "\n",
      "Does anyone know if there's a latest version I could try which might\n",
      "work, or whether I should simply do the porting myself? (I've made a\n",
      "start, but there's a fair amount of work to do.)\n",
      "\n",
      "If this works out, I might start a repository for the freshrpms compiled\n",
      "on vLatest RawHide, for my own purposes and anyone else who's\n",
      "interested.\n",
      "\n",
      "Dave.\n",
      "\n",
      "\n",
      "\n",
      "_______________________________________________\n",
      "RPM-List mailing list <RPM-List@freshrpms.net>\n",
      "http://lists.freshrpms.net/mailman/listinfo/rpm-list\n",
      "\n",
      "\n",
      "\n"
     ]
    }
   ],
   "source": [
    "print(msg)"
   ]
  },
  {
   "cell_type": "markdown",
   "id": "looking-couple",
   "metadata": {},
   "source": [
    "This works better, but some messages are \"multi-part\", and we can't use `get_content()` with them, so it will fail on some emails.\n",
    "\n",
    "Looking at the two samples above, we see that the first line is \"From ...\", then there are several lines with an attribute, followed by a colon, followed by some details. Let's capture these."
   ]
  },
  {
   "cell_type": "code",
   "execution_count": 14,
   "id": "functional-prefix",
   "metadata": {
    "scrolled": true
   },
   "outputs": [
    {
     "data": {
      "text/plain": [
       "\"From rpm-list-admin@freshrpms.net  Tue Aug  6 11:13:22 2002\\nReturn-Path: <rpm-zzzlist-admin@freshrpms.net>\\nDelivered-To: yyyy@localhost.netnoteinc.com\\nReceived: from localhost (localhost [127.0.0.1])\\n\\tby phobos.labs.netnoteinc.com (Postfix) with ESMTP id 328174412A\\n\\tfor <jm@localhost>; Tue,  6 Aug 2002 06:09:09 -0400 (EDT)\\nReceived: from phobos [127.0.0.1]\\n\\tby localhost with IMAP (fetchmail-5.9.0)\\n\\tfor jm@localhost (single-drop); Tue, 06 Aug 2002 11:09:09 +0100 (IST)\\nReceived: from egwn.net (ns2.egwn.net [193.172.5.4]) by\\n    dogma.slashnull.org (8.11.6/8.11.6) with ESMTP id g73HeEv21552 for\\n    <jm-rpm@jmason.org>; Sat, 3 Aug 2002 18:40:14 +0100\\nReceived: from auth02.nl.egwn.net (localhost [127.0.0.1]) by egwn.net\\n    (8.11.6/8.11.6/EGWN) with ESMTP id g73HW2J23725; Sat, 3 Aug 2002 19:32:03\\n    +0200\\nReceived: from gateway.gestalt.entity.net\\n    (host217-39-70-155.in-addr.btopenworld.com [217.39.70.155]) by egwn.net\\n    (8.11.6/8.11.6/EGWN) with ESMTP id g73HVnJ23693 for\\n    <rpm-list@freshrpms.net>; Sat, 3 Aug 2002 19:31:49 +0200\\nReceived: from turner.gestalt.entity.net (turner.gestalt.entity.net\\n    [192.168.0.253]) by gateway.gestalt.entity.net (8.11.6/8.11.2) with ESMTP\\n    id g73HZJ915850 for <rpm-list@freshrpms.net>; Sat, 3 Aug 2002 18:35:19\\n    +0100\\nSubject: APT, gcc-3.2-0.1\\nFrom: Dave Cridland <dave@cridland.net>\\nTo: rpm-zzzlist@freshrpms.net\\nContent-Type: text/plain\\nContent-Transfer-Encoding: 7bit\\nX-Mailer: Ximian Evolution 1.0.8 (1.0.8-4)\\nMessage-Id: <1028396119.14824.369.camel@turner.gestalt.entity.net>\\nMIME-Version: 1.0\\nX-Mailscanner: Found to be clean, Found to be clean\\nSender: rpm-zzzlist-admin@freshrpms.net\\nErrors-To: rpm-zzzlist-admin@freshrpms.net\\nX-Beenthere: rpm-zzzlist@freshrpms.net\\nX-Mailman-Version: 2.0.11\\nPrecedence: bulk\\nReply-To: rpm-zzzlist@freshrpms.net\\nList-Help: <mailto:rpm-zzzlist-request@freshrpms.net?subject=help>\\nList-Post: <mailto:rpm-zzzlist@freshrpms.net>\\nList-Subscribe: <http://lists.freshrpms.net/mailman/listinfo/rpm-zzzlist>,\\n    <mailto:rpm-list-request@freshrpms.net?subject=subscribe>\\nList-Id: Freshrpms RPM discussion list <rpm-zzzlist.freshrpms.net>\\nList-Unsubscribe: <http://lists.freshrpms.net/mailman/listinfo/rpm-zzzlist>,\\n    <mailto:rpm-list-request@freshrpms.net?subject=unsubscribe>\\nList-Archive: <http://lists.freshrpms.net/pipermail/rpm-zzzlist/>\\nX-Original-Date: 03 Aug 2002 18:35:19 +0100\\nDate: 03 Aug 2002 18:35:19 +0100\\n\\nHiya folks,\\n\\nI'm currently running RawHide, since I had the brilliant idea that, by\\nusing APT, it might actually be practical to keep up with the\\ndevelopments.\\n\\nHowever, APT seems to want a recompile - its sometimes leaving the RPM\\ndatabase in need of a db_recover - and gcc 3.2 seems to require a closer\\nadherence to the standard than the C++ in APT was written for.\\n\\nThis is a bit of a bummer.\\n\\nDoes anyone know if there's a latest version I could try which might\\nwork, or whether I should simply do the porting myself? (I've made a\\nstart, but there's a fair amount of work to do.)\\n\\nIf this works out, I might start a repository for the freshrpms compiled\\non vLatest RawHide, for my own purposes and anyone else who's\\ninterested.\\n\\nDave.\\n\\n\\n\\n_______________________________________________\\nRPM-List mailing list <RPM-List@freshrpms.net>\\nhttp://lists.freshrpms.net/mailman/listinfo/rpm-list\\n\\n\\n\""
      ]
     },
     "execution_count": 14,
     "metadata": {},
     "output_type": "execute_result"
    }
   ],
   "source": [
    "ham_train[0]"
   ]
  },
  {
   "cell_type": "code",
   "execution_count": 15,
   "id": "adjacent-aaron",
   "metadata": {},
   "outputs": [],
   "source": [
    "pat_from = re.compile(r'(From)\\s+([-@\\w\\.]+)\\s+([a-zA-Z0-9: ]+)')"
   ]
  },
  {
   "cell_type": "code",
   "execution_count": 16,
   "id": "acting-delta",
   "metadata": {},
   "outputs": [
    {
     "data": {
      "text/plain": [
       "('From', 'rpm-list-admin@freshrpms.net', 'Tue Aug  6 11:13:22 2002')"
      ]
     },
     "execution_count": 16,
     "metadata": {},
     "output_type": "execute_result"
    }
   ],
   "source": [
    "re.search(pat_from, ham_train[0]).groups()"
   ]
  },
  {
   "cell_type": "markdown",
   "id": "applied-reasoning",
   "metadata": {},
   "source": [
    "The \"received\" parts span multiple lines, so they will be more difficult to extract.\n",
    "\n",
    "Let's try to get this info using the email module."
   ]
  },
  {
   "cell_type": "code",
   "execution_count": 17,
   "id": "close-tamil",
   "metadata": {},
   "outputs": [],
   "source": [
    "msg = email.message_from_string(ham_train[0], policy=email.policy.default)"
   ]
  },
  {
   "cell_type": "code",
   "execution_count": 18,
   "id": "mathematical-yacht",
   "metadata": {},
   "outputs": [
    {
     "data": {
      "text/plain": [
       "False"
      ]
     },
     "execution_count": 18,
     "metadata": {},
     "output_type": "execute_result"
    }
   ],
   "source": [
    "msg.is_multipart()"
   ]
  },
  {
   "cell_type": "code",
   "execution_count": 19,
   "id": "looking-scheduling",
   "metadata": {},
   "outputs": [
    {
     "name": "stdout",
     "output_type": "stream",
     "text": [
      "Return-Path : <rpm-zzzlist-admin@freshrpms.net>\n",
      "Delivered-To : yyyy@localhost.netnoteinc.com\n",
      "Received : from localhost (localhost [127.0.0.1])\tby phobos.labs.netnoteinc.com (Postfix) with ESMTP id 328174412A\tfor <jm@localhost>; Tue,  6 Aug 2002 06:09:09 -0400 (EDT)\n",
      "Received : from phobos [127.0.0.1]\tby localhost with IMAP (fetchmail-5.9.0)\tfor jm@localhost (single-drop); Tue, 06 Aug 2002 11:09:09 +0100 (IST)\n",
      "Received : from egwn.net (ns2.egwn.net [193.172.5.4]) by    dogma.slashnull.org (8.11.6/8.11.6) with ESMTP id g73HeEv21552 for    <jm-rpm@jmason.org>; Sat, 3 Aug 2002 18:40:14 +0100\n",
      "Received : from auth02.nl.egwn.net (localhost [127.0.0.1]) by egwn.net    (8.11.6/8.11.6/EGWN) with ESMTP id g73HW2J23725; Sat, 3 Aug 2002 19:32:03    +0200\n",
      "Received : from gateway.gestalt.entity.net    (host217-39-70-155.in-addr.btopenworld.com [217.39.70.155]) by egwn.net    (8.11.6/8.11.6/EGWN) with ESMTP id g73HVnJ23693 for    <rpm-list@freshrpms.net>; Sat, 3 Aug 2002 19:31:49 +0200\n",
      "Received : from turner.gestalt.entity.net (turner.gestalt.entity.net    [192.168.0.253]) by gateway.gestalt.entity.net (8.11.6/8.11.2) with ESMTP    id g73HZJ915850 for <rpm-list@freshrpms.net>; Sat, 3 Aug 2002 18:35:19    +0100\n",
      "Subject : APT, gcc-3.2-0.1\n",
      "From : Dave Cridland <dave@cridland.net>\n",
      "To : rpm-zzzlist@freshrpms.net\n",
      "Content-Type : text/plain\n",
      "Content-Transfer-Encoding : 7bit\n",
      "X-Mailer : Ximian Evolution 1.0.8 (1.0.8-4)\n",
      "Message-Id : <1028396119.14824.369.camel@turner.gestalt.entity.net>\n",
      "MIME-Version : 1.0\n",
      "X-Mailscanner : Found to be clean, Found to be clean\n",
      "Sender : rpm-zzzlist-admin@freshrpms.net\n",
      "Errors-To : rpm-zzzlist-admin@freshrpms.net\n",
      "X-Beenthere : rpm-zzzlist@freshrpms.net\n",
      "X-Mailman-Version : 2.0.11\n",
      "Precedence : bulk\n",
      "Reply-To : rpm-zzzlist@freshrpms.net\n",
      "List-Help : <mailto:rpm-zzzlist-request@freshrpms.net?subject=help>\n",
      "List-Post : <mailto:rpm-zzzlist@freshrpms.net>\n",
      "List-Subscribe : <http://lists.freshrpms.net/mailman/listinfo/rpm-zzzlist>,    <mailto:rpm-list-request@freshrpms.net?subject=subscribe>\n",
      "List-Id : Freshrpms RPM discussion list <rpm-zzzlist.freshrpms.net>\n",
      "List-Unsubscribe : <http://lists.freshrpms.net/mailman/listinfo/rpm-zzzlist>,    <mailto:rpm-list-request@freshrpms.net?subject=unsubscribe>\n",
      "List-Archive : <http://lists.freshrpms.net/pipermail/rpm-zzzlist/>\n",
      "X-Original-Date : 03 Aug 2002 18:35:19 +0100\n",
      "Date : Sat, 03 Aug 2002 18:35:19 +0100\n"
     ]
    }
   ],
   "source": [
    "for header, value in msg.items():\n",
    "    print(header, \":\", value)"
   ]
  },
  {
   "cell_type": "markdown",
   "id": "liable-conclusion",
   "metadata": {},
   "source": [
    "So we can get all of these headers using the `email` module."
   ]
  },
  {
   "cell_type": "code",
   "execution_count": 20,
   "id": "drawn-productivity",
   "metadata": {},
   "outputs": [
    {
     "data": {
      "text/plain": [
       "'text/plain'"
      ]
     },
     "execution_count": 20,
     "metadata": {},
     "output_type": "execute_result"
    }
   ],
   "source": [
    "msg.get_content_type()"
   ]
  },
  {
   "cell_type": "code",
   "execution_count": 21,
   "id": "reduced-curve",
   "metadata": {},
   "outputs": [],
   "source": [
    "for mail in ham_train:\n",
    "    if email.message_from_string(mail, policy=email.policy.default).is_multipart():\n",
    "        multimail = mail\n",
    "        break"
   ]
  },
  {
   "cell_type": "code",
   "execution_count": 22,
   "id": "behind-possible",
   "metadata": {},
   "outputs": [
    {
     "data": {
      "text/plain": [
       "'Return-Path: <replies@oracleeblast.com>\\nReceived: (qmail 19678 invoked by alias); 10 Jul 2002 13:22:47 -0000\\nReceived: (qmail 19416 invoked by uid 82); 10 Jul 2002 13:22:42 -0000\\nReceived: from replies@oracleeblast.com by mailhost with qmail-scanner-1.00 (uvscan: v4.1.40/v4210. . Clean. Processed in 8.59332 secs); 10 Jul 2002 13:22:42 -0000\\nReceived: from inet-mail6.oracle.com (209.246.10.170)\\n  by mi-1.rz.ruhr-uni-bochum.de with SMTP; 10 Jul 2002 13:22:30 -0000\\nReceived: from blaster-smtp.oracle.com (eblast01.oracleeblast.com [148.87.9.11])\\n\\tby inet-mail6.oracle.com (Switch-2.2.2/Switch-2.2.0) with ESMTP id g6ADMHs25188\\n\\tfor XXXXXX.YYYYY@RUHR-UNI-BOCHUM.DE; Wed, 10 Jul 2002 06:22:17 -0700 (PDT)\\nDate: Wed, 10 Jul 2002 06:22:17 -0700 (PDT)\\nMessage-Id: <200207101322.g6ADMHs25188@inet-mail6.oracle.com>\\nSubject: Oracle Technology Network TechBlast - July 2002\\nFrom: Oracle Technology Network<replies@oracleeblast.com>\\nTo: XXXXXX.YYYYY@RUHR-UNI-BOCHUM.DE\\nReply-To: replies@oracleeblast.com\\nContent-Transfer-Encoding: 8bit\\nMIME-Version: 1.0\\nContent-Type: multipart/alternative;\\n    boundary=\"next_part_of_message\"\\n\\n\\n--next_part_of_message\\n\\n\\n\\ne\\ne\\nssage\\nContent-type: text/plain; charset=iso-8859-1\\n\\n\\n\\n--next_part_of_message\\nContent-Type: text/html\\n\\n\\n<body bgcolor=\"#FFFFFF\" link=\"#000000\" vlink=\"#000000\">\\n<a href=\"http://otn.oracle.com/index.html\" target=\"_top\"><img src=\"http://otn.oracle.com/otn300x65.gif\" width=300 height=65 border=0 alt=\"Oracle Technology Network\" hspace=5 vspace=5></a> \\n<div align=\"center\"><font face=\"Arial, Helvetica, sans-serif\"><b><font size=\"+2\">OTN \\n  TechBlast </font><font size=\"+1\"><br>\\n  </font> <i>July 2002 Issue</i></b><font size=\"2\"><br>\\n  <font size=\"1\">The monthly TechBlast is also available through the <a href=\"http://otn.oracle.com/techblast/index.htm\">Oracle \\n  Technology Network</a> website.</font></font></font> <br>\\n  <div align=\"left\"> \\n    <hr>\\n  </div>\\n</div>\\n<table width=\"100%\" border=\"0\" cellspacing=\"10\" >\\n  <tr> \\n    <td valign=\"top\" width=\"14%\" ><font size=\"2\" face=\"Arial, Helvetica, sans-serif\"><b>In \\n      this issue:</b></font> \\n      <table width=\"100%\" border=\"0\" cellspacing=\"2\" cellpadding=\"0\">\\n        <tr> \\n          <td><font size=\"1\"><a href=\"#topnews\"><img src=\"http://otn.oracle.com/images/bullets_and_symbols/red_arrow_bullet_10.gif\" width=\"12\" height=\"13\" border=\"0\"></a></font></td>\\n          <td><font face=\"Arial, Helvetica, sans-serif\" size=\"1\"><a href=\"#feature\">This \\n            Month\\'s Feature</a></font></td>\\n        </tr>\\n        <tr> \\n          <td height=\"12\"><font size=\"1\"><a href=\"#newdownloads\"><img src=\"http://otn.oracle.com/images/bullets_and_symbols/red_arrow_bullet_10.gif\" width=\"12\" height=\"13\" border=\"0\"></a></font></td>\\n          <td><font face=\"Arial, Helvetica, sans-serif\" size=\"1\"><a href=\"#news\"> \\n            News</a></font></td>\\n        </tr>\\n        <tr> \\n          <td height=\"9\"><font size=\"1\"><a href=\"#newdownloads\"><img src=\"http://otn.oracle.com/images/bullets_and_symbols/red_arrow_bullet_10.gif\" width=\"12\" height=\"13\" border=\"0\"></a></font></td>\\n          <td><font face=\"Arial, Helvetica, sans-serif\" size=\"1\"><a href=\"#downloads\">Software \\n            Downloads</a></font></td>\\n        </tr>\\n        <tr> \\n          <td><font size=\"1\"><a href=\"#ou\"><img src=\"http://otn.oracle.com/images/bullets_and_symbols/red_arrow_bullet_10.gif\" width=\"12\" height=\"13\" border=\"0\"></a></font></td>\\n          <td><font face=\"Arial, Helvetica, sans-serif\" size=\"1\"><a href=\"#ou\">Oracle \\n            University</a></font></td>\\n        </tr>\\n        <tr> \\n          <td height=\"2\"><font size=\"1\"><a href=\"#events\"><img src=\"http://otn.oracle.com/images/bullets_and_symbols/red_arrow_bullet_10.gif\" width=\"12\" height=\"13\" border=\"0\"></a></font></td>\\n          <td><font face=\"Arial, Helvetica, sans-serif\" size=\"1\"><a href=\"#books\">New \\n            Books</a></font></td>\\n        </tr>\\n        <tr> \\n          <td valign=\"top\"><font size=\"1\"><a href=\"#ebn\"><img src=\"http://otn.oracle.com/images/bullets_and_symbols/red_arrow_bullet_10.gif\" width=\"12\" height=\"13\" border=\"0\"></a></font></td>\\n          <td valign=\"top\"> \\n            <p><font size=\"1\" face=\"Arial, Helvetica, sans-serif\" color=\"#000000\">Worldwide \\n              Events: <a href=\"#americas\"><br>\\n              Americas</a> | <a href=\"#emea\">EMEA</a> | <a href=\"#apac\">APAC</a></font></p>\\n          </td>\\n        </tr>\\n      </table>\\n      <p align=\"left\"><a href=\"mailto:?subject=OTN%20newsletter%20&body=Interesting%20reading%20from%20the%20Oracle%20Technology%20Network:%20%20http://otn.oracle.com/techblast\"><img src=\"http://otn.oracle.com/techblast/images/email2friend.gif\" width=\"70\" height=\"80\" border=\"0\"></a></p>\\n    </td>\\n    <td valign=\"top\" width=\"69%\" > \\n      <p><font face=\"Arial, Helvetica, sans-serif\"><a name=\"feature\"></a> <b><font size=\"4\"><i>This \\n        Month\\'s Feature: </i></font><font face=\"Arial, Helvetica, sans-serif\" size=\"4\"> \\n        <i>New Developer Services on OTN</i></font></b></font></p>\\n      <p><b><font face=\"Arial, Helvetica, sans-serif\" size=\"2\">OTN Members: Get \\n        Oracle Software on CD </font></b><font face=\"Arial, Helvetica, sans-serif\" size=\"2\"><b>Shipped \\n        to you Today!<br>\\n        </b> Order <a href=\"https://www.oracle.com/jsp/otntt/index.jsp\">OTN TechTracks</a> \\n        and receive Oracle9i Database Release 2, Oracle9i Application Server Release \\n        2, and Oracle Developer Suite (including JDeveloper) CDs for the platform \\n        of your choice. TechTracks is a one-year subscription, and it includes \\n        access to Oracle Support\\'s KnowledgeBase and CD updates shipped to you \\n        whenever there are major new releases of Oracle software. <i>Enter promo \\n        code OWC for a $50 savings during the month of July</i>.</font></p>\\n      <p><font face=\"Arial, Helvetica, sans-serif\" size=\"2\"><b>Exchange your Knowledge \\n        through OTN Community Code Services<br>\\n        </b><a href=\"http://otncast.otnxchange.oracle.com/\">OTN Community Code</a> \\n        is a web-browsable CVS repository that lets you review, customize, extend, \\n        and share Oracle-related code and coding techniques. OTN populated it \\n        with sample application projects, so that you can view sample code source \\n        online, download it, submit bugs and suggestions to the development teams, \\n        and get email notifications when code is updated. Participate in an Oracle-sponsored \\n        project, and then create your own project and share your code with the \\n        OTN community.</font></p>\\n      <p><b><font size=\"2\" face=\"Arial, Helvetica, sans-serif\">Web Services Center \\n        Now Available on OTN</font></b><font size=\"2\" face=\"Arial, Helvetica, sans-serif\"><br>\\n        The <a href=\"http://otn.oracle.com/tech/webservices/\">OTN Web Services \\n        Center</a> is a new resource for the development and deployment of Web \\n        services. Visitors to this new Center can experience live Web service \\n        examples, access the latest Web services technical information, and build \\n        their own Web services using <a href=\"http://otn.oracle.com/products/jdev/content.html\">Oracle9i \\n        JDeveloper</a>. The Web Services Center offers information of value to \\n        Web services <a href=\"http://otn.oracle.com/tech/webservices/ws_architect.html\">architects</a>, \\n        <a href=\"http://otn.oracle.com/tech/webservices/ws_appdev.html\">developers</a> \\n        and <a href=\"http://otn.oracle.com/tech/webservices/learner.html\">newcomers</a>.</font></p>\\n      <p><font size=\"2\" face=\"Arial, Helvetica, sans-serif\"><b>Win Great Prizes \\n        in the OTN Web Services Challenge</b><br>\\n        Developers are encouraged to submit their own Web services to the OTN \\n        Web Services Challenge. Entering your Web services makes you eligible \\n        for fantastic prizes, including a fully decked-out Dell mobile workstation. \\n        The Challenge starts August 1, so <a href=\"http://otn.oracle.com/tech/webservices/challenge.html\">get \\n        a head start today</a> by learning more about the rules. You can even \\n        <a href=\"http://www.oracle.com/go/?&Src=1215798&Act=21\">preregister your \\n        interest</a> in the Challenge.</font></p>\\n      <p><font size=\"2\" face=\"Arial, Helvetica, sans-serif\"><b>New Internet Seminar: \\n        J2EE and Web Services on Linux with Oracle9iAS Release 2 </b><br>\\n        <a href=\"http://www.oracle.com/go/?&Src=1377459&amp;Act=7\">Attend</a> \\n        this on-demand Internet Seminar to learn how to use Oracle9i Application \\n        Server Release 2 to develop high performance J2EE and Web Services applications \\n        on the Linux operating systems.</font></p>\\n      <p align=\"center\"><font face=\"Arial, Helvetica, sans-serif\" size=\"2\"><a name=\"newdownloads\"></a><a href=\"#feature\">This \\n        Month\\'s Feature</a> | <a href=\"#news\">News</a> | <a href=\"#downloads\">Software \\n        Downloads</a> | <a href=\"#ou\">Oracle University</a> | <a href=\"#books\">New \\n        Books</a> | <a href=\"#events\">Worldwide Events</a></font></p>\\n      <p align=\"left\"><font face=\"Arial, Helvetica, sans-serif\"><b><a name=\"news\"></a>News</b></font></p>\\n      <p align=\"left\"><b><font size=\"2\" face=\"Arial, Helvetica, sans-serif\">Special \\n        Discount on Red Hat Linux Advanced Server</font></b> <font size=\"2\" face=\"Arial, Helvetica, sans-serif\"><br>\\n        Receive up to 45% discount on the initial purchase of Red Hat Linux Advanced \\n        Server. <a href=\"http://www.oracle.com/go/?&Src=1376382&amp;Act=11\">Find \\n        out how</a>! Offer valid July 1- July 31, 2002. To get more information \\n        on Oracle and Linux, <a href=\"http://otn.oracle.com/tech/linux\">click \\n        here</a>. </font></p>\\n      <p><b><font size=\"2\" face=\"Arial, Helvetica, sans-serif\">Helping WebGain \\n        Developers Move to Oracle9i JDeveloper</font></b><font size=\"2\" face=\"Arial, Helvetica, sans-serif\"><br>\\n        With all the consolidation taking place in the Java tools space, developers \\n        are seeking tools that provide a complete and integrated environment for \\n        developing J2EE applications and Web services, and also offer security \\n        and stability for the future. Oracle9i JDeveloper delivers on all counts, \\n        and the new <a href=\"http://otn.oracle.com/products/jdev/htdocs/vcmigration/content.html\">WebGain \\n        Developer Center on OTN</a> has been created to give VisualCafe users \\n        the resources to <a href=\"http://otn.oracle.com/products/jdev/htdocs/vcmigration/move.html\">move</a> \\n        rapidly and smoothly to the integrated development environment of Oracle9i \\n        JDeveloper. <a href=\"http://www.oracle.com/ebusinessnetwork/showiseminar.html?1379826&\">Listen</a> \\n        to the interview with Ted Farrell, Oracle\\'s Senior Director of Applications \\n        Tools Technology and former WebGain CTO, on &quot;moving to Oracle9i JDeveloper&quot;. \\n        </font></p>\\n      <p><font size=\"2\" face=\"Arial, Helvetica, sans-serif\"><b>Oracle9i Application \\n        Server # 1 in ECperf Benchmarks</b> <br>\\n        In its first ECperf submissions, Oracle9i Application Server Release 2 \\n        achieved the industry\\'s best ever \\'performance\\' benchmark at 61,863 BBops/min, \\n        beating IBM by 39% and BEA by 63%. The proof is in: Oracle9iAS is still \\n        faster than IBM and BEA. Oracle9iAS also achieved the best results in \\n        the ECperf \\'price/performance\\' category at $5/BBop, 28% better than BEA\\'s \\n        top result, and 54% better than IBM\\'s top result. Get the facts: <a href=\"http://www.oracle.com/go/?&Src=1380990&amp;Act=7\">read</a> \\n        the Oracle9iAS ECperf Benchmark Report now and <a href=\"http://www.oracle.com/ebusinessnetwork/showiseminar.html?1392270\">tune \\n        into</a> a Live Internet Seminar and Q&amp;A on Wednesday, July 17 at \\n        8:00 a.m. PDT for a live presentation and discussion of these record setting \\n        results. </font></p>\\n      <p><font size=\"2\" face=\"Arial, Helvetica, sans-serif\"><b>Four Internet Seminars \\n        on the New Security Features in Oracle9i Application Server Release 2</b> \\n        <br>\\n        <a href=\"http://www.oracle.com/ip/deploy/ias/sso/index.html?iseminars.html\">Watch</a> \\n        these four Internet Seminars to learn about the new security features \\n        in Oracle9i Application Server Release 2. Oracle9i Application Server \\n        Release 2 is the first application server to offer integrated support \\n        for Single Sign-On, JAAS and an LDAP compliant directory that together \\n        let you cost efficiently secure all your J2EE applications, portals, and \\n        Web services.</font></p>\\n      <p><font size=\"2\" face=\"Arial, Helvetica, sans-serif\"><b>OTN Toolbar</b><br>\\n        Search OTN from anywhere on the internet with OTN Toolbar. <a href=\"http://otn.oracle.com/toolbar/content.html\">Download</a> \\n        today to easily gain access to many of the key features of OTN (including \\n        downloads, sample code, documentation, and discussion forums).</font></p>\\n      <p><b><font size=\"2\" face=\"Arial, Helvetica, sans-serif\">New Internet Seminar \\n        on Oracle9iAS Web Cache and ESI</font></b> <font size=\"2\" face=\"Arial, Helvetica, sans-serif\"><br>\\n        <a href=\"http://www.oracle.com/ebusinessnetwork/showiseminar.html?1293857\">Watch</a> \\n        this Internet Seminar and learn how Oracle9iAS Web Cache lets you accelerate \\n        any Web application running on any server by up to 20 times. Speed applications \\n        built in Active Server Pages, Java Server Pages, Servlets, EJBs and more. \\n        Deploy with Web servers like Apache and Microsoft IIS as well as application \\n        servers like BEA WebLogic, IBM WebSphere, Sun/iPlanet and, of course, \\n        Oracle9iAS. Best of all, Oracle9iAS Web Cache uniquely supports caching \\n        of both static and dynamically generated content without changing the \\n        application, enabling dynamic Web sites to more efficiently deliver rich \\n        content and therefore improving the user experience. </font></p>\\n      <p><font size=\"2\" face=\"Arial, Helvetica, sans-serif\"><b>Oracle9i Reports \\n        data source SDK available now</b><br>\\n        The <a href=\"http://otn.oracle.com/products/reports/apis/pdstutorial/textPDS/index.html\">Oracle9i \\n        Reports data source SDK</a> allows you to plug in your own data sources \\n        and benefit from the sophisticated report creation and distribution environment \\n        of <a href=\"http://otn.oracle.com/products/reports/content.html\">Oracle9i \\n        Reports</a>. Check out the new documentation and samples. </font></p>\\n      <p><font size=\"2\" face=\"Arial, Helvetica, sans-serif\"><b>Putting Forms on \\n        the Web </b><br>\\n        Looking to move your existing Forms application from client/server to \\n        the Web? Want the easy access and maintainability of a web deployed Forms \\n        application? Then <a href=\"http://otn.oracle.com/products/forms/pdf/forms9icstowebmigration.pdf\">check \\n        out this new paper</a>.</font></p>\\n      <p><font size=\"2\" face=\"Arial, Helvetica, sans-serif\"><b>Struts and Oracle9i \\n        JDeveloper</b><br>\\n        Here\\'s a <a href=\"http://otn.oracle.com/products/jdev/howtos/jsp/StrutsHowTo.html\">cool \\n        new article</a> with detailed instructions on how to configure and use \\n        the Jakarta Struts open source Model-View-Controller framework with <a href=\"http://otn.oracle.com/products/jdev/content.html\">Oracle9i \\n        JDeveloper</a>.</font></p>\\n      <p><font size=\"2\" face=\"Arial, Helvetica, sans-serif\"> <b>Quickstart with \\n        Oracle9i JDeveloper for BEA developers</b><br>\\n        Are you using BEA\\'s WebLogic and looking for development tools? Here is \\n        the <a href=\"http://otn.oracle.com/centers/mov2jdev\">easy way to start</a> \\n        using the award winning Oracle9i JDeveloper with WebLogic. And if you \\n        want to use the fastest J2EE container, check out the <a href=\"http://www.oracle.com/go/?&Src=1260040&Act=8\">migration \\n        kit</a> to Oracle9iAS.</font> </p>\\n      <p><b><font size=\"2\" face=\"Arial, Helvetica, sans-serif\">Wireless and Voice \\n        Made Easy With Oracle9i Application Server</font></b> <font size=\"2\" face=\"Arial, Helvetica, sans-serif\"><br>\\n        New Internet lessons give viewers the low-down on how to use the wireless \\n        and voice services of Oracle9i Application Server (Oracle9iAS Wireless) \\n        to quickly and easily give access to applications and data using any device, \\n        over any network. Learn why Oracle is a leader in wireless and voice infrastructure \\n        for yourselves! <a href=\"http://www.oracle.com/go/?&Src=1393043&amp;Act=9\">Check \\n        out</a> the new Internet lessons in the FREE Mobile eKit!</font></p>\\n      <p><font size=\"2\" face=\"Arial, Helvetica, sans-serif\"><b>Snapshot Seminar: \\n        Interwoven &amp; Oracle9iAS Content Management</b><br>\\n        Oracle and Interwoven together offer a portal ready, proven, and flexible \\n        Enterprise Content Management solution. . Watch a 15 minute on-demand \\n        <a href=\"http://www.oracle.com/go/?&Src=1295633&Act=45\">snapshot seminar</a> \\n        and learn how you can let your users control their content through a portal \\n        powered by Oracle and Interwoven. </font></p>\\n      <p><b><font size=\"2\" face=\"Arial, Helvetica, sans-serif\">Updated Oracle9iAS \\n        Portal Developer Kit (PDK) - July<br>\\n        </font></b><font size=\"2\" face=\"Arial, Helvetica, sans-serif\">The <a href=\"http://portalstudio.oracle.com\">updated \\n        Oracle9iAS Portal Developer Kit (PDK)</a> highlights portlet communication. \\n        Using the PDK, you can build smart portlets with such features as inter-portlet \\n        communication, page to portlet communication, and portlet reusability. \\n        This release includes new J2EE-based and Web Services samples. </font></p>\\n      <p><b><font size=\"2\" face=\"Arial, Helvetica, sans-serif\">Snapshot Seminar: \\n        Documentum &amp; Oracle9iAS Content Management</font></b><font size=\"2\" face=\"Arial, Helvetica, sans-serif\"><br>\\n        Oracle and Documentum now offer a joint solution to create, manage and \\n        deliver content through Web sites and portals. Watch a 15 minute on-demand \\n        <a href=\"http://www.oracle.com/go/?&Src=1295633&Act=44\">snapshot \\n        seminar</a> and learn how you can let your users control their content \\n        through a portal powered by Oracle and Documentum.</font></p>\\n      <p></p>\\n      <p align=\"center\"><font face=\"Arial, Helvetica, sans-serif\" size=\"2\"><a name=\"newdownloads\"></a><a href=\"#feature\">This \\n        Month\\'s Feature</a> | <a href=\"#news\">News</a> | <a href=\"#downloads\">Software \\n        Downloads</a> | <a href=\"#ou\">Oracle University</a> | <a href=\"#books\">New \\n        Books</a> | <a href=\"#events\">Worldwide Events</a></font></p>\\n      <p align=\"left\"><font face=\"Arial, Helvetica, sans-serif\"><b><a name=\"downloads\"></a> \\n        New Software Downloads</b></font></p>\\n      <p align=\"left\"><font size=\"2\" face=\"Arial, Helvetica, sans-serif\"><a href=\"http://otn.oracle.com/software/products/ias/devuse.html\">Oracle9i \\n        Application Server Release 2 for Windows NT/2000, AIX, and Compaq Tru64 \\n        UNIX</a> </font></p>\\n      <p><font size=\"2\" face=\"Arial, Helvetica, sans-serif\"><a href=\"http://otn.oracle.com/software/products/ias/devuse.html\">Oracle9iAS \\n        TopLink 4.6 for Linux, UNIX, and Windows NT/2000</a> </font></p>\\n      <p><font size=\"2\" face=\"Arial, Helvetica, sans-serif\"><a href=\"http://otn.oracle.com/software/products/lite/content.html\">Oracle9i \\n        Lite Release 5.0.2.0.0 for Sun SPARC Solaris</a> </font></p>\\n      <p><font size=\"2\" face=\"Arial, Helvetica, sans-serif\"><a href=\"http://otn.oracle.com/software/tech/windows/odpnet/content.html\">Oracle \\n        Data Provider for .NET (ODP.NET) Beta</a> </font></p>\\n      <p align=\"center\"><font face=\"Arial, Helvetica, sans-serif\" size=\"2\"><a name=\"newdownloads\"></a><a href=\"#feature\">This \\n        Month\\'s Feature</a> | <a href=\"#news\">News</a> | <a href=\"#downloads\">Software \\n        Downloads</a> | <a href=\"#ou\">Oracle University</a> | <a href=\"#books\">New \\n        Books</a> | <a href=\"#events\">Worldwide Events</a></font></p>\\n      <p><font face=\"Arial, Helvetica, sans-serif\" size=\"2\"><b><a name=\"ou\"></a></b></font><font face=\"Arial, Helvetica, sans-serif\"><b>Oracle \\n        University</b></font></p>\\n      <p><b><font size=\"2\" face=\"Arial, Helvetica, sans-serif\">Special Offer! \\n        Save 45% on Oracle9i DBA Certification Training</font></b> <font size=\"2\" face=\"Arial, Helvetica, sans-serif\"><br>\\n        The expanded Oracle Certification Program now offers a true certification \\n        levels that are built to fit the needs of IT professionals as well as \\n        organizations looking to hire them. Each level constitutes reaching a \\n        benchmark of experience and expertise that is industry recognized and \\n        approved. And, with each new credential can come increased opportunities, \\n        higher pay, and more benefits to keep Oracle professionals successful. \\n        </font></p>\\n      <p><font size=\"2\" face=\"Arial, Helvetica, sans-serif\">Oracle9i Certification \\n        Savings Plan &#150; Save 45% on 4 Instructor Led inClass courses. 4 for \\n        the price of 2! <a href=\"http://www.oracle.com/education/index.html?promotions.html\">Click \\n        here</a> to learn more! </font></p>\\n      </td>\\n    <td valign=\"top\" width=\"14%\" > \\n      <div align=\"center\"> \\n        <table width=\"100%\" border=\"0\" cellspacing=\"0\" cellpadding=\"1\" bgcolor=\"#FF0000\">\\n          <tr> \\n            <td bgcolor=\"#000000\"> \\n              <table width=\"100%\" border=\"0\" cellpadding=\"5\" bgcolor=\"#FFFF00\" cellspacing=\"0\">\\n                <tr> \\n                  <td bgcolor=\"#FFFFFF\" valign=\"top\"> \\n                    <p align=\"center\"><img src=\"http://otn.oracle.com/techblast/images/LightBulb.gif\" width=\"80\" height=\"109\"></p>\\n                    <p align=\"left\"><font size=\"1\" face=\"Arial, Helvetica, sans-serif\">Seeking \\n                      a new job? Check out <a href=\"http://seeker.dice.com/seeker.epl?rel_code=26&op=2&skill=oracle\">OTN \\n                      Skills Marketplace</a> for all open Oracle-trained positions.</font></p>\\n                    <p align=\"left\"><font face=\"Arial, Helvetica, sans-serif\" size=\"1\">Need \\n                      help implementing technology solutions to business problems? \\n                      <a href=\"http://otn.oracle.com/products/oracle9i/htdocs/9iober2/index.html\">Oracle9i \\n                      by Example Series tutorials</a> can save you time.</font></p>\\n                    <p align=\"left\"><font size=\"1\" face=\"Arial, Helvetica, sans-serif\">Taking \\n                      an OCP exam? OTN members, take advantage of the 20% exam \\n                      <a href=\"http://www.oracle.com/education/certification/faq/index.html?otndisc.html\">discount</a>.</font></p>\\n                    </td>\\n                </tr>\\n              </table>\\n            </td>\\n          </tr>\\n        </table>\\n      </div>\\n    </td>\\n  </tr>\\n</table>\\n</body>\\n</html>\\n\\n\\n\\n\\n\\n\\n\\n\\n\\n\\n\\n<html>\\n<head>\\n<title>Untitled Document</title>\\n<meta http-equiv=\"Content-Type\" content=\"text/html; charset=iso-8859-1\">\\n</head>\\n<body bgcolor=\"#FFFFFF\" text=\"#000000\">\\n<table width=\"100%\" border=\"0\" cellspacing=\"10\" >\\n  <tr> \\n    <td valign=\"top\" width=\"17%\" > \\n      <h5>&nbsp;</h5>\\n    </td>\\n    <td valign=\"top\" width=\"67%\" > \\n      <div align=\"center\"> \\n        <p align=\"center\"><font face=\"Arial, Helvetica, sans-serif\" size=\"2\"><a name=\"newdownloads\"></a><a href=\"#feature\">This \\n          Month\\'s Feature</a> | <a href=\"#news\">News</a> | <a href=\"#downloads\">Software \\n          Downloads</a> | <a href=\"#ou\">Oracle University</a> | <a href=\"#books\">New \\n          Books</a> | <a href=\"#events\">Worldwide Events</a></font></p>\\n        <div align=\"center\"> \\n          <div align=\"center\"> \\n            <div align=\"center\"> \\n              <p align=\"left\"><font face=\"Arial, Helvetica, sans-serif\"><b><a name=\"books\"></a>New \\n                Books </b></font></p>\\n              <p align=\"left\"><b><font size=\"2\" face=\"Arial, Helvetica, sans-serif\">Oracle9i \\n                DBA 101</font></b><font size=\"2\" face=\"Arial, Helvetica, sans-serif\"><br>\\n                <a href=\"http://shop.osborne.com/cgi-bin/oraclepress/0072224746.html\">Oracle9i \\n                DBA 101</a> by Marlene Theriault, Rachel Carmichael, &amp; James \\n                Viscusi (ISBN 0-07-222474-6) explains, step-by-step, how to effectively \\n                administer an Oracle database. Readers will find coverage of the \\n                key Oracle9i new features as well as details on the daily responsibilities \\n                of a DBA and tips on how to successfully accomplish those tasks. \\n                From the exclusive publishers of Oracle Press books, this is the \\n                ideal resource for the aspiring Oracle database administrator. \\n                </font></p>\\n              <p align=\"left\"><font size=\"2\" face=\"Arial, Helvetica, sans-serif\"><b>Oracle9i \\n                Mobile</b><br>\\n                <a href=\"http://shop.osborne.com/cgi-bin/oraclepress/007222455X.html\">Oracle9i \\n                Mobile</a> by Alan Yeung, Philip Stephenson, &amp; Nicholas Pang \\n                (ISBN 0-07-222455-X) helps readers design, deploy, and manage \\n                flexible mobile applications on the Oracle platform. From the \\n                exclusive publishers of Oracle Press books, this resource explains \\n                how to use and extend the mobile services available in Oracle9iAS \\n                Wireless and integrate with other Oracle technologies. Mobilize \\n                any e-business, reach new customers, and deliver critical information \\n                to mobile users with the most scalable and reliable mobile infrastructure \\n                available. </font></p>\\n              <p align=\"left\"><font size=\"2\" face=\"Arial, Helvetica, sans-serif\"> \\n                <b>Oracle Press User Group Program</b><br>\\n                Oracle Press has a new User Group Program! Oracle Press supports \\n                the service that User Groups provide to the technical community. \\n                We value our relationship with community-based groups and welcome \\n                the opportunity to form partnerships with User Groups to disseminate \\n                the latest technological information available in Osborne publications. \\n                Osborne encourages participation by technical User Groups that \\n                meet regularly, discuss, teach, and troubleshoot technical topics, \\n                write book reviews, and publish print and/or online newsletters. \\n                </font></p>\\n            </div>\\n          </div>\\n        </div>\\n      </div>\\n      <div align=\"left\"> \\n        <p><font size=\"2\" face=\"Arial, Helvetica, sans-serif\">Oracle Press can \\n          provide User Groups: </font></p>\\n      </div>\\n      <ul>\\n        <li> \\n          <div align=\"left\"><font size=\"2\" face=\"Arial, Helvetica, sans-serif\">Review \\n            copies of Oracle Press books for newsletter reviews </font></div>\\n        </li>\\n        <li> \\n          <div align=\"left\"><font size=\"2\" face=\"Arial, Helvetica, sans-serif\">Book \\n            donations and promotional items for User Group events </font></div>\\n        </li>\\n        <li> \\n          <div align=\"left\"><font size=\"2\" face=\"Arial, Helvetica, sans-serif\">30% \\n            discount on bulk purchases of 10 or more books </font></div>\\n        </li>\\n        <li>\\n          <div align=\"left\"><font size=\"2\" face=\"Arial, Helvetica, sans-serif\">And \\n            more...</font></div>\\n        </li>\\n      </ul>\\n      <div align=\"center\"> \\n        <div align=\"center\"> \\n          <div align=\"center\"> \\n            <div align=\"center\"> \\n              <p align=\"left\"><font size=\"2\" face=\"Arial, Helvetica, sans-serif\"> \\n                <a href=\"http://www.osborne.com/usergroups/index.shtml\">Click \\n                here</a> for complete details about Oracle Press\\' User Group Program.</font><font size=\"2\"> \\n                </font> </p>\\n              <p align=\"center\"><font face=\"Arial, Helvetica, sans-serif\" size=\"2\"><a name=\"newdownloads\"></a><a href=\"#feature\">This \\n                Month\\'s Feature</a> | <a href=\"#news\">News</a> | <a href=\"#downloads\">Software \\n                Downloads</a> | <a href=\"#ou\">Oracle University</a> | <a href=\"#books\">New \\n                Books</a> | <a href=\"#events\">Worldwide Events</a></font></p>\\n              <p align=\"left\"><font face=\"Arial, Helvetica, sans-serif\" size=\"2\"><b><a name=\"events\"></a></b></font><font face=\"Arial, Helvetica, sans-serif\"><b>Worldwide \\n                Events </b></font></p>\\n            </div>\\n            <p align=\"left\"><b><font face=\"Arial, Helvetica, sans-serif\" size=\"2\"><a name=\"americas\"></a>Americas</font></b></p>\\n            <p align=\"left\"><b><font face=\"Arial, Helvetica, sans-serif\" size=\"2\">Oracle \\n              User Group Events</font></b><font face=\"Arial, Helvetica, sans-serif\" size=\"2\"><br>\\n              <a href=\"http://otn.oracle.com/collaboration/user_group/events.html\">Find \\n              out</a> where new user group events are happening in your area. \\n              </font> </p>\\n            <p align=\"left\"><font face=\"Arial, Helvetica, sans-serif\" size=\"2\"><b><a name=\"apac\"></a>APAC</b></font></p>\\n          </div>\\n        </div>\\n      </div>\\n      <div align=\"left\"> \\n        <table width=\"100%\" border=\"0\" cellpadding=\"5\">\\n          <tr> \\n            <td width=\"16%\" height=\"47\"><b><font face=\"Arial, Helvetica, sans-serif\" size=\"2\"><a href=\"http://www.oracle.com/oracleworld\"><img src=\"http://otn.oracle.com/events/nsmailH020.gif\" align=absmiddle \\n\\t\\t\\twidth=\"104\" height=\"104\" border=\"0\"></a></font></b></td>\\n            <td width=\"84%\" valign=\"top\"><b><font face=\"Arial, Helvetica, sans-serif\" size=\"2\">OracleWorld \\n              Online - Beijing <br>\\n              </font></b><font size=\"2\" face=\"Arial, Helvetica, sans-serif\">Over \\n              5,000 industry professionals from all over China and the world gathered \\n              to learn how Oracle can help your business reduce costs, improve \\n              efficiencies, and improve the way you run your business. If you \\n              missed OracleWorld in Copenhagen, you can get all the highlights \\n              including keynotes, conference presentations and whitepapers <a href=\"http://www.oracle.com/oracleworld/online/beijing/\">online</a>.</font></td>\\n          </tr>\\n        </table>\\n        <br>\\n      </div>\\n      <p align=\"left\"><font face=\"Arial, Helvetica, sans-serif\" size=\"2\"><b>Oracle \\n        iSeminars: Free &amp; Live @ Your Desktop<br>\\n        </b> Attend a FREE Oracle APAC iSeminar to learn more about how Oracle9i \\n        - Application Server, Database &amp; Tools could provide you with a complete \\n        and cost-effective e-business infrastructure. </font></p>\\n      <div align=\"left\"></div>\\n      <div align=\"center\"> \\n        <div align=\"center\"> \\n          <div align=\"center\"> \\n            <p align=\"left\"><font face=\"Arial, Helvetica, sans-serif\" size=\"2\">Please \\n              <a href=\"http://isdapac.oracle.com/iccdocs/seminarList.shtml\">click \\n              here</a> for further information and online registration for all \\n              iseminars. (Please select correct time zone &amp; click &quot;reset&quot;). \\n              </font><font face=\"Arial, Helvetica, sans-serif\" size=\"2\">For any \\n              questions, please <a href=\"mailto:oracleisd_au@oracle.com\">email</a> \\n              us.</font> </p>\\n            <p align=\"left\"><font face=\"Arial, Helvetica, sans-serif\" size=\"2\"><b><a name=\"emea\"></a>EMEA</b></font></p>\\n            <table width=\"100%\" border=\"0\" cellpadding=\"5\">\\n              <tr> \\n                <td width=\"16%\" height=\"56\"><b><font face=\"Arial, Helvetica, sans-serif\" size=\"2\"><a href=\"http://www.oracle.com/oracleworld\"><img src=\"http://otn.oracle.com/events/nsmailH020.gif\" align=absmiddle \\n\\t\\t\\twidth=\"104\" height=\"104\" border=\"0\"></a></font></b></td>\\n                <td width=\"84%\" valign=\"top\"><b><font size=\"2\" face=\"Arial, Helvetica, sans-serif\">OracleWorld \\n                  Online - Copenhagen<br>\\n                  </font></b><font size=\"2\" face=\"Arial, Helvetica, sans-serif\">Thousands \\n                  of professionals from all over the world gathered to learn how \\n                  Oracle can help your business reduce costs, improve efficiencies, \\n                  and improve the way you run your business. If you missed OracleWorld \\n                  in Copenhagen, you can get all the highlights including keynotes, \\n                  conference presentations and whitepapers <a href=\"http://www.oracle.com/oracleworld/online/copenhagen/\">online</a>.</font></td>\\n              </tr>\\n            </table>\\n          </div>\\n        </div>\\n        <div align=\"left\"><br>\\n        </div>\\n        <div align=\"left\"><b><font size=\"2\" face=\"Arial, Helvetica, sans-serif\">Oracle \\n          Technology Days Belgian &amp; Luxembourg<br>\\n          </font></b><font size=\"2\" face=\"Arial, Helvetica, sans-serif\">Join us \\n          for the Oracle Technology Days - Featuring Oracle9i Release 2 &#150; \\n          Live, Local, Free! </font></div>\\n      </div>\\n      <p align=\"left\"><font size=\"2\" face=\"Arial, Helvetica, sans-serif\">Join \\n        us for this executive full-day event :<br>\\n        29/8/2002 - Brussels (sessions in English)<br>\\n        3/9/2002 - Gent (sessies in het Nederlands)<br>\\n        12/9/2002 - Li&egrave;ge (session en fran&ccedil;ais)</font></p>\\n      <p align=\"left\"><font size=\"2\" face=\"Arial, Helvetica, sans-serif\"><a href=\"http://www.oracle.com/go/?&Src=1336077&Act=17\">Click \\n        here</a> for more information and registration.</font></p>\\n      <p align=\"left\"><font size=\"2\" face=\"Arial, Helvetica, sans-serif\">Regards,</font></p>\\n      <p align=\"left\"><font size=\"2\" face=\"Arial, Helvetica, sans-serif\">Oracle \\n        Technology Network Team</font></p>\\n      <p align=\"left\"><font size=\"2\" face=\"Arial, Helvetica, sans-serif\"><b><font size=\"1\">UNSUBSCRIBE<br>\\n        </font></b><font size=\"1\"> When you registered at OTN, you indicated you \\n        would like to receive e-mail updates from us. If you do not want to receive \\n        future e-mails, please visit our <a href=\"http://otn.oracle.com/admin/account/membership.html\">update \\n        section</a> , log in with your username and password, and UNCHECK the \\n        I wish to receive informational e-mails box. </font></font></p>\\n      <p align=\"left\"><font size=\"1\" face=\"Arial, Helvetica, sans-serif\"><b>USERNAME \\n        AND PASSWORD QUESTIONS?<br>\\n        </b> Forget your OTN login information? Use our <a href=\"http://otn.oracle.com/admin/account/membership.html\">password \\n        lookup</a>.</font></p>\\n      <p align=\"left\"><b><font size=\"1\" face=\"Arial, Helvetica, sans-serif\">DUPLICATE \\n        MESSAGES?<br>\\n        </font></b><font face=\"Arial, Helvetica, sans-serif\" size=\"1\"> You may \\n        have multiple accounts on OTN. Please send a message to <a href=\"mailto:otn_us@oracle.com\">OTN</a> \\n        with the username you\\'re using to access http://otn.oracle.com. We\\'ll \\n        then contact you and delete the unused account. </font> \\n          </td>\\n    <td valign=\"top\" width=\"16%\" > \\n      <div align=\"center\"> </div>\\n    </td>\\n  </tr>\\n</table>\\n</body>\\n</html>\\n\\n<p><font face=\"Arial, helvetica\" size=\"1\">\\n<br>To be removed from Oracle\\'s mailing lists, send an email to: \\n<br><a href=\"mailto:unsubscribe@oracleeblast.com?subject=REMOVE OF ORACLE MAILING LIST 1400444&body=REMOVE XXXXXX.YYYYY@RUHR-UNI-BOCHUM.DE \">unsubscribe@oracleeblast.com</a> \\n<br>with the following in the message body: \\n<br>REMOVE XXXXXX.YYYYY@RUHR-UNI-BOCHUM.DE\\n<br>STOP \\n<p>\\n[250000/116/137209217] \\n</font>\\n<img src=\"http://www.oracle.com/elog/trackurl?di=1400444&si1=137209217\" border=0> \\n\\n\\n\\n\\n\\n\\n\\n\\n\\n\\n'"
      ]
     },
     "execution_count": 22,
     "metadata": {},
     "output_type": "execute_result"
    }
   ],
   "source": [
    "multimail"
   ]
  },
  {
   "cell_type": "code",
   "execution_count": 23,
   "id": "caring-fundamentals",
   "metadata": {},
   "outputs": [],
   "source": [
    "multimsg = email.message_from_string(multimail, policy=email.policy.default)"
   ]
  },
  {
   "cell_type": "code",
   "execution_count": 24,
   "id": "prerequisite-baseball",
   "metadata": {},
   "outputs": [
    {
     "name": "stdout",
     "output_type": "stream",
     "text": [
      "multipart/alternative\n",
      "text/plain\n",
      "\n",
      "\n",
      "e\n",
      "e\n",
      "ssage\n",
      "Content-type: text/plain; charset=iso-8859-1\n",
      "\n",
      "\n",
      "\n",
      "text/html\n",
      "\n",
      "<body bgcolor=\"#FFFFFF\" link=\"#000000\" vlink=\"#000000\">\n",
      "<a href=\"http://otn.oracle.com/index.html\" target=\"_top\"><img src=\"http://otn.oracle.com/otn300x65.gif\" width=300 height=65 border=0 alt=\"Oracle Technology Network\" hspace=5 vspace=5></a> \n",
      "<div align=\"center\"><font face=\"Arial, Helvetica, sans-serif\"><b><font size=\"+2\">OTN \n",
      "  TechBlast </font><font size=\"+1\"><br>\n",
      "  </font> <i>July 2002 Issue</i></b><font size=\"2\"><br>\n",
      "  <font size=\"1\">The monthly TechBlast is also available through the <a href=\"http://otn.oracle.com/techblast/index.htm\">Oracle \n",
      "  Technology Network</a> website.</font></font></font> <br>\n",
      "  <div align=\"left\"> \n",
      "    <hr>\n",
      "  </div>\n",
      "</div>\n",
      "<table width=\"100%\" border=\"0\" cellspacing=\"10\" >\n",
      "  <tr> \n",
      "    <td valign=\"top\" width=\"14%\" ><font size=\"2\" face=\"Arial, Helvetica, sans-serif\"><b>In \n",
      "      this issue:</b></font> \n",
      "      <table width=\"100%\" border=\"0\" cellspacing=\"2\" cellpadding=\"0\">\n",
      "        <tr> \n",
      "          <td><font size=\"1\"><a href=\"#topnews\"><img src=\"http://otn.oracle.com/images/bullets_and_symbols/red_arrow_bullet_10.gif\" width=\"12\" height=\"13\" border=\"0\"></a></font></td>\n",
      "          <td><font face=\"Arial, Helvetica, sans-serif\" size=\"1\"><a href=\"#feature\">This \n",
      "            Month's Feature</a></font></td>\n",
      "        </tr>\n",
      "        <tr> \n",
      "          <td height=\"12\"><font size=\"1\"><a href=\"#newdownloads\"><img src=\"http://otn.oracle.com/images/bullets_and_symbols/red_arrow_bullet_10.gif\" width=\"12\" height=\"13\" border=\"0\"></a></font></td>\n",
      "          <td><font face=\"Arial, Helvetica, sans-serif\" size=\"1\"><a href=\"#news\"> \n",
      "            News</a></font></td>\n",
      "        </tr>\n",
      "        <tr> \n",
      "          <td height=\"9\"><font size=\"1\"><a href=\"#newdownloads\"><img src=\"http://otn.oracle.com/images/bullets_and_symbols/red_arrow_bullet_10.gif\" width=\"12\" height=\"13\" border=\"0\"></a></font></td>\n",
      "          <td><font face=\"Arial, Helvetica, sans-serif\" size=\"1\"><a href=\"#downloads\">Software \n",
      "            Downloads</a></font></td>\n",
      "        </tr>\n",
      "        <tr> \n",
      "          <td><font size=\"1\"><a href=\"#ou\"><img src=\"http://otn.oracle.com/images/bullets_and_symbols/red_arrow_bullet_10.gif\" width=\"12\" height=\"13\" border=\"0\"></a></font></td>\n",
      "          <td><font face=\"Arial, Helvetica, sans-serif\" size=\"1\"><a href=\"#ou\">Oracle \n",
      "            University</a></font></td>\n",
      "        </tr>\n",
      "        <tr> \n",
      "          <td height=\"2\"><font size=\"1\"><a href=\"#events\"><img src=\"http://otn.oracle.com/images/bullets_and_symbols/red_arrow_bullet_10.gif\" width=\"12\" height=\"13\" border=\"0\"></a></font></td>\n",
      "          <td><font face=\"Arial, Helvetica, sans-serif\" size=\"1\"><a href=\"#books\">New \n",
      "            Books</a></font></td>\n",
      "        </tr>\n",
      "        <tr> \n",
      "          <td valign=\"top\"><font size=\"1\"><a href=\"#ebn\"><img src=\"http://otn.oracle.com/images/bullets_and_symbols/red_arrow_bullet_10.gif\" width=\"12\" height=\"13\" border=\"0\"></a></font></td>\n",
      "          <td valign=\"top\"> \n",
      "            <p><font size=\"1\" face=\"Arial, Helvetica, sans-serif\" color=\"#000000\">Worldwide \n",
      "              Events: <a href=\"#americas\"><br>\n",
      "              Americas</a> | <a href=\"#emea\">EMEA</a> | <a href=\"#apac\">APAC</a></font></p>\n",
      "          </td>\n",
      "        </tr>\n",
      "      </table>\n",
      "      <p align=\"left\"><a href=\"mailto:?subject=OTN%20newsletter%20&body=Interesting%20reading%20from%20the%20Oracle%20Technology%20Network:%20%20http://otn.oracle.com/techblast\"><img src=\"http://otn.oracle.com/techblast/images/email2friend.gif\" width=\"70\" height=\"80\" border=\"0\"></a></p>\n",
      "    </td>\n",
      "    <td valign=\"top\" width=\"69%\" > \n",
      "      <p><font face=\"Arial, Helvetica, sans-serif\"><a name=\"feature\"></a> <b><font size=\"4\"><i>This \n",
      "        Month's Feature: </i></font><font face=\"Arial, Helvetica, sans-serif\" size=\"4\"> \n",
      "        <i>New Developer Services on OTN</i></font></b></font></p>\n",
      "      <p><b><font face=\"Arial, Helvetica, sans-serif\" size=\"2\">OTN Members: Get \n",
      "        Oracle Software on CD </font></b><font face=\"Arial, Helvetica, sans-serif\" size=\"2\"><b>Shipped \n",
      "        to you Today!<br>\n",
      "        </b> Order <a href=\"https://www.oracle.com/jsp/otntt/index.jsp\">OTN TechTracks</a> \n",
      "        and receive Oracle9i Database Release 2, Oracle9i Application Server Release \n",
      "        2, and Oracle Developer Suite (including JDeveloper) CDs for the platform \n",
      "        of your choice. TechTracks is a one-year subscription, and it includes \n",
      "        access to Oracle Support's KnowledgeBase and CD updates shipped to you \n",
      "        whenever there are major new releases of Oracle software. <i>Enter promo \n",
      "        code OWC for a $50 savings during the month of July</i>.</font></p>\n",
      "      <p><font face=\"Arial, Helvetica, sans-serif\" size=\"2\"><b>Exchange your Knowledge \n",
      "        through OTN Community Code Services<br>\n",
      "        </b><a href=\"http://otncast.otnxchange.oracle.com/\">OTN Community Code</a> \n",
      "        is a web-browsable CVS repository that lets you review, customize, extend, \n",
      "        and share Oracle-related code and coding techniques. OTN populated it \n",
      "        with sample application projects, so that you can view sample code source \n",
      "        online, download it, submit bugs and suggestions to the development teams, \n",
      "        and get email notifications when code is updated. Participate in an Oracle-sponsored \n",
      "        project, and then create your own project and share your code with the \n",
      "        OTN community.</font></p>\n",
      "      <p><b><font size=\"2\" face=\"Arial, Helvetica, sans-serif\">Web Services Center \n",
      "        Now Available on OTN</font></b><font size=\"2\" face=\"Arial, Helvetica, sans-serif\"><br>\n",
      "        The <a href=\"http://otn.oracle.com/tech/webservices/\">OTN Web Services \n",
      "        Center</a> is a new resource for the development and deployment of Web \n",
      "        services. Visitors to this new Center can experience live Web service \n",
      "        examples, access the latest Web services technical information, and build \n",
      "        their own Web services using <a href=\"http://otn.oracle.com/products/jdev/content.html\">Oracle9i \n",
      "        JDeveloper</a>. The Web Services Center offers information of value to \n",
      "        Web services <a href=\"http://otn.oracle.com/tech/webservices/ws_architect.html\">architects</a>, \n",
      "        <a href=\"http://otn.oracle.com/tech/webservices/ws_appdev.html\">developers</a> \n",
      "        and <a href=\"http://otn.oracle.com/tech/webservices/learner.html\">newcomers</a>.</font></p>\n",
      "      <p><font size=\"2\" face=\"Arial, Helvetica, sans-serif\"><b>Win Great Prizes \n",
      "        in the OTN Web Services Challenge</b><br>\n",
      "        Developers are encouraged to submit their own Web services to the OTN \n",
      "        Web Services Challenge. Entering your Web services makes you eligible \n",
      "        for fantastic prizes, including a fully decked-out Dell mobile workstation. \n",
      "        The Challenge starts August 1, so <a href=\"http://otn.oracle.com/tech/webservices/challenge.html\">get \n",
      "        a head start today</a> by learning more about the rules. You can even \n",
      "        <a href=\"http://www.oracle.com/go/?&Src=1215798&Act=21\">preregister your \n",
      "        interest</a> in the Challenge.</font></p>\n",
      "      <p><font size=\"2\" face=\"Arial, Helvetica, sans-serif\"><b>New Internet Seminar: \n",
      "        J2EE and Web Services on Linux with Oracle9iAS Release 2 </b><br>\n",
      "        <a href=\"http://www.oracle.com/go/?&Src=1377459&amp;Act=7\">Attend</a> \n",
      "        this on-demand Internet Seminar to learn how to use Oracle9i Application \n",
      "        Server Release 2 to develop high performance J2EE and Web Services applications \n",
      "        on the Linux operating systems.</font></p>\n",
      "      <p align=\"center\"><font face=\"Arial, Helvetica, sans-serif\" size=\"2\"><a name=\"newdownloads\"></a><a href=\"#feature\">This \n",
      "        Month's Feature</a> | <a href=\"#news\">News</a> | <a href=\"#downloads\">Software \n",
      "        Downloads</a> | <a href=\"#ou\">Oracle University</a> | <a href=\"#books\">New \n",
      "        Books</a> | <a href=\"#events\">Worldwide Events</a></font></p>\n",
      "      <p align=\"left\"><font face=\"Arial, Helvetica, sans-serif\"><b><a name=\"news\"></a>News</b></font></p>\n",
      "      <p align=\"left\"><b><font size=\"2\" face=\"Arial, Helvetica, sans-serif\">Special \n",
      "        Discount on Red Hat Linux Advanced Server</font></b> <font size=\"2\" face=\"Arial, Helvetica, sans-serif\"><br>\n",
      "        Receive up to 45% discount on the initial purchase of Red Hat Linux Advanced \n",
      "        Server. <a href=\"http://www.oracle.com/go/?&Src=1376382&amp;Act=11\">Find \n",
      "        out how</a>! Offer valid July 1- July 31, 2002. To get more information \n",
      "        on Oracle and Linux, <a href=\"http://otn.oracle.com/tech/linux\">click \n",
      "        here</a>. </font></p>\n",
      "      <p><b><font size=\"2\" face=\"Arial, Helvetica, sans-serif\">Helping WebGain \n",
      "        Developers Move to Oracle9i JDeveloper</font></b><font size=\"2\" face=\"Arial, Helvetica, sans-serif\"><br>\n",
      "        With all the consolidation taking place in the Java tools space, developers \n",
      "        are seeking tools that provide a complete and integrated environment for \n",
      "        developing J2EE applications and Web services, and also offer security \n",
      "        and stability for the future. Oracle9i JDeveloper delivers on all counts, \n",
      "        and the new <a href=\"http://otn.oracle.com/products/jdev/htdocs/vcmigration/content.html\">WebGain \n",
      "        Developer Center on OTN</a> has been created to give VisualCafe users \n",
      "        the resources to <a href=\"http://otn.oracle.com/products/jdev/htdocs/vcmigration/move.html\">move</a> \n",
      "        rapidly and smoothly to the integrated development environment of Oracle9i \n",
      "        JDeveloper. <a href=\"http://www.oracle.com/ebusinessnetwork/showiseminar.html?1379826&\">Listen</a> \n",
      "        to the interview with Ted Farrell, Oracle's Senior Director of Applications \n",
      "        Tools Technology and former WebGain CTO, on &quot;moving to Oracle9i JDeveloper&quot;. \n",
      "        </font></p>\n",
      "      <p><font size=\"2\" face=\"Arial, Helvetica, sans-serif\"><b>Oracle9i Application \n",
      "        Server # 1 in ECperf Benchmarks</b> <br>\n",
      "        In its first ECperf submissions, Oracle9i Application Server Release 2 \n",
      "        achieved the industry's best ever 'performance' benchmark at 61,863 BBops/min, \n",
      "        beating IBM by 39% and BEA by 63%. The proof is in: Oracle9iAS is still \n",
      "        faster than IBM and BEA. Oracle9iAS also achieved the best results in \n",
      "        the ECperf 'price/performance' category at $5/BBop, 28% better than BEA's \n",
      "        top result, and 54% better than IBM's top result. Get the facts: <a href=\"http://www.oracle.com/go/?&Src=1380990&amp;Act=7\">read</a> \n",
      "        the Oracle9iAS ECperf Benchmark Report now and <a href=\"http://www.oracle.com/ebusinessnetwork/showiseminar.html?1392270\">tune \n",
      "        into</a> a Live Internet Seminar and Q&amp;A on Wednesday, July 17 at \n",
      "        8:00 a.m. PDT for a live presentation and discussion of these record setting \n",
      "        results. </font></p>\n",
      "      <p><font size=\"2\" face=\"Arial, Helvetica, sans-serif\"><b>Four Internet Seminars \n",
      "        on the New Security Features in Oracle9i Application Server Release 2</b> \n",
      "        <br>\n",
      "        <a href=\"http://www.oracle.com/ip/deploy/ias/sso/index.html?iseminars.html\">Watch</a> \n",
      "        these four Internet Seminars to learn about the new security features \n",
      "        in Oracle9i Application Server Release 2. Oracle9i Application Server \n",
      "        Release 2 is the first application server to offer integrated support \n",
      "        for Single Sign-On, JAAS and an LDAP compliant directory that together \n",
      "        let you cost efficiently secure all your J2EE applications, portals, and \n",
      "        Web services.</font></p>\n",
      "      <p><font size=\"2\" face=\"Arial, Helvetica, sans-serif\"><b>OTN Toolbar</b><br>\n",
      "        Search OTN from anywhere on the internet with OTN Toolbar. <a href=\"http://otn.oracle.com/toolbar/content.html\">Download</a> \n",
      "        today to easily gain access to many of the key features of OTN (including \n",
      "        downloads, sample code, documentation, and discussion forums).</font></p>\n",
      "      <p><b><font size=\"2\" face=\"Arial, Helvetica, sans-serif\">New Internet Seminar \n",
      "        on Oracle9iAS Web Cache and ESI</font></b> <font size=\"2\" face=\"Arial, Helvetica, sans-serif\"><br>\n",
      "        <a href=\"http://www.oracle.com/ebusinessnetwork/showiseminar.html?1293857\">Watch</a> \n",
      "        this Internet Seminar and learn how Oracle9iAS Web Cache lets you accelerate \n",
      "        any Web application running on any server by up to 20 times. Speed applications \n",
      "        built in Active Server Pages, Java Server Pages, Servlets, EJBs and more. \n",
      "        Deploy with Web servers like Apache and Microsoft IIS as well as application \n",
      "        servers like BEA WebLogic, IBM WebSphere, Sun/iPlanet and, of course, \n",
      "        Oracle9iAS. Best of all, Oracle9iAS Web Cache uniquely supports caching \n",
      "        of both static and dynamically generated content without changing the \n",
      "        application, enabling dynamic Web sites to more efficiently deliver rich \n",
      "        content and therefore improving the user experience. </font></p>\n",
      "      <p><font size=\"2\" face=\"Arial, Helvetica, sans-serif\"><b>Oracle9i Reports \n",
      "        data source SDK available now</b><br>\n",
      "        The <a href=\"http://otn.oracle.com/products/reports/apis/pdstutorial/textPDS/index.html\">Oracle9i \n",
      "        Reports data source SDK</a> allows you to plug in your own data sources \n",
      "        and benefit from the sophisticated report creation and distribution environment \n",
      "        of <a href=\"http://otn.oracle.com/products/reports/content.html\">Oracle9i \n",
      "        Reports</a>. Check out the new documentation and samples. </font></p>\n",
      "      <p><font size=\"2\" face=\"Arial, Helvetica, sans-serif\"><b>Putting Forms on \n",
      "        the Web </b><br>\n",
      "        Looking to move your existing Forms application from client/server to \n",
      "        the Web? Want the easy access and maintainability of a web deployed Forms \n",
      "        application? Then <a href=\"http://otn.oracle.com/products/forms/pdf/forms9icstowebmigration.pdf\">check \n",
      "        out this new paper</a>.</font></p>\n",
      "      <p><font size=\"2\" face=\"Arial, Helvetica, sans-serif\"><b>Struts and Oracle9i \n",
      "        JDeveloper</b><br>\n",
      "        Here's a <a href=\"http://otn.oracle.com/products/jdev/howtos/jsp/StrutsHowTo.html\">cool \n",
      "        new article</a> with detailed instructions on how to configure and use \n",
      "        the Jakarta Struts open source Model-View-Controller framework with <a href=\"http://otn.oracle.com/products/jdev/content.html\">Oracle9i \n",
      "        JDeveloper</a>.</font></p>\n",
      "      <p><font size=\"2\" face=\"Arial, Helvetica, sans-serif\"> <b>Quickstart with \n",
      "        Oracle9i JDeveloper for BEA developers</b><br>\n",
      "        Are you using BEA's WebLogic and looking for development tools? Here is \n",
      "        the <a href=\"http://otn.oracle.com/centers/mov2jdev\">easy way to start</a> \n",
      "        using the award winning Oracle9i JDeveloper with WebLogic. And if you \n",
      "        want to use the fastest J2EE container, check out the <a href=\"http://www.oracle.com/go/?&Src=1260040&Act=8\">migration \n",
      "        kit</a> to Oracle9iAS.</font> </p>\n",
      "      <p><b><font size=\"2\" face=\"Arial, Helvetica, sans-serif\">Wireless and Voice \n",
      "        Made Easy With Oracle9i Application Server</font></b> <font size=\"2\" face=\"Arial, Helvetica, sans-serif\"><br>\n",
      "        New Internet lessons give viewers the low-down on how to use the wireless \n",
      "        and voice services of Oracle9i Application Server (Oracle9iAS Wireless) \n",
      "        to quickly and easily give access to applications and data using any device, \n",
      "        over any network. Learn why Oracle is a leader in wireless and voice infrastructure \n",
      "        for yourselves! <a href=\"http://www.oracle.com/go/?&Src=1393043&amp;Act=9\">Check \n",
      "        out</a> the new Internet lessons in the FREE Mobile eKit!</font></p>\n",
      "      <p><font size=\"2\" face=\"Arial, Helvetica, sans-serif\"><b>Snapshot Seminar: \n",
      "        Interwoven &amp; Oracle9iAS Content Management</b><br>\n",
      "        Oracle and Interwoven together offer a portal ready, proven, and flexible \n",
      "        Enterprise Content Management solution. . Watch a 15 minute on-demand \n",
      "        <a href=\"http://www.oracle.com/go/?&Src=1295633&Act=45\">snapshot seminar</a> \n",
      "        and learn how you can let your users control their content through a portal \n",
      "        powered by Oracle and Interwoven. </font></p>\n",
      "      <p><b><font size=\"2\" face=\"Arial, Helvetica, sans-serif\">Updated Oracle9iAS \n",
      "        Portal Developer Kit (PDK) - July<br>\n",
      "        </font></b><font size=\"2\" face=\"Arial, Helvetica, sans-serif\">The <a href=\"http://portalstudio.oracle.com\">updated \n",
      "        Oracle9iAS Portal Developer Kit (PDK)</a> highlights portlet communication. \n",
      "        Using the PDK, you can build smart portlets with such features as inter-portlet \n",
      "        communication, page to portlet communication, and portlet reusability. \n",
      "        This release includes new J2EE-based and Web Services samples. </font></p>\n",
      "      <p><b><font size=\"2\" face=\"Arial, Helvetica, sans-serif\">Snapshot Seminar: \n",
      "        Documentum &amp; Oracle9iAS Content Management</font></b><font size=\"2\" face=\"Arial, Helvetica, sans-serif\"><br>\n",
      "        Oracle and Documentum now offer a joint solution to create, manage and \n",
      "        deliver content through Web sites and portals. Watch a 15 minute on-demand \n",
      "        <a href=\"http://www.oracle.com/go/?&Src=1295633&Act=44\">snapshot \n",
      "        seminar</a> and learn how you can let your users control their content \n",
      "        through a portal powered by Oracle and Documentum.</font></p>\n",
      "      <p></p>\n",
      "      <p align=\"center\"><font face=\"Arial, Helvetica, sans-serif\" size=\"2\"><a name=\"newdownloads\"></a><a href=\"#feature\">This \n",
      "        Month's Feature</a> | <a href=\"#news\">News</a> | <a href=\"#downloads\">Software \n",
      "        Downloads</a> | <a href=\"#ou\">Oracle University</a> | <a href=\"#books\">New \n",
      "        Books</a> | <a href=\"#events\">Worldwide Events</a></font></p>\n",
      "      <p align=\"left\"><font face=\"Arial, Helvetica, sans-serif\"><b><a name=\"downloads\"></a> \n",
      "        New Software Downloads</b></font></p>\n",
      "      <p align=\"left\"><font size=\"2\" face=\"Arial, Helvetica, sans-serif\"><a href=\"http://otn.oracle.com/software/products/ias/devuse.html\">Oracle9i \n",
      "        Application Server Release 2 for Windows NT/2000, AIX, and Compaq Tru64 \n",
      "        UNIX</a> </font></p>\n",
      "      <p><font size=\"2\" face=\"Arial, Helvetica, sans-serif\"><a href=\"http://otn.oracle.com/software/products/ias/devuse.html\">Oracle9iAS \n",
      "        TopLink 4.6 for Linux, UNIX, and Windows NT/2000</a> </font></p>\n",
      "      <p><font size=\"2\" face=\"Arial, Helvetica, sans-serif\"><a href=\"http://otn.oracle.com/software/products/lite/content.html\">Oracle9i \n",
      "        Lite Release 5.0.2.0.0 for Sun SPARC Solaris</a> </font></p>\n",
      "      <p><font size=\"2\" face=\"Arial, Helvetica, sans-serif\"><a href=\"http://otn.oracle.com/software/tech/windows/odpnet/content.html\">Oracle \n",
      "        Data Provider for .NET (ODP.NET) Beta</a> </font></p>\n",
      "      <p align=\"center\"><font face=\"Arial, Helvetica, sans-serif\" size=\"2\"><a name=\"newdownloads\"></a><a href=\"#feature\">This \n",
      "        Month's Feature</a> | <a href=\"#news\">News</a> | <a href=\"#downloads\">Software \n",
      "        Downloads</a> | <a href=\"#ou\">Oracle University</a> | <a href=\"#books\">New \n",
      "        Books</a> | <a href=\"#events\">Worldwide Events</a></font></p>\n",
      "      <p><font face=\"Arial, Helvetica, sans-serif\" size=\"2\"><b><a name=\"ou\"></a></b></font><font face=\"Arial, Helvetica, sans-serif\"><b>Oracle \n",
      "        University</b></font></p>\n",
      "      <p><b><font size=\"2\" face=\"Arial, Helvetica, sans-serif\">Special Offer! \n",
      "        Save 45% on Oracle9i DBA Certification Training</font></b> <font size=\"2\" face=\"Arial, Helvetica, sans-serif\"><br>\n",
      "        The expanded Oracle Certification Program now offers a true certification \n",
      "        levels that are built to fit the needs of IT professionals as well as \n",
      "        organizations looking to hire them. Each level constitutes reaching a \n",
      "        benchmark of experience and expertise that is industry recognized and \n",
      "        approved. And, with each new credential can come increased opportunities, \n",
      "        higher pay, and more benefits to keep Oracle professionals successful. \n",
      "        </font></p>\n",
      "      <p><font size=\"2\" face=\"Arial, Helvetica, sans-serif\">Oracle9i Certification \n",
      "        Savings Plan &#150; Save 45% on 4 Instructor Led inClass courses. 4 for \n",
      "        the price of 2! <a href=\"http://www.oracle.com/education/index.html?promotions.html\">Click \n",
      "        here</a> to learn more! </font></p>\n",
      "      </td>\n",
      "    <td valign=\"top\" width=\"14%\" > \n",
      "      <div align=\"center\"> \n",
      "        <table width=\"100%\" border=\"0\" cellspacing=\"0\" cellpadding=\"1\" bgcolor=\"#FF0000\">\n",
      "          <tr> \n",
      "            <td bgcolor=\"#000000\"> \n",
      "              <table width=\"100%\" border=\"0\" cellpadding=\"5\" bgcolor=\"#FFFF00\" cellspacing=\"0\">\n",
      "                <tr> \n",
      "                  <td bgcolor=\"#FFFFFF\" valign=\"top\"> \n",
      "                    <p align=\"center\"><img src=\"http://otn.oracle.com/techblast/images/LightBulb.gif\" width=\"80\" height=\"109\"></p>\n",
      "                    <p align=\"left\"><font size=\"1\" face=\"Arial, Helvetica, sans-serif\">Seeking \n",
      "                      a new job? Check out <a href=\"http://seeker.dice.com/seeker.epl?rel_code=26&op=2&skill=oracle\">OTN \n",
      "                      Skills Marketplace</a> for all open Oracle-trained positions.</font></p>\n",
      "                    <p align=\"left\"><font face=\"Arial, Helvetica, sans-serif\" size=\"1\">Need \n",
      "                      help implementing technology solutions to business problems? \n",
      "                      <a href=\"http://otn.oracle.com/products/oracle9i/htdocs/9iober2/index.html\">Oracle9i \n",
      "                      by Example Series tutorials</a> can save you time.</font></p>\n",
      "                    <p align=\"left\"><font size=\"1\" face=\"Arial, Helvetica, sans-serif\">Taking \n",
      "                      an OCP exam? OTN members, take advantage of the 20% exam \n",
      "                      <a href=\"http://www.oracle.com/education/certification/faq/index.html?otndisc.html\">discount</a>.</font></p>\n",
      "                    </td>\n",
      "                </tr>\n",
      "              </table>\n",
      "            </td>\n",
      "          </tr>\n",
      "        </table>\n",
      "      </div>\n",
      "    </td>\n",
      "  </tr>\n",
      "</table>\n",
      "</body>\n",
      "</html>\n",
      "\n",
      "\n",
      "\n",
      "\n",
      "\n",
      "\n",
      "\n",
      "\n",
      "\n",
      "\n",
      "\n",
      "<html>\n",
      "<head>\n",
      "<title>Untitled Document</title>\n",
      "<meta http-equiv=\"Content-Type\" content=\"text/html; charset=iso-8859-1\">\n",
      "</head>\n",
      "<body bgcolor=\"#FFFFFF\" text=\"#000000\">\n",
      "<table width=\"100%\" border=\"0\" cellspacing=\"10\" >\n",
      "  <tr> \n",
      "    <td valign=\"top\" width=\"17%\" > \n",
      "      <h5>&nbsp;</h5>\n",
      "    </td>\n",
      "    <td valign=\"top\" width=\"67%\" > \n",
      "      <div align=\"center\"> \n",
      "        <p align=\"center\"><font face=\"Arial, Helvetica, sans-serif\" size=\"2\"><a name=\"newdownloads\"></a><a href=\"#feature\">This \n",
      "          Month's Feature</a> | <a href=\"#news\">News</a> | <a href=\"#downloads\">Software \n",
      "          Downloads</a> | <a href=\"#ou\">Oracle University</a> | <a href=\"#books\">New \n",
      "          Books</a> | <a href=\"#events\">Worldwide Events</a></font></p>\n",
      "        <div align=\"center\"> \n",
      "          <div align=\"center\"> \n",
      "            <div align=\"center\"> \n",
      "              <p align=\"left\"><font face=\"Arial, Helvetica, sans-serif\"><b><a name=\"books\"></a>New \n",
      "                Books </b></font></p>\n",
      "              <p align=\"left\"><b><font size=\"2\" face=\"Arial, Helvetica, sans-serif\">Oracle9i \n",
      "                DBA 101</font></b><font size=\"2\" face=\"Arial, Helvetica, sans-serif\"><br>\n",
      "                <a href=\"http://shop.osborne.com/cgi-bin/oraclepress/0072224746.html\">Oracle9i \n",
      "                DBA 101</a> by Marlene Theriault, Rachel Carmichael, &amp; James \n",
      "                Viscusi (ISBN 0-07-222474-6) explains, step-by-step, how to effectively \n",
      "                administer an Oracle database. Readers will find coverage of the \n",
      "                key Oracle9i new features as well as details on the daily responsibilities \n",
      "                of a DBA and tips on how to successfully accomplish those tasks. \n",
      "                From the exclusive publishers of Oracle Press books, this is the \n",
      "                ideal resource for the aspiring Oracle database administrator. \n",
      "                </font></p>\n",
      "              <p align=\"left\"><font size=\"2\" face=\"Arial, Helvetica, sans-serif\"><b>Oracle9i \n",
      "                Mobile</b><br>\n",
      "                <a href=\"http://shop.osborne.com/cgi-bin/oraclepress/007222455X.html\">Oracle9i \n",
      "                Mobile</a> by Alan Yeung, Philip Stephenson, &amp; Nicholas Pang \n",
      "                (ISBN 0-07-222455-X) helps readers design, deploy, and manage \n",
      "                flexible mobile applications on the Oracle platform. From the \n",
      "                exclusive publishers of Oracle Press books, this resource explains \n",
      "                how to use and extend the mobile services available in Oracle9iAS \n",
      "                Wireless and integrate with other Oracle technologies. Mobilize \n",
      "                any e-business, reach new customers, and deliver critical information \n",
      "                to mobile users with the most scalable and reliable mobile infrastructure \n",
      "                available. </font></p>\n",
      "              <p align=\"left\"><font size=\"2\" face=\"Arial, Helvetica, sans-serif\"> \n",
      "                <b>Oracle Press User Group Program</b><br>\n",
      "                Oracle Press has a new User Group Program! Oracle Press supports \n",
      "                the service that User Groups provide to the technical community. \n",
      "                We value our relationship with community-based groups and welcome \n",
      "                the opportunity to form partnerships with User Groups to disseminate \n",
      "                the latest technological information available in Osborne publications. \n",
      "                Osborne encourages participation by technical User Groups that \n",
      "                meet regularly, discuss, teach, and troubleshoot technical topics, \n",
      "                write book reviews, and publish print and/or online newsletters. \n",
      "                </font></p>\n",
      "            </div>\n",
      "          </div>\n",
      "        </div>\n",
      "      </div>\n",
      "      <div align=\"left\"> \n",
      "        <p><font size=\"2\" face=\"Arial, Helvetica, sans-serif\">Oracle Press can \n",
      "          provide User Groups: </font></p>\n",
      "      </div>\n",
      "      <ul>\n",
      "        <li> \n",
      "          <div align=\"left\"><font size=\"2\" face=\"Arial, Helvetica, sans-serif\">Review \n",
      "            copies of Oracle Press books for newsletter reviews </font></div>\n",
      "        </li>\n",
      "        <li> \n",
      "          <div align=\"left\"><font size=\"2\" face=\"Arial, Helvetica, sans-serif\">Book \n",
      "            donations and promotional items for User Group events </font></div>\n",
      "        </li>\n",
      "        <li> \n",
      "          <div align=\"left\"><font size=\"2\" face=\"Arial, Helvetica, sans-serif\">30% \n",
      "            discount on bulk purchases of 10 or more books </font></div>\n",
      "        </li>\n",
      "        <li>\n",
      "          <div align=\"left\"><font size=\"2\" face=\"Arial, Helvetica, sans-serif\">And \n",
      "            more...</font></div>\n",
      "        </li>\n",
      "      </ul>\n",
      "      <div align=\"center\"> \n",
      "        <div align=\"center\"> \n",
      "          <div align=\"center\"> \n",
      "            <div align=\"center\"> \n",
      "              <p align=\"left\"><font size=\"2\" face=\"Arial, Helvetica, sans-serif\"> \n",
      "                <a href=\"http://www.osborne.com/usergroups/index.shtml\">Click \n",
      "                here</a> for complete details about Oracle Press' User Group Program.</font><font size=\"2\"> \n",
      "                </font> </p>\n",
      "              <p align=\"center\"><font face=\"Arial, Helvetica, sans-serif\" size=\"2\"><a name=\"newdownloads\"></a><a href=\"#feature\">This \n",
      "                Month's Feature</a> | <a href=\"#news\">News</a> | <a href=\"#downloads\">Software \n",
      "                Downloads</a> | <a href=\"#ou\">Oracle University</a> | <a href=\"#books\">New \n",
      "                Books</a> | <a href=\"#events\">Worldwide Events</a></font></p>\n",
      "              <p align=\"left\"><font face=\"Arial, Helvetica, sans-serif\" size=\"2\"><b><a name=\"events\"></a></b></font><font face=\"Arial, Helvetica, sans-serif\"><b>Worldwide \n",
      "                Events </b></font></p>\n",
      "            </div>\n",
      "            <p align=\"left\"><b><font face=\"Arial, Helvetica, sans-serif\" size=\"2\"><a name=\"americas\"></a>Americas</font></b></p>\n",
      "            <p align=\"left\"><b><font face=\"Arial, Helvetica, sans-serif\" size=\"2\">Oracle \n",
      "              User Group Events</font></b><font face=\"Arial, Helvetica, sans-serif\" size=\"2\"><br>\n",
      "              <a href=\"http://otn.oracle.com/collaboration/user_group/events.html\">Find \n",
      "              out</a> where new user group events are happening in your area. \n",
      "              </font> </p>\n",
      "            <p align=\"left\"><font face=\"Arial, Helvetica, sans-serif\" size=\"2\"><b><a name=\"apac\"></a>APAC</b></font></p>\n",
      "          </div>\n",
      "        </div>\n",
      "      </div>\n",
      "      <div align=\"left\"> \n",
      "        <table width=\"100%\" border=\"0\" cellpadding=\"5\">\n",
      "          <tr> \n",
      "            <td width=\"16%\" height=\"47\"><b><font face=\"Arial, Helvetica, sans-serif\" size=\"2\"><a href=\"http://www.oracle.com/oracleworld\"><img src=\"http://otn.oracle.com/events/nsmailH020.gif\" align=absmiddle \n",
      "\t\t\twidth=\"104\" height=\"104\" border=\"0\"></a></font></b></td>\n",
      "            <td width=\"84%\" valign=\"top\"><b><font face=\"Arial, Helvetica, sans-serif\" size=\"2\">OracleWorld \n",
      "              Online - Beijing <br>\n",
      "              </font></b><font size=\"2\" face=\"Arial, Helvetica, sans-serif\">Over \n",
      "              5,000 industry professionals from all over China and the world gathered \n",
      "              to learn how Oracle can help your business reduce costs, improve \n",
      "              efficiencies, and improve the way you run your business. If you \n",
      "              missed OracleWorld in Copenhagen, you can get all the highlights \n",
      "              including keynotes, conference presentations and whitepapers <a href=\"http://www.oracle.com/oracleworld/online/beijing/\">online</a>.</font></td>\n",
      "          </tr>\n",
      "        </table>\n",
      "        <br>\n",
      "      </div>\n",
      "      <p align=\"left\"><font face=\"Arial, Helvetica, sans-serif\" size=\"2\"><b>Oracle \n",
      "        iSeminars: Free &amp; Live @ Your Desktop<br>\n",
      "        </b> Attend a FREE Oracle APAC iSeminar to learn more about how Oracle9i \n",
      "        - Application Server, Database &amp; Tools could provide you with a complete \n",
      "        and cost-effective e-business infrastructure. </font></p>\n",
      "      <div align=\"left\"></div>\n",
      "      <div align=\"center\"> \n",
      "        <div align=\"center\"> \n",
      "          <div align=\"center\"> \n",
      "            <p align=\"left\"><font face=\"Arial, Helvetica, sans-serif\" size=\"2\">Please \n",
      "              <a href=\"http://isdapac.oracle.com/iccdocs/seminarList.shtml\">click \n",
      "              here</a> for further information and online registration for all \n",
      "              iseminars. (Please select correct time zone &amp; click &quot;reset&quot;). \n",
      "              </font><font face=\"Arial, Helvetica, sans-serif\" size=\"2\">For any \n",
      "              questions, please <a href=\"mailto:oracleisd_au@oracle.com\">email</a> \n",
      "              us.</font> </p>\n",
      "            <p align=\"left\"><font face=\"Arial, Helvetica, sans-serif\" size=\"2\"><b><a name=\"emea\"></a>EMEA</b></font></p>\n",
      "            <table width=\"100%\" border=\"0\" cellpadding=\"5\">\n",
      "              <tr> \n",
      "                <td width=\"16%\" height=\"56\"><b><font face=\"Arial, Helvetica, sans-serif\" size=\"2\"><a href=\"http://www.oracle.com/oracleworld\"><img src=\"http://otn.oracle.com/events/nsmailH020.gif\" align=absmiddle \n",
      "\t\t\twidth=\"104\" height=\"104\" border=\"0\"></a></font></b></td>\n",
      "                <td width=\"84%\" valign=\"top\"><b><font size=\"2\" face=\"Arial, Helvetica, sans-serif\">OracleWorld \n",
      "                  Online - Copenhagen<br>\n",
      "                  </font></b><font size=\"2\" face=\"Arial, Helvetica, sans-serif\">Thousands \n",
      "                  of professionals from all over the world gathered to learn how \n",
      "                  Oracle can help your business reduce costs, improve efficiencies, \n",
      "                  and improve the way you run your business. If you missed OracleWorld \n",
      "                  in Copenhagen, you can get all the highlights including keynotes, \n",
      "                  conference presentations and whitepapers <a href=\"http://www.oracle.com/oracleworld/online/copenhagen/\">online</a>.</font></td>\n",
      "              </tr>\n",
      "            </table>\n",
      "          </div>\n",
      "        </div>\n",
      "        <div align=\"left\"><br>\n",
      "        </div>\n",
      "        <div align=\"left\"><b><font size=\"2\" face=\"Arial, Helvetica, sans-serif\">Oracle \n",
      "          Technology Days Belgian &amp; Luxembourg<br>\n",
      "          </font></b><font size=\"2\" face=\"Arial, Helvetica, sans-serif\">Join us \n",
      "          for the Oracle Technology Days - Featuring Oracle9i Release 2 &#150; \n",
      "          Live, Local, Free! </font></div>\n",
      "      </div>\n",
      "      <p align=\"left\"><font size=\"2\" face=\"Arial, Helvetica, sans-serif\">Join \n",
      "        us for this executive full-day event :<br>\n",
      "        29/8/2002 - Brussels (sessions in English)<br>\n",
      "        3/9/2002 - Gent (sessies in het Nederlands)<br>\n",
      "        12/9/2002 - Li&egrave;ge (session en fran&ccedil;ais)</font></p>\n",
      "      <p align=\"left\"><font size=\"2\" face=\"Arial, Helvetica, sans-serif\"><a href=\"http://www.oracle.com/go/?&Src=1336077&Act=17\">Click \n",
      "        here</a> for more information and registration.</font></p>\n",
      "      <p align=\"left\"><font size=\"2\" face=\"Arial, Helvetica, sans-serif\">Regards,</font></p>\n",
      "      <p align=\"left\"><font size=\"2\" face=\"Arial, Helvetica, sans-serif\">Oracle \n",
      "        Technology Network Team</font></p>\n",
      "      <p align=\"left\"><font size=\"2\" face=\"Arial, Helvetica, sans-serif\"><b><font size=\"1\">UNSUBSCRIBE<br>\n",
      "        </font></b><font size=\"1\"> When you registered at OTN, you indicated you \n",
      "        would like to receive e-mail updates from us. If you do not want to receive \n",
      "        future e-mails, please visit our <a href=\"http://otn.oracle.com/admin/account/membership.html\">update \n",
      "        section</a> , log in with your username and password, and UNCHECK the \n",
      "        I wish to receive informational e-mails box. </font></font></p>\n",
      "      <p align=\"left\"><font size=\"1\" face=\"Arial, Helvetica, sans-serif\"><b>USERNAME \n",
      "        AND PASSWORD QUESTIONS?<br>\n",
      "        </b> Forget your OTN login information? Use our <a href=\"http://otn.oracle.com/admin/account/membership.html\">password \n",
      "        lookup</a>.</font></p>\n",
      "      <p align=\"left\"><b><font size=\"1\" face=\"Arial, Helvetica, sans-serif\">DUPLICATE \n",
      "        MESSAGES?<br>\n",
      "        </font></b><font face=\"Arial, Helvetica, sans-serif\" size=\"1\"> You may \n",
      "        have multiple accounts on OTN. Please send a message to <a href=\"mailto:otn_us@oracle.com\">OTN</a> \n",
      "        with the username you're using to access http://otn.oracle.com. We'll \n",
      "        then contact you and delete the unused account. </font> \n",
      "          </td>\n",
      "    <td valign=\"top\" width=\"16%\" > \n",
      "      <div align=\"center\"> </div>\n",
      "    </td>\n",
      "  </tr>\n",
      "</table>\n",
      "</body>\n",
      "</html>\n",
      "\n",
      "<p><font face=\"Arial, helvetica\" size=\"1\">\n",
      "<br>To be removed from Oracle's mailing lists, send an email to: \n",
      "<br><a href=\"mailto:unsubscribe@oracleeblast.com?subject=REMOVE OF ORACLE MAILING LIST 1400444&body=REMOVE XXXXXX.YYYYY@RUHR-UNI-BOCHUM.DE \">unsubscribe@oracleeblast.com</a> \n",
      "<br>with the following in the message body: \n",
      "<br>REMOVE XXXXXX.YYYYY@RUHR-UNI-BOCHUM.DE\n",
      "<br>STOP \n",
      "<p>\n",
      "[250000/116/137209217] \n",
      "</font>\n",
      "<img src=\"http://www.oracle.com/elog/trackurl?di=1400444&si1=137209217\" border=0> \n",
      "\n",
      "\n",
      "\n",
      "\n",
      "\n",
      "\n",
      "\n",
      "\n",
      "\n",
      "\n"
     ]
    }
   ],
   "source": [
    "for part in multimsg.walk():\n",
    "    ctype = part.get_content_type()\n",
    "    print(ctype)\n",
    "    if 'multipart' not in ctype:\n",
    "        print(part.get_content())"
   ]
  },
  {
   "cell_type": "code",
   "execution_count": 25,
   "id": "sought-october",
   "metadata": {},
   "outputs": [],
   "source": [
    "import sys\n",
    "sys.path.append('../src/features/')\n",
    "import build_features as bf"
   ]
  },
  {
   "cell_type": "code",
   "execution_count": 26,
   "id": "neural-messenger",
   "metadata": {},
   "outputs": [],
   "source": [
    "corpus = bf.create_corpus(lambda x: bf.get_words(bf.clean2(x)), ham_train + spam_train)"
   ]
  },
  {
   "cell_type": "code",
   "execution_count": 27,
   "id": "adopted-connectivity",
   "metadata": {},
   "outputs": [],
   "source": [
    "word_freq = pd.Series(corpus).sort_values(ascending=False)"
   ]
  },
  {
   "cell_type": "code",
   "execution_count": 28,
   "id": "incoming-nepal",
   "metadata": {},
   "outputs": [
    {
     "data": {
      "text/plain": [
       "<AxesSubplot:>"
      ]
     },
     "execution_count": 28,
     "metadata": {},
     "output_type": "execute_result"
    },
    {
     "data": {
      "image/png": "[encoded data removed]",
      "text/plain": [
       "<Figure size 432x288 with 1 Axes>"
      ]
     },
     "metadata": {
      "needs_background": "light"
     },
     "output_type": "display_data"
    }
   ],
   "source": [
    "word_freq.plot()"
   ]
  },
  {
   "cell_type": "code",
   "execution_count": 29,
   "id": "phantom-strap",
   "metadata": {},
   "outputs": [],
   "source": [
    "filt = word_freq.between(6, 2000)"
   ]
  },
  {
   "cell_type": "code",
   "execution_count": 30,
   "id": "flush-rebecca",
   "metadata": {},
   "outputs": [
    {
     "data": {
      "text/plain": [
       "<AxesSubplot:>"
      ]
     },
     "execution_count": 30,
     "metadata": {},
     "output_type": "execute_result"
    },
    {
     "data": {
      "image/png": "[encoded data removed]",
      "text/plain": [
       "<Figure size 432x288 with 1 Axes>"
      ]
     },
     "metadata": {
      "needs_background": "light"
     },
     "output_type": "display_data"
    }
   ],
   "source": [
    "word_freq[filt].plot()"
   ]
  },
  {
   "cell_type": "code",
   "execution_count": 31,
   "id": "twenty-freight",
   "metadata": {},
   "outputs": [
    {
     "data": {
      "text/plain": [
       "48750"
      ]
     },
     "execution_count": 31,
     "metadata": {},
     "output_type": "execute_result"
    }
   ],
   "source": [
    "len(word_freq)"
   ]
  },
  {
   "cell_type": "code",
   "execution_count": 32,
   "id": "quarterly-drilling",
   "metadata": {},
   "outputs": [
    {
     "data": {
      "text/plain": [
       "10039"
      ]
     },
     "execution_count": 32,
     "metadata": {},
     "output_type": "execute_result"
    }
   ],
   "source": [
    "len(word_freq[filt])"
   ]
  },
  {
   "cell_type": "code",
   "execution_count": 33,
   "id": "touched-audit",
   "metadata": {},
   "outputs": [],
   "source": [
    "X_train = bf.create_df(ham_train + spam_train, corpus, lower=6, upper=2000)"
   ]
  },
  {
   "cell_type": "code",
   "execution_count": 34,
   "id": "supported-massage",
   "metadata": {},
   "outputs": [],
   "source": [
    "y_train = pd.Series([0] * len(ham_train) + [1] * len(spam_train))"
   ]
  },
  {
   "cell_type": "code",
   "execution_count": 35,
   "id": "sublime-applicant",
   "metadata": {},
   "outputs": [
    {
     "data": {
      "text/html": [
       "<div>\n",
       "<style scoped>\n",
       "    .dataframe tbody tr th:only-of-type {\n",
       "        vertical-align: middle;\n",
       "    }\n",
       "\n",
       "    .dataframe tbody tr th {\n",
       "        vertical-align: top;\n",
       "    }\n",
       "\n",
       "    .dataframe thead th {\n",
       "        text-align: right;\n",
       "    }\n",
       "</style>\n",
       "<table border=\"1\" class=\"dataframe\">\n",
       "  <thead>\n",
       "    <tr style=\"text-align: right;\">\n",
       "      <th></th>\n",
       "      <th>just</th>\n",
       "      <th>there</th>\n",
       "      <th>what</th>\n",
       "      <th>here</th>\n",
       "      <th>new</th>\n",
       "      <th>now</th>\n",
       "      <th>time</th>\n",
       "      <th>mail</th>\n",
       "      <th>use</th>\n",
       "      <th>only</th>\n",
       "      <th>...</th>\n",
       "      <th>lappend</th>\n",
       "      <th>cart</th>\n",
       "      <th>licences</th>\n",
       "      <th>treating</th>\n",
       "      <th>explosive</th>\n",
       "      <th>eba</th>\n",
       "      <th>jukka</th>\n",
       "      <th>regulated</th>\n",
       "      <th>ffe</th>\n",
       "      <th>avid</th>\n",
       "    </tr>\n",
       "  </thead>\n",
       "  <tbody>\n",
       "    <tr>\n",
       "      <th>0</th>\n",
       "      <td>0</td>\n",
       "      <td>1</td>\n",
       "      <td>0</td>\n",
       "      <td>0</td>\n",
       "      <td>0</td>\n",
       "      <td>0</td>\n",
       "      <td>0</td>\n",
       "      <td>0</td>\n",
       "      <td>0</td>\n",
       "      <td>0</td>\n",
       "      <td>...</td>\n",
       "      <td>0</td>\n",
       "      <td>0</td>\n",
       "      <td>0</td>\n",
       "      <td>0</td>\n",
       "      <td>0</td>\n",
       "      <td>0</td>\n",
       "      <td>0</td>\n",
       "      <td>0</td>\n",
       "      <td>0</td>\n",
       "      <td>0</td>\n",
       "    </tr>\n",
       "    <tr>\n",
       "      <th>1</th>\n",
       "      <td>0</td>\n",
       "      <td>0</td>\n",
       "      <td>0</td>\n",
       "      <td>0</td>\n",
       "      <td>0</td>\n",
       "      <td>0</td>\n",
       "      <td>0</td>\n",
       "      <td>0</td>\n",
       "      <td>0</td>\n",
       "      <td>0</td>\n",
       "      <td>...</td>\n",
       "      <td>0</td>\n",
       "      <td>0</td>\n",
       "      <td>0</td>\n",
       "      <td>0</td>\n",
       "      <td>0</td>\n",
       "      <td>0</td>\n",
       "      <td>0</td>\n",
       "      <td>0</td>\n",
       "      <td>0</td>\n",
       "      <td>0</td>\n",
       "    </tr>\n",
       "    <tr>\n",
       "      <th>2</th>\n",
       "      <td>0</td>\n",
       "      <td>0</td>\n",
       "      <td>0</td>\n",
       "      <td>0</td>\n",
       "      <td>0</td>\n",
       "      <td>0</td>\n",
       "      <td>0</td>\n",
       "      <td>0</td>\n",
       "      <td>0</td>\n",
       "      <td>0</td>\n",
       "      <td>...</td>\n",
       "      <td>0</td>\n",
       "      <td>0</td>\n",
       "      <td>0</td>\n",
       "      <td>0</td>\n",
       "      <td>0</td>\n",
       "      <td>0</td>\n",
       "      <td>0</td>\n",
       "      <td>0</td>\n",
       "      <td>0</td>\n",
       "      <td>0</td>\n",
       "    </tr>\n",
       "    <tr>\n",
       "      <th>3</th>\n",
       "      <td>0</td>\n",
       "      <td>0</td>\n",
       "      <td>0</td>\n",
       "      <td>0</td>\n",
       "      <td>1</td>\n",
       "      <td>0</td>\n",
       "      <td>0</td>\n",
       "      <td>1</td>\n",
       "      <td>0</td>\n",
       "      <td>0</td>\n",
       "      <td>...</td>\n",
       "      <td>0</td>\n",
       "      <td>0</td>\n",
       "      <td>0</td>\n",
       "      <td>0</td>\n",
       "      <td>0</td>\n",
       "      <td>0</td>\n",
       "      <td>0</td>\n",
       "      <td>0</td>\n",
       "      <td>0</td>\n",
       "      <td>0</td>\n",
       "    </tr>\n",
       "    <tr>\n",
       "      <th>4</th>\n",
       "      <td>1</td>\n",
       "      <td>0</td>\n",
       "      <td>0</td>\n",
       "      <td>1</td>\n",
       "      <td>1</td>\n",
       "      <td>0</td>\n",
       "      <td>0</td>\n",
       "      <td>0</td>\n",
       "      <td>0</td>\n",
       "      <td>0</td>\n",
       "      <td>...</td>\n",
       "      <td>0</td>\n",
       "      <td>0</td>\n",
       "      <td>0</td>\n",
       "      <td>0</td>\n",
       "      <td>0</td>\n",
       "      <td>0</td>\n",
       "      <td>0</td>\n",
       "      <td>0</td>\n",
       "      <td>0</td>\n",
       "      <td>0</td>\n",
       "    </tr>\n",
       "  </tbody>\n",
       "</table>\n",
       "<p>5 rows × 10039 columns</p>\n",
       "</div>"
      ],
      "text/plain": [
       "   just  there  what  here  new  now  time  mail  use  only  ...  lappend  \\\n",
       "0     0      1     0     0    0    0     0     0    0     0  ...        0   \n",
       "1     0      0     0     0    0    0     0     0    0     0  ...        0   \n",
       "2     0      0     0     0    0    0     0     0    0     0  ...        0   \n",
       "3     0      0     0     0    1    0     0     1    0     0  ...        0   \n",
       "4     1      0     0     1    1    0     0     0    0     0  ...        0   \n",
       "\n",
       "   cart  licences  treating  explosive  eba  jukka  regulated  ffe  avid  \n",
       "0     0         0         0          0    0      0          0    0     0  \n",
       "1     0         0         0          0    0      0          0    0     0  \n",
       "2     0         0         0          0    0      0          0    0     0  \n",
       "3     0         0         0          0    0      0          0    0     0  \n",
       "4     0         0         0          0    0      0          0    0     0  \n",
       "\n",
       "[5 rows x 10039 columns]"
      ]
     },
     "execution_count": 35,
     "metadata": {},
     "output_type": "execute_result"
    }
   ],
   "source": [
    "X_train.head()"
   ]
  },
  {
   "cell_type": "code",
   "execution_count": 36,
   "id": "alpha-bolivia",
   "metadata": {},
   "outputs": [
    {
     "data": {
      "text/plain": [
       "(3582, 10039)"
      ]
     },
     "execution_count": 36,
     "metadata": {},
     "output_type": "execute_result"
    }
   ],
   "source": [
    "X_train.shape"
   ]
  },
  {
   "cell_type": "code",
   "execution_count": 37,
   "id": "multiple-forwarding",
   "metadata": {},
   "outputs": [],
   "source": [
    "import numpy as np"
   ]
  },
  {
   "cell_type": "code",
   "execution_count": 38,
   "id": "growing-infection",
   "metadata": {},
   "outputs": [],
   "source": [
    "rng = np.random.default_rng(seed=42)\n",
    "shuf = rng.permutation(np.arange(0, X_train.shape[0]))"
   ]
  },
  {
   "cell_type": "code",
   "execution_count": 39,
   "id": "final-determination",
   "metadata": {},
   "outputs": [
    {
     "data": {
      "text/plain": [
       "array([ 365, 2646,  974, ..., 1633, 3021, 1672])"
      ]
     },
     "execution_count": 39,
     "metadata": {},
     "output_type": "execute_result"
    }
   ],
   "source": [
    "shuf"
   ]
  },
  {
   "cell_type": "code",
   "execution_count": 40,
   "id": "encouraging-royal",
   "metadata": {},
   "outputs": [],
   "source": [
    "X_train = X_train.iloc[shuf].reset_index(drop=True)\n",
    "y_train = y_train[shuf].reset_index(drop=True)"
   ]
  },
  {
   "cell_type": "code",
   "execution_count": 41,
   "id": "conceptual-acoustic",
   "metadata": {},
   "outputs": [],
   "source": [
    "X_val = bf.create_df(ham_val + spam_val, corpus, lower=6, upper=2000)\n",
    "y_val = pd.Series([0] * len(ham_val) + [1] * len(spam_val))"
   ]
  },
  {
   "cell_type": "code",
   "execution_count": 42,
   "id": "italic-collector",
   "metadata": {},
   "outputs": [],
   "source": [
    "rng = np.random.default_rng(seed=42)\n",
    "shuf = rng.permutation(np.arange(0, X_val.shape[0]))"
   ]
  },
  {
   "cell_type": "code",
   "execution_count": 43,
   "id": "julian-sharp",
   "metadata": {},
   "outputs": [],
   "source": [
    "X_val = X_val.iloc[shuf].reset_index(drop=True)\n",
    "y_val = y_val[shuf].reset_index(drop=True)"
   ]
  },
  {
   "cell_type": "markdown",
   "id": "correct-lying",
   "metadata": {},
   "source": [
    "Let's train a quick model as a sanity check."
   ]
  },
  {
   "cell_type": "code",
   "execution_count": 44,
   "id": "protected-boulder",
   "metadata": {},
   "outputs": [],
   "source": [
    "from sklearn.linear_model import LogisticRegression"
   ]
  },
  {
   "cell_type": "code",
   "execution_count": 45,
   "id": "introductory-invasion",
   "metadata": {},
   "outputs": [],
   "source": [
    "clf = LogisticRegression(C=0.3).fit(X_train, y_train)"
   ]
  },
  {
   "cell_type": "code",
   "execution_count": 46,
   "id": "rapid-brook",
   "metadata": {},
   "outputs": [
    {
     "name": "stdout",
     "output_type": "stream",
     "text": [
      "Train score: 0.998324958123953\n",
      "Val score: 0.9807531380753138\n"
     ]
    }
   ],
   "source": [
    "print(\"Train score:\", clf.score(X_train, y_train))\n",
    "print(\"Val score:\", clf.score(X_val, y_val))"
   ]
  },
  {
   "cell_type": "markdown",
   "id": "lyric-ukraine",
   "metadata": {},
   "source": [
    "Not bad. We might be overfitting slightly. Seems similar to previous results.\n",
    "\n",
    "Let's try L1 regularization to extract feature importances."
   ]
  },
  {
   "cell_type": "code",
   "execution_count": 47,
   "id": "modern-battlefield",
   "metadata": {},
   "outputs": [],
   "source": [
    "clf2 = LogisticRegression(penalty='l1', solver='liblinear', C=0.3).fit(X_train, y_train)"
   ]
  },
  {
   "cell_type": "code",
   "execution_count": 48,
   "id": "genetic-exemption",
   "metadata": {},
   "outputs": [
    {
     "name": "stdout",
     "output_type": "stream",
     "text": [
      "Train score: 0.9723618090452262\n",
      "Val score: 0.9698744769874477\n"
     ]
    }
   ],
   "source": [
    "print(\"Train score:\", clf2.score(X_train, y_train))\n",
    "print(\"Val score:\", clf2.score(X_val, y_val))"
   ]
  },
  {
   "cell_type": "code",
   "execution_count": 49,
   "id": "acoustic-morgan",
   "metadata": {},
   "outputs": [],
   "source": [
    "feature_importance = pd.Series(index=X_train.columns, data=clf2.coef_[0])\n",
    "feature_importance.sort_values(inplace=True, ascending=False)"
   ]
  },
  {
   "cell_type": "code",
   "execution_count": 50,
   "id": "integral-mediterranean",
   "metadata": {},
   "outputs": [
    {
     "data": {
      "text/plain": [
       "179"
      ]
     },
     "execution_count": 50,
     "metadata": {},
     "output_type": "execute_result"
    }
   ],
   "source": [
    "sum(feature_importance != 0.0)"
   ]
  },
  {
   "cell_type": "markdown",
   "id": "waiting-equilibrium",
   "metadata": {},
   "source": [
    "So only 131 words are needed to get 96% accuracy (with C=0.15).\n",
    "\n",
    "Let's look at what words indicate spam, and which indicate ham."
   ]
  },
  {
   "cell_type": "code",
   "execution_count": 51,
   "id": "functional-therapist",
   "metadata": {},
   "outputs": [
    {
     "data": {
      "text/plain": [
       "sightings      2.670727\n",
       "click          1.473708\n",
       "guaranteed     1.182943\n",
       "marketing      1.154995\n",
       "reply          1.074679\n",
       "offer          1.070102\n",
       "please         1.025049\n",
       "credit         1.005730\n",
       "removed        0.989998\n",
       "remove         0.972045\n",
       "money          0.964491\n",
       "receive        0.942101\n",
       "investment     0.832899\n",
       "visit          0.780994\n",
       "business       0.750523\n",
       "sites          0.672106\n",
       "name           0.637962\n",
       "opportunity    0.637482\n",
       "below          0.609361\n",
       "opt            0.577942\n",
       "website        0.553165\n",
       "mortgage       0.542755\n",
       "paid           0.518498\n",
       "yourself       0.505278\n",
       "risk           0.471981\n",
       "low            0.434206\n",
       "payment        0.425213\n",
       "here           0.419099\n",
       "life           0.412356\n",
       "come           0.410781\n",
       "within         0.385239\n",
       "huge           0.384515\n",
       "dear           0.373139\n",
       "united         0.364297\n",
       "dollars        0.361267\n",
       "fax            0.359512\n",
       "increase       0.348439\n",
       "company        0.346698\n",
       "min            0.340505\n",
       "search         0.339765\n",
       "days           0.326467\n",
       "these          0.316008\n",
       "immediately    0.312045\n",
       "sending        0.279030\n",
       "finally        0.271406\n",
       "today          0.264208\n",
       "pay            0.260845\n",
       "amp            0.253516\n",
       "interest       0.250276\n",
       "best           0.238300\n",
       "dtype: float64"
      ]
     },
     "execution_count": 51,
     "metadata": {},
     "output_type": "execute_result"
    }
   ],
   "source": [
    "filt = feature_importance.gt(0.0)\n",
    "feature_importance[filt][:50]"
   ]
  },
  {
   "cell_type": "code",
   "execution_count": 52,
   "id": "dense-companion",
   "metadata": {},
   "outputs": [
    {
     "data": {
      "text/plain": [
       "site          0.227072\n",
       "less          0.202347\n",
       "need          0.190577\n",
       "hours         0.184703\n",
       "offers        0.180233\n",
       "adult         0.167590\n",
       "access        0.144379\n",
       "price         0.140686\n",
       "removal       0.129745\n",
       "internet      0.128863\n",
       "kept          0.121775\n",
       "request       0.118275\n",
       "yours         0.104775\n",
       "interested    0.096805\n",
       "loss          0.060019\n",
       "allow         0.053532\n",
       "top           0.052203\n",
       "form          0.038157\n",
       "most          0.023167\n",
       "special       0.020723\n",
       "prices        0.019292\n",
       "mailings      0.019192\n",
       "web           0.015607\n",
       "rate          0.003537\n",
       "dtype: float64"
      ]
     },
     "execution_count": 52,
     "metadata": {},
     "output_type": "execute_result"
    }
   ],
   "source": [
    "feature_importance[filt][50:100]"
   ]
  },
  {
   "cell_type": "code",
   "execution_count": 53,
   "id": "monetary-ukraine",
   "metadata": {},
   "outputs": [
    {
     "data": {
      "text/plain": [
       "last             -0.004702\n",
       "reserved         -0.011948\n",
       "seem             -0.014133\n",
       "great            -0.014622\n",
       "listinfo         -0.017088\n",
       "changes          -0.035615\n",
       "subscription     -0.035712\n",
       "communications   -0.037103\n",
       "issue            -0.038095\n",
       "off              -0.040116\n",
       "rights           -0.041796\n",
       "open             -0.050080\n",
       "comments         -0.052115\n",
       "same             -0.054442\n",
       "say              -0.055542\n",
       "use              -0.065755\n",
       "better           -0.070553\n",
       "user             -0.078809\n",
       "particular       -0.088655\n",
       "via              -0.093035\n",
       "either           -0.098588\n",
       "think            -0.112499\n",
       "things           -0.117550\n",
       "https            -0.122535\n",
       "those            -0.123785\n",
       "executive        -0.126361\n",
       "thanks           -0.126524\n",
       "between          -0.149983\n",
       "first            -0.152340\n",
       "using            -0.160495\n",
       "another          -0.162606\n",
       "group            -0.163746\n",
       "local            -0.166220\n",
       "running          -0.167791\n",
       "august           -0.176346\n",
       "should           -0.176430\n",
       "store            -0.178996\n",
       "team             -0.180154\n",
       "than             -0.181534\n",
       "had              -0.186562\n",
       "other            -0.186590\n",
       "error            -0.192270\n",
       "them             -0.197711\n",
       "how              -0.198472\n",
       "would            -0.203103\n",
       "which            -0.205767\n",
       "set              -0.213206\n",
       "isn              -0.218940\n",
       "like             -0.236076\n",
       "microsoft        -0.239693\n",
       "dtype: float64"
      ]
     },
     "execution_count": 53,
     "metadata": {},
     "output_type": "execute_result"
    }
   ],
   "source": [
    "filt = feature_importance.lt(0.0)\n",
    "feature_importance[filt][:50]"
   ]
  },
  {
   "cell_type": "code",
   "execution_count": 54,
   "id": "contained-space",
   "metadata": {},
   "outputs": [
    {
     "data": {
      "text/plain": [
       "files         -0.243085\n",
       "hardware      -0.253205\n",
       "log           -0.253545\n",
       "old           -0.258296\n",
       "docs          -0.259866\n",
       "could         -0.264196\n",
       "too           -0.267246\n",
       "don           -0.272921\n",
       "networks      -0.276188\n",
       "when          -0.276660\n",
       "lines         -0.279529\n",
       "unsubscribe   -0.300983\n",
       "rpm           -0.315981\n",
       "evil          -0.319291\n",
       "got           -0.349571\n",
       "razor         -0.368682\n",
       "try           -0.372853\n",
       "asp           -0.375014\n",
       "might         -0.384656\n",
       "server        -0.385852\n",
       "were          -0.386670\n",
       "original      -0.394979\n",
       "groups        -0.409022\n",
       "message       -0.440651\n",
       "two           -0.455930\n",
       "file          -0.465398\n",
       "spam          -0.494279\n",
       "something     -0.519142\n",
       "news          -0.549949\n",
       "what          -0.562098\n",
       "there         -0.564522\n",
       "messages      -0.600594\n",
       "gary          -0.607726\n",
       "run           -0.623687\n",
       "doesn         -0.647778\n",
       "users         -0.649978\n",
       "said          -0.661597\n",
       "september     -0.668151\n",
       "seems         -0.671239\n",
       "html          -0.759805\n",
       "together      -0.773801\n",
       "writes        -0.775730\n",
       "terms         -0.871471\n",
       "subscribed    -0.950667\n",
       "author        -1.030240\n",
       "its           -1.065830\n",
       "inc           -1.176387\n",
       "sponsor       -1.211092\n",
       "org           -1.238063\n",
       "date          -1.264186\n",
       "dtype: float64"
      ]
     },
     "execution_count": 54,
     "metadata": {},
     "output_type": "execute_result"
    }
   ],
   "source": [
    "feature_importance[filt][50:100]"
   ]
  },
  {
   "cell_type": "markdown",
   "id": "nervous-spread",
   "metadata": {},
   "source": [
    "A few things to notice:\n",
    "- the way we've extracted words chops up contractions; OTOH, contractions seem to indicate ham\n",
    "- there are a lot of prepositions and pronouns, which I wouldn't think are important\n",
    "- spam messages tend to use awkward/formal/impersonal prepositions and pronouns, like \"yourself\" and \"within\"\n",
    "- somehow, 'gary' indicates ham; it would be better to have a feature \"PROPER_NOUN\" or \"NAME\"\n",
    "- the phrase \"spamassassin\" indicates ham, which seems like it won't generalize well\n",
    "- stemming might help, since \"remove\" and \"removed\" are both of roughly equal importance for detecting spam"
   ]
  },
  {
   "cell_type": "markdown",
   "id": "bearing-assistant",
   "metadata": {},
   "source": [
    "Let's see how word frequency relates to these coefficients."
   ]
  },
  {
   "cell_type": "code",
   "execution_count": 55,
   "id": "magnetic-better",
   "metadata": {},
   "outputs": [],
   "source": [
    "word_freq = pd.Series(corpus).sort_values(ascending=False)\n",
    "filt = word_freq.between(6, 2000)"
   ]
  },
  {
   "cell_type": "code",
   "execution_count": 56,
   "id": "favorite-victorian",
   "metadata": {},
   "outputs": [],
   "source": [
    "fi_wf = pd.DataFrame({\"word_freq\": word_freq[filt], 'feature_importance': pd.Series(index=X_train.columns, data=clf2.coef_[0])})"
   ]
  },
  {
   "cell_type": "code",
   "execution_count": 57,
   "id": "temporal-hospital",
   "metadata": {},
   "outputs": [
    {
     "data": {
      "text/html": [
       "<div>\n",
       "<style scoped>\n",
       "    .dataframe tbody tr th:only-of-type {\n",
       "        vertical-align: middle;\n",
       "    }\n",
       "\n",
       "    .dataframe tbody tr th {\n",
       "        vertical-align: top;\n",
       "    }\n",
       "\n",
       "    .dataframe thead th {\n",
       "        text-align: right;\n",
       "    }\n",
       "</style>\n",
       "<table border=\"1\" class=\"dataframe\">\n",
       "  <thead>\n",
       "    <tr style=\"text-align: right;\">\n",
       "      <th></th>\n",
       "      <th>word_freq</th>\n",
       "      <th>feature_importance</th>\n",
       "    </tr>\n",
       "  </thead>\n",
       "  <tbody>\n",
       "    <tr>\n",
       "      <th>just</th>\n",
       "      <td>1996</td>\n",
       "      <td>0.000000</td>\n",
       "    </tr>\n",
       "    <tr>\n",
       "      <th>there</th>\n",
       "      <td>1988</td>\n",
       "      <td>-0.564522</td>\n",
       "    </tr>\n",
       "    <tr>\n",
       "      <th>what</th>\n",
       "      <td>1979</td>\n",
       "      <td>-0.562098</td>\n",
       "    </tr>\n",
       "    <tr>\n",
       "      <th>here</th>\n",
       "      <td>1921</td>\n",
       "      <td>0.419099</td>\n",
       "    </tr>\n",
       "    <tr>\n",
       "      <th>new</th>\n",
       "      <td>1902</td>\n",
       "      <td>0.000000</td>\n",
       "    </tr>\n",
       "  </tbody>\n",
       "</table>\n",
       "</div>"
      ],
      "text/plain": [
       "       word_freq  feature_importance\n",
       "just        1996            0.000000\n",
       "there       1988           -0.564522\n",
       "what        1979           -0.562098\n",
       "here        1921            0.419099\n",
       "new         1902            0.000000"
      ]
     },
     "execution_count": 57,
     "metadata": {},
     "output_type": "execute_result"
    }
   ],
   "source": [
    "fi_wf.head()"
   ]
  },
  {
   "cell_type": "code",
   "execution_count": 58,
   "id": "inside-volleyball",
   "metadata": {},
   "outputs": [],
   "source": [
    "import matplotlib.pyplot as plt"
   ]
  },
  {
   "cell_type": "code",
   "execution_count": 59,
   "id": "offshore-avatar",
   "metadata": {},
   "outputs": [
    {
     "data": {
      "image/png": "[encoded data removed]",
      "text/plain": [
       "<Figure size 432x288 with 1 Axes>"
      ]
     },
     "metadata": {
      "needs_background": "light"
     },
     "output_type": "display_data"
    }
   ],
   "source": [
    "plt.figure()\n",
    "filt = fi_wf['feature_importance'] != 0\n",
    "plt.scatter(fi_wf[filt]['word_freq'], fi_wf[filt]['feature_importance'], alpha=0.5)\n",
    "plt.xlabel(\"word frequency in corpus\")\n",
    "plt.ylabel(\"feature importance according to logit with L1 reg\")\n",
    "plt.show()"
   ]
  },
  {
   "cell_type": "markdown",
   "id": "colonial-yahoo",
   "metadata": {},
   "source": [
    "Word frequency and feature importance aren't correlated, but we can see that most of the import features (words) have frequency less that 1000.\n",
    "\n",
    "What if we remove coefficients with small absolute value."
   ]
  },
  {
   "cell_type": "code",
   "execution_count": 60,
   "id": "qualified-ordinary",
   "metadata": {},
   "outputs": [
    {
     "data": {
      "image/png": "[encoded data removed]",
      "text/plain": [
       "<Figure size 432x288 with 1 Axes>"
      ]
     },
     "metadata": {
      "needs_background": "light"
     },
     "output_type": "display_data"
    }
   ],
   "source": [
    "plt.figure()\n",
    "filt = abs(fi_wf['feature_importance']) > 0.9\n",
    "plt.scatter(fi_wf[filt]['word_freq'], fi_wf[filt]['feature_importance'], alpha=0.5)\n",
    "plt.xlabel(\"word frequency in corpus\")\n",
    "plt.ylabel(\"feature importance according to logit with L1 reg\")\n",
    "plt.show()"
   ]
  },
  {
   "cell_type": "markdown",
   "id": "suburban-court",
   "metadata": {},
   "source": [
    "The trend is less pronounced for features with weight outside of (-0.9, 0.9)\n",
    "\n",
    "What are the highest weighted words?"
   ]
  },
  {
   "cell_type": "code",
   "execution_count": 61,
   "id": "destroyed-jersey",
   "metadata": {},
   "outputs": [
    {
     "data": {
      "text/html": [
       "<div>\n",
       "<style scoped>\n",
       "    .dataframe tbody tr th:only-of-type {\n",
       "        vertical-align: middle;\n",
       "    }\n",
       "\n",
       "    .dataframe tbody tr th {\n",
       "        vertical-align: top;\n",
       "    }\n",
       "\n",
       "    .dataframe thead th {\n",
       "        text-align: right;\n",
       "    }\n",
       "</style>\n",
       "<table border=\"1\" class=\"dataframe\">\n",
       "  <thead>\n",
       "    <tr style=\"text-align: right;\">\n",
       "      <th></th>\n",
       "      <th>word_freq</th>\n",
       "      <th>feature_importance</th>\n",
       "    </tr>\n",
       "  </thead>\n",
       "  <tbody>\n",
       "    <tr>\n",
       "      <th>author</th>\n",
       "      <td>103</td>\n",
       "      <td>-1.030240</td>\n",
       "    </tr>\n",
       "    <tr>\n",
       "      <th>sponsor</th>\n",
       "      <td>104</td>\n",
       "      <td>-1.211092</td>\n",
       "    </tr>\n",
       "    <tr>\n",
       "      <th>subscribed</th>\n",
       "      <td>137</td>\n",
       "      <td>-0.950667</td>\n",
       "    </tr>\n",
       "    <tr>\n",
       "      <th>guaranteed</th>\n",
       "      <td>194</td>\n",
       "      <td>1.182943</td>\n",
       "    </tr>\n",
       "    <tr>\n",
       "      <th>newsisfree</th>\n",
       "      <td>205</td>\n",
       "      <td>-2.408607</td>\n",
       "    </tr>\n",
       "    <tr>\n",
       "      <th>sightings</th>\n",
       "      <td>287</td>\n",
       "      <td>2.670727</td>\n",
       "    </tr>\n",
       "    <tr>\n",
       "      <th>inc</th>\n",
       "      <td>295</td>\n",
       "      <td>-1.176387</td>\n",
       "    </tr>\n",
       "    <tr>\n",
       "      <th>reply</th>\n",
       "      <td>353</td>\n",
       "      <td>1.074679</td>\n",
       "    </tr>\n",
       "    <tr>\n",
       "      <th>offer</th>\n",
       "      <td>417</td>\n",
       "      <td>1.070102</td>\n",
       "    </tr>\n",
       "    <tr>\n",
       "      <th>marketing</th>\n",
       "      <td>419</td>\n",
       "      <td>1.154995</td>\n",
       "    </tr>\n",
       "    <tr>\n",
       "      <th>removed</th>\n",
       "      <td>458</td>\n",
       "      <td>0.989998</td>\n",
       "    </tr>\n",
       "    <tr>\n",
       "      <th>credit</th>\n",
       "      <td>510</td>\n",
       "      <td>1.005730</td>\n",
       "    </tr>\n",
       "    <tr>\n",
       "      <th>remove</th>\n",
       "      <td>573</td>\n",
       "      <td>0.972045</td>\n",
       "    </tr>\n",
       "    <tr>\n",
       "      <th>url</th>\n",
       "      <td>625</td>\n",
       "      <td>-1.771973</td>\n",
       "    </tr>\n",
       "    <tr>\n",
       "      <th>receive</th>\n",
       "      <td>672</td>\n",
       "      <td>0.942101</td>\n",
       "    </tr>\n",
       "    <tr>\n",
       "      <th>date</th>\n",
       "      <td>740</td>\n",
       "      <td>-1.264186</td>\n",
       "    </tr>\n",
       "    <tr>\n",
       "      <th>its</th>\n",
       "      <td>1030</td>\n",
       "      <td>-1.065830</td>\n",
       "    </tr>\n",
       "    <tr>\n",
       "      <th>wrote</th>\n",
       "      <td>1067</td>\n",
       "      <td>-2.992015</td>\n",
       "    </tr>\n",
       "    <tr>\n",
       "      <th>org</th>\n",
       "      <td>1076</td>\n",
       "      <td>-1.238063</td>\n",
       "    </tr>\n",
       "    <tr>\n",
       "      <th>spamassassin</th>\n",
       "      <td>1179</td>\n",
       "      <td>-1.298483</td>\n",
       "    </tr>\n",
       "    <tr>\n",
       "      <th>money</th>\n",
       "      <td>1182</td>\n",
       "      <td>0.964491</td>\n",
       "    </tr>\n",
       "    <tr>\n",
       "      <th>mailman</th>\n",
       "      <td>1201</td>\n",
       "      <td>-1.597295</td>\n",
       "    </tr>\n",
       "    <tr>\n",
       "      <th>please</th>\n",
       "      <td>1328</td>\n",
       "      <td>1.025049</td>\n",
       "    </tr>\n",
       "    <tr>\n",
       "      <th>click</th>\n",
       "      <td>1642</td>\n",
       "      <td>1.473708</td>\n",
       "    </tr>\n",
       "  </tbody>\n",
       "</table>\n",
       "</div>"
      ],
      "text/plain": [
       "              word_freq  feature_importance\n",
       "author              103           -1.030240\n",
       "sponsor             104           -1.211092\n",
       "subscribed          137           -0.950667\n",
       "guaranteed          194            1.182943\n",
       "newsisfree          205           -2.408607\n",
       "sightings           287            2.670727\n",
       "inc                 295           -1.176387\n",
       "reply               353            1.074679\n",
       "offer               417            1.070102\n",
       "marketing           419            1.154995\n",
       "removed             458            0.989998\n",
       "credit              510            1.005730\n",
       "remove              573            0.972045\n",
       "url                 625           -1.771973\n",
       "receive             672            0.942101\n",
       "date                740           -1.264186\n",
       "its                1030           -1.065830\n",
       "wrote              1067           -2.992015\n",
       "org                1076           -1.238063\n",
       "spamassassin       1179           -1.298483\n",
       "money              1182            0.964491\n",
       "mailman            1201           -1.597295\n",
       "please             1328            1.025049\n",
       "click              1642            1.473708"
      ]
     },
     "execution_count": 61,
     "metadata": {},
     "output_type": "execute_result"
    }
   ],
   "source": [
    "filt = abs(fi_wf['feature_importance']) > 0.9\n",
    "fi_wf[filt].sort_values(by='word_freq')"
   ]
  },
  {
   "cell_type": "markdown",
   "id": "whole-consolidation",
   "metadata": {},
   "source": [
    "Next step: automate feature creation so that we can experiment with variations"
   ]
  },
  {
   "cell_type": "markdown",
   "id": "major-madrid",
   "metadata": {},
   "source": [
    "## Testing build_features.py\n",
    "\n",
    "Let's check how our BagOfWords class works"
   ]
  },
  {
   "cell_type": "code",
   "execution_count": 92,
   "id": "sporting-surfing",
   "metadata": {},
   "outputs": [
    {
     "data": {
      "text/plain": [
       "<module 'build_features' from '../src/features/build_features.py'>"
      ]
     },
     "execution_count": 92,
     "metadata": {},
     "output_type": "execute_result"
    }
   ],
   "source": [
    "import importlib\n",
    "importlib.reload(bf)"
   ]
  },
  {
   "cell_type": "code",
   "execution_count": 77,
   "id": "posted-russell",
   "metadata": {},
   "outputs": [],
   "source": [
    "from build_features import BagOfWords"
   ]
  },
  {
   "cell_type": "code",
   "execution_count": 63,
   "id": "bridal-teaching",
   "metadata": {},
   "outputs": [],
   "source": [
    "bow = BagOfWords()\n",
    "bow.fit(ham_train + spam_train)"
   ]
  },
  {
   "cell_type": "code",
   "execution_count": 64,
   "id": "posted-garlic",
   "metadata": {},
   "outputs": [],
   "source": [
    "X_train = bow.transform(ham_train + spam_train)"
   ]
  },
  {
   "cell_type": "code",
   "execution_count": 65,
   "id": "eastern-rebel",
   "metadata": {},
   "outputs": [],
   "source": [
    "y_train = pd.Series([0] * len(ham_train) + [1] * len(spam_train))"
   ]
  },
  {
   "cell_type": "code",
   "execution_count": 66,
   "id": "driving-valuable",
   "metadata": {},
   "outputs": [],
   "source": [
    "X_val = bow.transform(ham_val + spam_val)"
   ]
  },
  {
   "cell_type": "code",
   "execution_count": 67,
   "id": "verbal-incidence",
   "metadata": {},
   "outputs": [],
   "source": [
    "y_val = pd.Series([0] * len(ham_val) + [1] * len(spam_val))"
   ]
  },
  {
   "cell_type": "code",
   "execution_count": 68,
   "id": "south-insight",
   "metadata": {},
   "outputs": [],
   "source": [
    "rng = np.random.default_rng(seed=42)\n",
    "shuf = rng.permutation(X_train.shape[0])"
   ]
  },
  {
   "cell_type": "code",
   "execution_count": 69,
   "id": "moderate-indiana",
   "metadata": {},
   "outputs": [],
   "source": [
    "X_train = X_train.iloc[shuf].reset_index(drop=True)\n",
    "y_train = y_train[shuf].reset_index(drop=True)"
   ]
  },
  {
   "cell_type": "code",
   "execution_count": 70,
   "id": "coated-province",
   "metadata": {},
   "outputs": [],
   "source": [
    "rng = np.random.default_rng(seed=42)\n",
    "shuf = rng.permutation(X_val.shape[0])"
   ]
  },
  {
   "cell_type": "code",
   "execution_count": 71,
   "id": "union-barrel",
   "metadata": {},
   "outputs": [],
   "source": [
    "X_val = X_val.iloc[shuf].reset_index(drop=True)\n",
    "y_val = y_val[shuf].reset_index(drop=True)"
   ]
  },
  {
   "cell_type": "code",
   "execution_count": 72,
   "id": "judicial-tradition",
   "metadata": {},
   "outputs": [
    {
     "data": {
      "text/plain": [
       "(3582, 0)"
      ]
     },
     "execution_count": 72,
     "metadata": {},
     "output_type": "execute_result"
    }
   ],
   "source": [
    "X_train.shape"
   ]
  },
  {
   "cell_type": "markdown",
   "id": "genetic-discussion",
   "metadata": {},
   "source": [
    "We didn't trim the corpus by word frequency, so our data has more features than before."
   ]
  },
  {
   "cell_type": "code",
   "execution_count": 73,
   "id": "standard-tongue",
   "metadata": {},
   "outputs": [
    {
     "ename": "ValueError",
     "evalue": "at least one array or dtype is required",
     "output_type": "error",
     "traceback": [
      "\u001b[0;31m---------------------------------------------------------------------------\u001b[0m",
      "\u001b[0;31mValueError\u001b[0m                                Traceback (most recent call last)",
      "\u001b[0;32m<ipython-input-73-7dac87753daa>\u001b[0m in \u001b[0;36m<module>\u001b[0;34m\u001b[0m\n\u001b[0;32m----> 1\u001b[0;31m \u001b[0mclf\u001b[0m \u001b[0;34m=\u001b[0m \u001b[0mLogisticRegression\u001b[0m\u001b[0;34m(\u001b[0m\u001b[0;34m)\u001b[0m\u001b[0;34m.\u001b[0m\u001b[0mfit\u001b[0m\u001b[0;34m(\u001b[0m\u001b[0mX_train\u001b[0m\u001b[0;34m,\u001b[0m \u001b[0my_train\u001b[0m\u001b[0;34m)\u001b[0m\u001b[0;34m\u001b[0m\u001b[0;34m\u001b[0m\u001b[0m\n\u001b[0m\u001b[1;32m      2\u001b[0m \u001b[0;34m\u001b[0m\u001b[0m\n\u001b[1;32m      3\u001b[0m \u001b[0mprint\u001b[0m\u001b[0;34m(\u001b[0m\u001b[0;34m'Training score:'\u001b[0m\u001b[0;34m,\u001b[0m \u001b[0mclf\u001b[0m\u001b[0;34m.\u001b[0m\u001b[0mscore\u001b[0m\u001b[0;34m(\u001b[0m\u001b[0mX_train\u001b[0m\u001b[0;34m,\u001b[0m \u001b[0my_train\u001b[0m\u001b[0;34m)\u001b[0m\u001b[0;34m)\u001b[0m\u001b[0;34m\u001b[0m\u001b[0;34m\u001b[0m\u001b[0m\n\u001b[1;32m      4\u001b[0m \u001b[0mprint\u001b[0m\u001b[0;34m(\u001b[0m\u001b[0;34m\"Validation score:\"\u001b[0m\u001b[0;34m,\u001b[0m \u001b[0mclf\u001b[0m\u001b[0;34m.\u001b[0m\u001b[0mscore\u001b[0m\u001b[0;34m(\u001b[0m\u001b[0mX_val\u001b[0m\u001b[0;34m,\u001b[0m \u001b[0my_val\u001b[0m\u001b[0;34m)\u001b[0m\u001b[0;34m)\u001b[0m\u001b[0;34m\u001b[0m\u001b[0;34m\u001b[0m\u001b[0m\n",
      "\u001b[0;32m~/miniconda3/envs/ml/lib/python3.8/site-packages/sklearn/linear_model/_logistic.py\u001b[0m in \u001b[0;36mfit\u001b[0;34m(self, X, y, sample_weight)\u001b[0m\n\u001b[1;32m   1342\u001b[0m             \u001b[0m_dtype\u001b[0m \u001b[0;34m=\u001b[0m \u001b[0;34m[\u001b[0m\u001b[0mnp\u001b[0m\u001b[0;34m.\u001b[0m\u001b[0mfloat64\u001b[0m\u001b[0;34m,\u001b[0m \u001b[0mnp\u001b[0m\u001b[0;34m.\u001b[0m\u001b[0mfloat32\u001b[0m\u001b[0;34m]\u001b[0m\u001b[0;34m\u001b[0m\u001b[0;34m\u001b[0m\u001b[0m\n\u001b[1;32m   1343\u001b[0m \u001b[0;34m\u001b[0m\u001b[0m\n\u001b[0;32m-> 1344\u001b[0;31m         X, y = self._validate_data(X, y, accept_sparse='csr', dtype=_dtype,\n\u001b[0m\u001b[1;32m   1345\u001b[0m                                    \u001b[0morder\u001b[0m\u001b[0;34m=\u001b[0m\u001b[0;34m\"C\"\u001b[0m\u001b[0;34m,\u001b[0m\u001b[0;34m\u001b[0m\u001b[0;34m\u001b[0m\u001b[0m\n\u001b[1;32m   1346\u001b[0m                                    accept_large_sparse=solver != 'liblinear')\n",
      "\u001b[0;32m~/miniconda3/envs/ml/lib/python3.8/site-packages/sklearn/base.py\u001b[0m in \u001b[0;36m_validate_data\u001b[0;34m(self, X, y, reset, validate_separately, **check_params)\u001b[0m\n\u001b[1;32m    431\u001b[0m                 \u001b[0my\u001b[0m \u001b[0;34m=\u001b[0m \u001b[0mcheck_array\u001b[0m\u001b[0;34m(\u001b[0m\u001b[0my\u001b[0m\u001b[0;34m,\u001b[0m \u001b[0;34m**\u001b[0m\u001b[0mcheck_y_params\u001b[0m\u001b[0;34m)\u001b[0m\u001b[0;34m\u001b[0m\u001b[0;34m\u001b[0m\u001b[0m\n\u001b[1;32m    432\u001b[0m             \u001b[0;32melse\u001b[0m\u001b[0;34m:\u001b[0m\u001b[0;34m\u001b[0m\u001b[0;34m\u001b[0m\u001b[0m\n\u001b[0;32m--> 433\u001b[0;31m                 \u001b[0mX\u001b[0m\u001b[0;34m,\u001b[0m \u001b[0my\u001b[0m \u001b[0;34m=\u001b[0m \u001b[0mcheck_X_y\u001b[0m\u001b[0;34m(\u001b[0m\u001b[0mX\u001b[0m\u001b[0;34m,\u001b[0m \u001b[0my\u001b[0m\u001b[0;34m,\u001b[0m \u001b[0;34m**\u001b[0m\u001b[0mcheck_params\u001b[0m\u001b[0;34m)\u001b[0m\u001b[0;34m\u001b[0m\u001b[0;34m\u001b[0m\u001b[0m\n\u001b[0m\u001b[1;32m    434\u001b[0m             \u001b[0mout\u001b[0m \u001b[0;34m=\u001b[0m \u001b[0mX\u001b[0m\u001b[0;34m,\u001b[0m \u001b[0my\u001b[0m\u001b[0;34m\u001b[0m\u001b[0;34m\u001b[0m\u001b[0m\n\u001b[1;32m    435\u001b[0m \u001b[0;34m\u001b[0m\u001b[0m\n",
      "\u001b[0;32m~/miniconda3/envs/ml/lib/python3.8/site-packages/sklearn/utils/validation.py\u001b[0m in \u001b[0;36minner_f\u001b[0;34m(*args, **kwargs)\u001b[0m\n\u001b[1;32m     61\u001b[0m             \u001b[0mextra_args\u001b[0m \u001b[0;34m=\u001b[0m \u001b[0mlen\u001b[0m\u001b[0;34m(\u001b[0m\u001b[0margs\u001b[0m\u001b[0;34m)\u001b[0m \u001b[0;34m-\u001b[0m \u001b[0mlen\u001b[0m\u001b[0;34m(\u001b[0m\u001b[0mall_args\u001b[0m\u001b[0;34m)\u001b[0m\u001b[0;34m\u001b[0m\u001b[0;34m\u001b[0m\u001b[0m\n\u001b[1;32m     62\u001b[0m             \u001b[0;32mif\u001b[0m \u001b[0mextra_args\u001b[0m \u001b[0;34m<=\u001b[0m \u001b[0;36m0\u001b[0m\u001b[0;34m:\u001b[0m\u001b[0;34m\u001b[0m\u001b[0;34m\u001b[0m\u001b[0m\n\u001b[0;32m---> 63\u001b[0;31m                 \u001b[0;32mreturn\u001b[0m \u001b[0mf\u001b[0m\u001b[0;34m(\u001b[0m\u001b[0;34m*\u001b[0m\u001b[0margs\u001b[0m\u001b[0;34m,\u001b[0m \u001b[0;34m**\u001b[0m\u001b[0mkwargs\u001b[0m\u001b[0;34m)\u001b[0m\u001b[0;34m\u001b[0m\u001b[0;34m\u001b[0m\u001b[0m\n\u001b[0m\u001b[1;32m     64\u001b[0m \u001b[0;34m\u001b[0m\u001b[0m\n\u001b[1;32m     65\u001b[0m             \u001b[0;31m# extra_args > 0\u001b[0m\u001b[0;34m\u001b[0m\u001b[0;34m\u001b[0m\u001b[0;34m\u001b[0m\u001b[0m\n",
      "\u001b[0;32m~/miniconda3/envs/ml/lib/python3.8/site-packages/sklearn/utils/validation.py\u001b[0m in \u001b[0;36mcheck_X_y\u001b[0;34m(X, y, accept_sparse, accept_large_sparse, dtype, order, copy, force_all_finite, ensure_2d, allow_nd, multi_output, ensure_min_samples, ensure_min_features, y_numeric, estimator)\u001b[0m\n\u001b[1;32m    812\u001b[0m         \u001b[0;32mraise\u001b[0m \u001b[0mValueError\u001b[0m\u001b[0;34m(\u001b[0m\u001b[0;34m\"y cannot be None\"\u001b[0m\u001b[0;34m)\u001b[0m\u001b[0;34m\u001b[0m\u001b[0;34m\u001b[0m\u001b[0m\n\u001b[1;32m    813\u001b[0m \u001b[0;34m\u001b[0m\u001b[0m\n\u001b[0;32m--> 814\u001b[0;31m     X = check_array(X, accept_sparse=accept_sparse,\n\u001b[0m\u001b[1;32m    815\u001b[0m                     \u001b[0maccept_large_sparse\u001b[0m\u001b[0;34m=\u001b[0m\u001b[0maccept_large_sparse\u001b[0m\u001b[0;34m,\u001b[0m\u001b[0;34m\u001b[0m\u001b[0;34m\u001b[0m\u001b[0m\n\u001b[1;32m    816\u001b[0m                     \u001b[0mdtype\u001b[0m\u001b[0;34m=\u001b[0m\u001b[0mdtype\u001b[0m\u001b[0;34m,\u001b[0m \u001b[0morder\u001b[0m\u001b[0;34m=\u001b[0m\u001b[0morder\u001b[0m\u001b[0;34m,\u001b[0m \u001b[0mcopy\u001b[0m\u001b[0;34m=\u001b[0m\u001b[0mcopy\u001b[0m\u001b[0;34m,\u001b[0m\u001b[0;34m\u001b[0m\u001b[0;34m\u001b[0m\u001b[0m\n",
      "\u001b[0;32m~/miniconda3/envs/ml/lib/python3.8/site-packages/sklearn/utils/validation.py\u001b[0m in \u001b[0;36minner_f\u001b[0;34m(*args, **kwargs)\u001b[0m\n\u001b[1;32m     61\u001b[0m             \u001b[0mextra_args\u001b[0m \u001b[0;34m=\u001b[0m \u001b[0mlen\u001b[0m\u001b[0;34m(\u001b[0m\u001b[0margs\u001b[0m\u001b[0;34m)\u001b[0m \u001b[0;34m-\u001b[0m \u001b[0mlen\u001b[0m\u001b[0;34m(\u001b[0m\u001b[0mall_args\u001b[0m\u001b[0;34m)\u001b[0m\u001b[0;34m\u001b[0m\u001b[0;34m\u001b[0m\u001b[0m\n\u001b[1;32m     62\u001b[0m             \u001b[0;32mif\u001b[0m \u001b[0mextra_args\u001b[0m \u001b[0;34m<=\u001b[0m \u001b[0;36m0\u001b[0m\u001b[0;34m:\u001b[0m\u001b[0;34m\u001b[0m\u001b[0;34m\u001b[0m\u001b[0m\n\u001b[0;32m---> 63\u001b[0;31m                 \u001b[0;32mreturn\u001b[0m \u001b[0mf\u001b[0m\u001b[0;34m(\u001b[0m\u001b[0;34m*\u001b[0m\u001b[0margs\u001b[0m\u001b[0;34m,\u001b[0m \u001b[0;34m**\u001b[0m\u001b[0mkwargs\u001b[0m\u001b[0;34m)\u001b[0m\u001b[0;34m\u001b[0m\u001b[0;34m\u001b[0m\u001b[0m\n\u001b[0m\u001b[1;32m     64\u001b[0m \u001b[0;34m\u001b[0m\u001b[0m\n\u001b[1;32m     65\u001b[0m             \u001b[0;31m# extra_args > 0\u001b[0m\u001b[0;34m\u001b[0m\u001b[0;34m\u001b[0m\u001b[0;34m\u001b[0m\u001b[0m\n",
      "\u001b[0;32m~/miniconda3/envs/ml/lib/python3.8/site-packages/sklearn/utils/validation.py\u001b[0m in \u001b[0;36mcheck_array\u001b[0;34m(array, accept_sparse, accept_large_sparse, dtype, order, copy, force_all_finite, ensure_2d, allow_nd, ensure_min_samples, ensure_min_features, estimator)\u001b[0m\n\u001b[1;32m    538\u001b[0m \u001b[0;34m\u001b[0m\u001b[0m\n\u001b[1;32m    539\u001b[0m         \u001b[0;32mif\u001b[0m \u001b[0mall\u001b[0m\u001b[0;34m(\u001b[0m\u001b[0misinstance\u001b[0m\u001b[0;34m(\u001b[0m\u001b[0mdtype\u001b[0m\u001b[0;34m,\u001b[0m \u001b[0mnp\u001b[0m\u001b[0;34m.\u001b[0m\u001b[0mdtype\u001b[0m\u001b[0;34m)\u001b[0m \u001b[0;32mfor\u001b[0m \u001b[0mdtype\u001b[0m \u001b[0;32min\u001b[0m \u001b[0mdtypes_orig\u001b[0m\u001b[0;34m)\u001b[0m\u001b[0;34m:\u001b[0m\u001b[0;34m\u001b[0m\u001b[0;34m\u001b[0m\u001b[0m\n\u001b[0;32m--> 540\u001b[0;31m             \u001b[0mdtype_orig\u001b[0m \u001b[0;34m=\u001b[0m \u001b[0mnp\u001b[0m\u001b[0;34m.\u001b[0m\u001b[0mresult_type\u001b[0m\u001b[0;34m(\u001b[0m\u001b[0;34m*\u001b[0m\u001b[0mdtypes_orig\u001b[0m\u001b[0;34m)\u001b[0m\u001b[0;34m\u001b[0m\u001b[0;34m\u001b[0m\u001b[0m\n\u001b[0m\u001b[1;32m    541\u001b[0m \u001b[0;34m\u001b[0m\u001b[0m\n\u001b[1;32m    542\u001b[0m     \u001b[0;32mif\u001b[0m \u001b[0mdtype_numeric\u001b[0m\u001b[0;34m:\u001b[0m\u001b[0;34m\u001b[0m\u001b[0;34m\u001b[0m\u001b[0m\n",
      "\u001b[0;32m<__array_function__ internals>\u001b[0m in \u001b[0;36mresult_type\u001b[0;34m(*args, **kwargs)\u001b[0m\n",
      "\u001b[0;31mValueError\u001b[0m: at least one array or dtype is required"
     ]
    }
   ],
   "source": [
    "clf = LogisticRegression().fit(X_train, y_train)\n",
    "\n",
    "print('Training score:', clf.score(X_train, y_train))\n",
    "print(\"Validation score:\", clf.score(X_val, y_val))"
   ]
  },
  {
   "cell_type": "code",
   "execution_count": 78,
   "id": "logical-sucking",
   "metadata": {},
   "outputs": [],
   "source": [
    "import random\n",
    "\n",
    "def unzip(x):\n",
    "    y, z = zip(*x)\n",
    "    return list(y), list(z)\n",
    "\n",
    "def get_raw_data(type='train', seed=42):\n",
    "    INT_PATH = '../data/interim/'\n",
    "    if type in ('train', 'val', 'test'):\n",
    "        with open(INT_PATH + f'ham_{type}.pkl', 'rb') as f:\n",
    "            ham = pickle.load(f)\n",
    "        with open(INT_PATH + f'spam_{type}.pkl', 'rb') as f:\n",
    "            spam = pickle.load(f)\n",
    "        raw = [(x, 0) for x in ham] + [(x, 1) for x in spam]\n",
    "        random.seed(seed)\n",
    "        random.shuffle(raw)\n",
    "        X, y = unzip(raw)\n",
    "        return X, pd.Series(y)\n",
    "    else:\n",
    "        raise ValueError(f'Type \"{type}\" not recognized. Please enter \"train\", \"val\", or \"test\".')"
   ]
  },
  {
   "cell_type": "code",
   "execution_count": 79,
   "id": "better-quilt",
   "metadata": {},
   "outputs": [
    {
     "ename": "ValueError",
     "evalue": "Type \"validation\" not recognized. Please enter \"train\", \"val\", or \"test\".",
     "output_type": "error",
     "traceback": [
      "\u001b[0;31m---------------------------------------------------------------------------\u001b[0m",
      "\u001b[0;31mValueError\u001b[0m                                Traceback (most recent call last)",
      "\u001b[0;32m<ipython-input-79-ef1b4828fc0f>\u001b[0m in \u001b[0;36m<module>\u001b[0;34m\u001b[0m\n\u001b[0;32m----> 1\u001b[0;31m \u001b[0mget_raw_data\u001b[0m\u001b[0;34m(\u001b[0m\u001b[0;34m'validation'\u001b[0m\u001b[0;34m)\u001b[0m\u001b[0;34m\u001b[0m\u001b[0;34m\u001b[0m\u001b[0m\n\u001b[0m",
      "\u001b[0;32m<ipython-input-78-cb7669142555>\u001b[0m in \u001b[0;36mget_raw_data\u001b[0;34m(type, seed)\u001b[0m\n\u001b[1;32m     18\u001b[0m         \u001b[0;32mreturn\u001b[0m \u001b[0mX\u001b[0m\u001b[0;34m,\u001b[0m \u001b[0mpd\u001b[0m\u001b[0;34m.\u001b[0m\u001b[0mSeries\u001b[0m\u001b[0;34m(\u001b[0m\u001b[0my\u001b[0m\u001b[0;34m)\u001b[0m\u001b[0;34m\u001b[0m\u001b[0;34m\u001b[0m\u001b[0m\n\u001b[1;32m     19\u001b[0m     \u001b[0;32melse\u001b[0m\u001b[0;34m:\u001b[0m\u001b[0;34m\u001b[0m\u001b[0;34m\u001b[0m\u001b[0m\n\u001b[0;32m---> 20\u001b[0;31m         \u001b[0;32mraise\u001b[0m \u001b[0mValueError\u001b[0m\u001b[0;34m(\u001b[0m\u001b[0;34mf'Type \"{type}\" not recognized. Please enter \"train\", \"val\", or \"test\".'\u001b[0m\u001b[0;34m)\u001b[0m\u001b[0;34m\u001b[0m\u001b[0;34m\u001b[0m\u001b[0m\n\u001b[0m",
      "\u001b[0;31mValueError\u001b[0m: Type \"validation\" not recognized. Please enter \"train\", \"val\", or \"test\"."
     ]
    }
   ],
   "source": [
    "get_raw_data('validation')"
   ]
  },
  {
   "cell_type": "code",
   "execution_count": 80,
   "id": "thermal-ideal",
   "metadata": {},
   "outputs": [],
   "source": [
    "X_train_raw, y_train = get_raw_data('train')"
   ]
  },
  {
   "cell_type": "code",
   "execution_count": 81,
   "id": "residential-times",
   "metadata": {},
   "outputs": [],
   "source": [
    "X_val_raw, y_val = get_raw_data('val')"
   ]
  },
  {
   "cell_type": "code",
   "execution_count": 82,
   "id": "mechanical-genius",
   "metadata": {
    "scrolled": true
   },
   "outputs": [
    {
     "data": {
      "text/plain": [
       "'From fork-admin@xent.com  Fri Sep 20 16:15:28 2002\\nReturn-Path: <fork-admin@xent.com>\\nDelivered-To: yyyy@localhost.spamassassin.taint.org\\nReceived: from localhost (jalapeno [127.0.0.1])\\n\\tby jmason.org (Postfix) with ESMTP id 2B7D716F03\\n\\tfor <jm@localhost>; Fri, 20 Sep 2002 16:15:27 +0100 (IST)\\nReceived: from jalapeno [127.0.0.1]\\n\\tby localhost with IMAP (fetchmail-5.9.0)\\n\\tfor jm@localhost (single-drop); Fri, 20 Sep 2002 16:15:27 +0100 (IST)\\nReceived: from xent.com ([64.161.22.236]) by dogma.slashnull.org\\n    (8.11.6/8.11.6) with ESMTP id g8KDVtC07056 for <jm@jmason.org>;\\n    Fri, 20 Sep 2002 14:31:55 +0100\\nReceived: from lair.xent.com (localhost [127.0.0.1]) by xent.com (Postfix)\\n    with ESMTP id DE396294177; Fri, 20 Sep 2002 06:28:12 -0700 (PDT)\\nDelivered-To: fork@spamassassin.taint.org\\nReceived: from imo-d10.mx.aol.com (imo-d10.mx.aol.com [205.188.157.42]) by\\n    xent.com (Postfix) with ESMTP id 6519529409C for <fork@xent.com>;\\n    Fri, 20 Sep 2002 06:27:22 -0700 (PDT)\\nReceived: from ThosStew@aol.com by imo-d10.mx.aol.com (mail_out_v34.11.)\\n    id k.53.1c91dda8 (3310); Fri, 20 Sep 2002 09:30:30 -0400 (EDT)\\nFrom: ThosStew@aol.com\\nMessage-Id: <53.1c91dda8.2abc7cf6@aol.com>\\nSubject: Re: [meta-forkage]\\nTo: dl@silcom.com, fork@spamassassin.taint.org\\nMIME-Version: 1.0\\nContent-Type: text/plain; charset=\"US-ASCII\"\\nContent-Transfer-Encoding: 7bit\\nX-Mailer: AOL 5.0 for Mac sub 45\\nSender: fork-admin@xent.com\\nErrors-To: fork-admin@xent.com\\nX-Beenthere: fork@spamassassin.taint.org\\nX-Mailman-Version: 2.0.11\\nPrecedence: bulk\\nList-Help: <mailto:fork-request@xent.com?subject=help>\\nList-Post: <mailto:fork@spamassassin.taint.org>\\nList-Subscribe: <http://xent.com/mailman/listinfo/fork>, <mailto:fork-request@xent.com?subject=subscribe>\\nList-Id: Friends of Rohit Khare <fork.xent.com>\\nList-Unsubscribe: <http://xent.com/mailman/listinfo/fork>,\\n    <mailto:fork-request@xent.com?subject=unsubscribe>\\nList-Archive: <http://xent.com/pipermail/fork/>\\nDate: Fri, 20 Sep 2002 09:30:30 EDT\\n\\n\\nIn a message dated 9/19/2002 3:45:45 PM, dl@silcom.com writes:\\n\\n>I don\\'t mind if people advocate nuking\\n>gay baby whales for jesus, if they can\\n>make a good, original, argument for it.\\n\\n\\nI can\\'t imagine any other kind of argument for nuking gay baby whales for \\njesus. But do you mean nuking baby gay whales who are for jesus; or nuking \\nbaby gay whales for Jesus\\'s sake?\\n\\nsplitting hairs with a FoRK,\\n\\nTom\\n\\n\\n'"
      ]
     },
     "execution_count": 82,
     "metadata": {},
     "output_type": "execute_result"
    }
   ],
   "source": [
    "X_train_raw[0]"
   ]
  },
  {
   "cell_type": "code",
   "execution_count": 83,
   "id": "proof-entertainment",
   "metadata": {},
   "outputs": [],
   "source": [
    "bow = BagOfWords(high=0.2)"
   ]
  },
  {
   "cell_type": "code",
   "execution_count": 84,
   "id": "surprising-devon",
   "metadata": {},
   "outputs": [],
   "source": [
    "import email\n",
    "import email.policy"
   ]
  },
  {
   "cell_type": "code",
   "execution_count": 85,
   "id": "portuguese-arrest",
   "metadata": {},
   "outputs": [],
   "source": [
    "bow.fit(X_train_raw)"
   ]
  },
  {
   "cell_type": "code",
   "execution_count": 86,
   "id": "early-freedom",
   "metadata": {},
   "outputs": [],
   "source": [
    "X_train = bow.transform(X_train_raw)\n",
    "X_val = bow.transform(X_val_raw)"
   ]
  },
  {
   "cell_type": "code",
   "execution_count": 87,
   "id": "adult-defendant",
   "metadata": {},
   "outputs": [
    {
     "data": {
      "text/plain": [
       "(3582, 48743)"
      ]
     },
     "execution_count": 87,
     "metadata": {},
     "output_type": "execute_result"
    }
   ],
   "source": [
    "X_train.shape"
   ]
  },
  {
   "cell_type": "code",
   "execution_count": 91,
   "id": "closed-investment",
   "metadata": {},
   "outputs": [
    {
     "name": "stdout",
     "output_type": "stream",
     "text": [
      "Training score: 0.9991624790619765\n",
      "Validation score: 0.9815899581589959\n"
     ]
    }
   ],
   "source": [
    "clf = LogisticRegression(C=1.0).fit(X_train, y_train)\n",
    "\n",
    "print('Training score:', clf.score(X_train, y_train))\n",
    "print(\"Validation score:\", clf.score(X_val, y_val))"
   ]
  },
  {
   "cell_type": "markdown",
   "id": "exact-edgar",
   "metadata": {},
   "source": [
    "We're fitting the training set almost exactly. I need to improve the high/low cut-offs for the bag of words.\n",
    "\n",
    "Ideally, we would cache the raw corpus and word_freq, so that we don't need to re-fit to change the filters. I don't think stemming can be turned off without re-fitting."
   ]
  },
  {
   "cell_type": "code",
   "execution_count": null,
   "id": "freelance-latex",
   "metadata": {},
   "outputs": [],
   "source": []
  }
 ],
 "metadata": {
  "kernelspec": {
   "display_name": "ml",
   "language": "python",
   "name": "ml"
  },
  "language_info": {
   "codemirror_mode": {
    "name": "ipython",
    "version": 3
   },
   "file_extension": ".py",
   "mimetype": "text/x-python",
   "name": "python",
   "nbconvert_exporter": "python",
   "pygments_lexer": "ipython3",
   "version": "3.8.8"
  }
 },
 "nbformat": 4,
 "nbformat_minor": 5
}
