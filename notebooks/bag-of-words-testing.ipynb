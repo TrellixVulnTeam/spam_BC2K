{
 "cells": [
  {
   "cell_type": "code",
   "execution_count": 1,
   "id": "direct-onion",
   "metadata": {},
   "outputs": [],
   "source": [
    "import numpy as np\n",
    "import pandas as pd\n",
    "import matplotlib.pyplot as plt"
   ]
  },
  {
   "cell_type": "code",
   "execution_count": 2,
   "id": "outdoor-audit",
   "metadata": {},
   "outputs": [],
   "source": [
    "import sys\n",
    "sys.path.append('../src/features/')\n",
    "import build_features as bf"
   ]
  },
  {
   "cell_type": "code",
   "execution_count": 8,
   "id": "exempt-participation",
   "metadata": {},
   "outputs": [
    {
     "data": {
      "text/plain": [
       "<module 'build_features' from '../src/features/build_features.py'>"
      ]
     },
     "execution_count": 8,
     "metadata": {},
     "output_type": "execute_result"
    }
   ],
   "source": [
    "import importlib\n",
    "importlib.reload(bf)"
   ]
  },
  {
   "cell_type": "code",
   "execution_count": 4,
   "id": "crucial-silence",
   "metadata": {},
   "outputs": [],
   "source": [
    "INT_PATH = '../data/interim/'\n",
    "X_train_raw, y_train = bf.get_raw_data('train', path=INT_PATH)\n",
    "X_val_raw, y_val = bf.get_raw_data('val', path=INT_PATH)"
   ]
  },
  {
   "cell_type": "code",
   "execution_count": 9,
   "id": "sudden-brazilian",
   "metadata": {},
   "outputs": [],
   "source": [
    "bow = bf.BagOfWords(high_abs=2000, low_abs=6)"
   ]
  },
  {
   "cell_type": "code",
   "execution_count": 6,
   "id": "short-maker",
   "metadata": {},
   "outputs": [],
   "source": [
    "from sklearn.pipeline import make_pipeline\n",
    "from sklearn.linear_model import LogisticRegression"
   ]
  },
  {
   "cell_type": "code",
   "execution_count": 10,
   "id": "therapeutic-sodium",
   "metadata": {},
   "outputs": [],
   "source": [
    "pipe1 = make_pipeline(bow, LogisticRegression()).fit(X_train_raw, y_train)"
   ]
  },
  {
   "cell_type": "code",
   "execution_count": 11,
   "id": "romantic-question",
   "metadata": {},
   "outputs": [],
   "source": [
    "def scoring(clf, X_train, y_train, X_val, y_val):\n",
    "    print(\"Training score:\", clf.score(X_train, y_train))\n",
    "    print(\"Validation score:\", clf.score(X_val, y_val))"
   ]
  },
  {
   "cell_type": "code",
   "execution_count": 13,
   "id": "worldwide-bottle",
   "metadata": {},
   "outputs": [
    {
     "name": "stdout",
     "output_type": "stream",
     "text": [
      "Training score: 0.9988833054159687\n",
      "Validation score: 0.9799163179916318\n"
     ]
    }
   ],
   "source": [
    "scoring(pipe1, X_train_raw, y_train, X_val_raw, y_val)"
   ]
  },
  {
   "cell_type": "code",
   "execution_count": 14,
   "id": "vital-niger",
   "metadata": {},
   "outputs": [],
   "source": [
    "pipe2 = make_pipeline(bf.BagOfWords(high_abs=2000, low_abs=6, stemming=True),\n",
    "                      LogisticRegression()).fit(X_train_raw, y_train)"
   ]
  },
  {
   "cell_type": "code",
   "execution_count": 15,
   "id": "fifth-condition",
   "metadata": {},
   "outputs": [
    {
     "name": "stdout",
     "output_type": "stream",
     "text": [
      "Training score: 0.9988833054159687\n",
      "Validation score: 0.9765690376569037\n"
     ]
    }
   ],
   "source": [
    "scoring(pipe2, X_train_raw, y_train, X_val_raw, y_val)"
   ]
  },
  {
   "cell_type": "code",
   "execution_count": 16,
   "id": "handed-intellectual",
   "metadata": {},
   "outputs": [
    {
     "data": {
      "text/plain": [
       "dict_keys(['bagofwords', 'logisticregression'])"
      ]
     },
     "execution_count": 16,
     "metadata": {},
     "output_type": "execute_result"
    }
   ],
   "source": [
    "pipe2.named_steps.keys()"
   ]
  },
  {
   "cell_type": "code",
   "execution_count": 17,
   "id": "given-firmware",
   "metadata": {},
   "outputs": [],
   "source": [
    "bow2 = pipe2.named_steps['bagofwords']"
   ]
  },
  {
   "cell_type": "code",
   "execution_count": 19,
   "id": "formal-warehouse",
   "metadata": {},
   "outputs": [
    {
     "data": {
      "text/plain": [
       "(7466,)"
      ]
     },
     "execution_count": 19,
     "metadata": {},
     "output_type": "execute_result"
    }
   ],
   "source": [
    "bow2.working_word_freq.shape"
   ]
  },
  {
   "cell_type": "code",
   "execution_count": 20,
   "id": "trying-thickness",
   "metadata": {},
   "outputs": [
    {
     "data": {
      "text/plain": [
       "(10039,)"
      ]
     },
     "execution_count": 20,
     "metadata": {},
     "output_type": "execute_result"
    }
   ],
   "source": [
    "bow.working_word_freq.shape"
   ]
  },
  {
   "cell_type": "code",
   "execution_count": 23,
   "id": "medical-profile",
   "metadata": {},
   "outputs": [],
   "source": [
    "bow2.set_filters(high_abs=1500, low_abs=100)"
   ]
  },
  {
   "cell_type": "code",
   "execution_count": 24,
   "id": "defensive-montgomery",
   "metadata": {},
   "outputs": [
    {
     "ename": "ValueError",
     "evalue": "X has 1115 features per sample; expecting 7466",
     "output_type": "error",
     "traceback": [
      "\u001b[0;31m---------------------------------------------------------------------------\u001b[0m",
      "\u001b[0;31mValueError\u001b[0m                                Traceback (most recent call last)",
      "\u001b[0;32m<ipython-input-24-19e0c4924780>\u001b[0m in \u001b[0;36m<module>\u001b[0;34m\u001b[0m\n\u001b[0;32m----> 1\u001b[0;31m \u001b[0mscoring\u001b[0m\u001b[0;34m(\u001b[0m\u001b[0mpipe2\u001b[0m\u001b[0;34m,\u001b[0m \u001b[0mX_train_raw\u001b[0m\u001b[0;34m,\u001b[0m \u001b[0my_train\u001b[0m\u001b[0;34m,\u001b[0m \u001b[0mX_val_raw\u001b[0m\u001b[0;34m,\u001b[0m \u001b[0my_val\u001b[0m\u001b[0;34m)\u001b[0m\u001b[0;34m\u001b[0m\u001b[0;34m\u001b[0m\u001b[0m\n\u001b[0m",
      "\u001b[0;32m<ipython-input-11-9c1da515c2f0>\u001b[0m in \u001b[0;36mscoring\u001b[0;34m(clf, X_train, y_train, X_val, y_val)\u001b[0m\n\u001b[1;32m      1\u001b[0m \u001b[0;32mdef\u001b[0m \u001b[0mscoring\u001b[0m\u001b[0;34m(\u001b[0m\u001b[0mclf\u001b[0m\u001b[0;34m,\u001b[0m \u001b[0mX_train\u001b[0m\u001b[0;34m,\u001b[0m \u001b[0my_train\u001b[0m\u001b[0;34m,\u001b[0m \u001b[0mX_val\u001b[0m\u001b[0;34m,\u001b[0m \u001b[0my_val\u001b[0m\u001b[0;34m)\u001b[0m\u001b[0;34m:\u001b[0m\u001b[0;34m\u001b[0m\u001b[0;34m\u001b[0m\u001b[0m\n\u001b[0;32m----> 2\u001b[0;31m     \u001b[0mprint\u001b[0m\u001b[0;34m(\u001b[0m\u001b[0;34m\"Training score:\"\u001b[0m\u001b[0;34m,\u001b[0m \u001b[0mclf\u001b[0m\u001b[0;34m.\u001b[0m\u001b[0mscore\u001b[0m\u001b[0;34m(\u001b[0m\u001b[0mX_train\u001b[0m\u001b[0;34m,\u001b[0m \u001b[0my_train\u001b[0m\u001b[0;34m)\u001b[0m\u001b[0;34m)\u001b[0m\u001b[0;34m\u001b[0m\u001b[0;34m\u001b[0m\u001b[0m\n\u001b[0m\u001b[1;32m      3\u001b[0m     \u001b[0mprint\u001b[0m\u001b[0;34m(\u001b[0m\u001b[0;34m\"Validation score:\"\u001b[0m\u001b[0;34m,\u001b[0m \u001b[0mclf\u001b[0m\u001b[0;34m.\u001b[0m\u001b[0mscore\u001b[0m\u001b[0;34m(\u001b[0m\u001b[0mX_val\u001b[0m\u001b[0;34m,\u001b[0m \u001b[0my_val\u001b[0m\u001b[0;34m)\u001b[0m\u001b[0;34m)\u001b[0m\u001b[0;34m\u001b[0m\u001b[0;34m\u001b[0m\u001b[0m\n",
      "\u001b[0;32m~/miniconda3/envs/ml/lib/python3.8/site-packages/sklearn/utils/metaestimators.py\u001b[0m in \u001b[0;36m<lambda>\u001b[0;34m(*args, **kwargs)\u001b[0m\n\u001b[1;32m    118\u001b[0m \u001b[0;34m\u001b[0m\u001b[0m\n\u001b[1;32m    119\u001b[0m         \u001b[0;31m# lambda, but not partial, allows help() to work with update_wrapper\u001b[0m\u001b[0;34m\u001b[0m\u001b[0;34m\u001b[0m\u001b[0;34m\u001b[0m\u001b[0m\n\u001b[0;32m--> 120\u001b[0;31m         \u001b[0mout\u001b[0m \u001b[0;34m=\u001b[0m \u001b[0;32mlambda\u001b[0m \u001b[0;34m*\u001b[0m\u001b[0margs\u001b[0m\u001b[0;34m,\u001b[0m \u001b[0;34m**\u001b[0m\u001b[0mkwargs\u001b[0m\u001b[0;34m:\u001b[0m \u001b[0mself\u001b[0m\u001b[0;34m.\u001b[0m\u001b[0mfn\u001b[0m\u001b[0;34m(\u001b[0m\u001b[0mobj\u001b[0m\u001b[0;34m,\u001b[0m \u001b[0;34m*\u001b[0m\u001b[0margs\u001b[0m\u001b[0;34m,\u001b[0m \u001b[0;34m**\u001b[0m\u001b[0mkwargs\u001b[0m\u001b[0;34m)\u001b[0m\u001b[0;34m\u001b[0m\u001b[0;34m\u001b[0m\u001b[0m\n\u001b[0m\u001b[1;32m    121\u001b[0m         \u001b[0;31m# update the docstring of the returned function\u001b[0m\u001b[0;34m\u001b[0m\u001b[0;34m\u001b[0m\u001b[0;34m\u001b[0m\u001b[0m\n\u001b[1;32m    122\u001b[0m         \u001b[0mupdate_wrapper\u001b[0m\u001b[0;34m(\u001b[0m\u001b[0mout\u001b[0m\u001b[0;34m,\u001b[0m \u001b[0mself\u001b[0m\u001b[0;34m.\u001b[0m\u001b[0mfn\u001b[0m\u001b[0;34m)\u001b[0m\u001b[0;34m\u001b[0m\u001b[0;34m\u001b[0m\u001b[0m\n",
      "\u001b[0;32m~/miniconda3/envs/ml/lib/python3.8/site-packages/sklearn/pipeline.py\u001b[0m in \u001b[0;36mscore\u001b[0;34m(self, X, y, sample_weight)\u001b[0m\n\u001b[1;32m    620\u001b[0m         \u001b[0;32mif\u001b[0m \u001b[0msample_weight\u001b[0m \u001b[0;32mis\u001b[0m \u001b[0;32mnot\u001b[0m \u001b[0;32mNone\u001b[0m\u001b[0;34m:\u001b[0m\u001b[0;34m\u001b[0m\u001b[0;34m\u001b[0m\u001b[0m\n\u001b[1;32m    621\u001b[0m             \u001b[0mscore_params\u001b[0m\u001b[0;34m[\u001b[0m\u001b[0;34m'sample_weight'\u001b[0m\u001b[0;34m]\u001b[0m \u001b[0;34m=\u001b[0m \u001b[0msample_weight\u001b[0m\u001b[0;34m\u001b[0m\u001b[0;34m\u001b[0m\u001b[0m\n\u001b[0;32m--> 622\u001b[0;31m         \u001b[0;32mreturn\u001b[0m \u001b[0mself\u001b[0m\u001b[0;34m.\u001b[0m\u001b[0msteps\u001b[0m\u001b[0;34m[\u001b[0m\u001b[0;34m-\u001b[0m\u001b[0;36m1\u001b[0m\u001b[0;34m]\u001b[0m\u001b[0;34m[\u001b[0m\u001b[0;34m-\u001b[0m\u001b[0;36m1\u001b[0m\u001b[0;34m]\u001b[0m\u001b[0;34m.\u001b[0m\u001b[0mscore\u001b[0m\u001b[0;34m(\u001b[0m\u001b[0mXt\u001b[0m\u001b[0;34m,\u001b[0m \u001b[0my\u001b[0m\u001b[0;34m,\u001b[0m \u001b[0;34m**\u001b[0m\u001b[0mscore_params\u001b[0m\u001b[0;34m)\u001b[0m\u001b[0;34m\u001b[0m\u001b[0;34m\u001b[0m\u001b[0m\n\u001b[0m\u001b[1;32m    623\u001b[0m \u001b[0;34m\u001b[0m\u001b[0m\n\u001b[1;32m    624\u001b[0m     \u001b[0;34m@\u001b[0m\u001b[0mproperty\u001b[0m\u001b[0;34m\u001b[0m\u001b[0;34m\u001b[0m\u001b[0m\n",
      "\u001b[0;32m~/miniconda3/envs/ml/lib/python3.8/site-packages/sklearn/base.py\u001b[0m in \u001b[0;36mscore\u001b[0;34m(self, X, y, sample_weight)\u001b[0m\n\u001b[1;32m    498\u001b[0m         \"\"\"\n\u001b[1;32m    499\u001b[0m         \u001b[0;32mfrom\u001b[0m \u001b[0;34m.\u001b[0m\u001b[0mmetrics\u001b[0m \u001b[0;32mimport\u001b[0m \u001b[0maccuracy_score\u001b[0m\u001b[0;34m\u001b[0m\u001b[0;34m\u001b[0m\u001b[0m\n\u001b[0;32m--> 500\u001b[0;31m         \u001b[0;32mreturn\u001b[0m \u001b[0maccuracy_score\u001b[0m\u001b[0;34m(\u001b[0m\u001b[0my\u001b[0m\u001b[0;34m,\u001b[0m \u001b[0mself\u001b[0m\u001b[0;34m.\u001b[0m\u001b[0mpredict\u001b[0m\u001b[0;34m(\u001b[0m\u001b[0mX\u001b[0m\u001b[0;34m)\u001b[0m\u001b[0;34m,\u001b[0m \u001b[0msample_weight\u001b[0m\u001b[0;34m=\u001b[0m\u001b[0msample_weight\u001b[0m\u001b[0;34m)\u001b[0m\u001b[0;34m\u001b[0m\u001b[0;34m\u001b[0m\u001b[0m\n\u001b[0m\u001b[1;32m    501\u001b[0m \u001b[0;34m\u001b[0m\u001b[0m\n\u001b[1;32m    502\u001b[0m     \u001b[0;32mdef\u001b[0m \u001b[0m_more_tags\u001b[0m\u001b[0;34m(\u001b[0m\u001b[0mself\u001b[0m\u001b[0;34m)\u001b[0m\u001b[0;34m:\u001b[0m\u001b[0;34m\u001b[0m\u001b[0;34m\u001b[0m\u001b[0m\n",
      "\u001b[0;32m~/miniconda3/envs/ml/lib/python3.8/site-packages/sklearn/linear_model/_base.py\u001b[0m in \u001b[0;36mpredict\u001b[0;34m(self, X)\u001b[0m\n\u001b[1;32m    307\u001b[0m             \u001b[0mPredicted\u001b[0m \u001b[0;32mclass\u001b[0m \u001b[0mlabel\u001b[0m \u001b[0mper\u001b[0m \u001b[0msample\u001b[0m\u001b[0;34m.\u001b[0m\u001b[0;34m\u001b[0m\u001b[0;34m\u001b[0m\u001b[0m\n\u001b[1;32m    308\u001b[0m         \"\"\"\n\u001b[0;32m--> 309\u001b[0;31m         \u001b[0mscores\u001b[0m \u001b[0;34m=\u001b[0m \u001b[0mself\u001b[0m\u001b[0;34m.\u001b[0m\u001b[0mdecision_function\u001b[0m\u001b[0;34m(\u001b[0m\u001b[0mX\u001b[0m\u001b[0;34m)\u001b[0m\u001b[0;34m\u001b[0m\u001b[0;34m\u001b[0m\u001b[0m\n\u001b[0m\u001b[1;32m    310\u001b[0m         \u001b[0;32mif\u001b[0m \u001b[0mlen\u001b[0m\u001b[0;34m(\u001b[0m\u001b[0mscores\u001b[0m\u001b[0;34m.\u001b[0m\u001b[0mshape\u001b[0m\u001b[0;34m)\u001b[0m \u001b[0;34m==\u001b[0m \u001b[0;36m1\u001b[0m\u001b[0;34m:\u001b[0m\u001b[0;34m\u001b[0m\u001b[0;34m\u001b[0m\u001b[0m\n\u001b[1;32m    311\u001b[0m             \u001b[0mindices\u001b[0m \u001b[0;34m=\u001b[0m \u001b[0;34m(\u001b[0m\u001b[0mscores\u001b[0m \u001b[0;34m>\u001b[0m \u001b[0;36m0\u001b[0m\u001b[0;34m)\u001b[0m\u001b[0;34m.\u001b[0m\u001b[0mastype\u001b[0m\u001b[0;34m(\u001b[0m\u001b[0mint\u001b[0m\u001b[0;34m)\u001b[0m\u001b[0;34m\u001b[0m\u001b[0;34m\u001b[0m\u001b[0m\n",
      "\u001b[0;32m~/miniconda3/envs/ml/lib/python3.8/site-packages/sklearn/linear_model/_base.py\u001b[0m in \u001b[0;36mdecision_function\u001b[0;34m(self, X)\u001b[0m\n\u001b[1;32m    286\u001b[0m         \u001b[0mn_features\u001b[0m \u001b[0;34m=\u001b[0m \u001b[0mself\u001b[0m\u001b[0;34m.\u001b[0m\u001b[0mcoef_\u001b[0m\u001b[0;34m.\u001b[0m\u001b[0mshape\u001b[0m\u001b[0;34m[\u001b[0m\u001b[0;36m1\u001b[0m\u001b[0;34m]\u001b[0m\u001b[0;34m\u001b[0m\u001b[0;34m\u001b[0m\u001b[0m\n\u001b[1;32m    287\u001b[0m         \u001b[0;32mif\u001b[0m \u001b[0mX\u001b[0m\u001b[0;34m.\u001b[0m\u001b[0mshape\u001b[0m\u001b[0;34m[\u001b[0m\u001b[0;36m1\u001b[0m\u001b[0;34m]\u001b[0m \u001b[0;34m!=\u001b[0m \u001b[0mn_features\u001b[0m\u001b[0;34m:\u001b[0m\u001b[0;34m\u001b[0m\u001b[0;34m\u001b[0m\u001b[0m\n\u001b[0;32m--> 288\u001b[0;31m             raise ValueError(\"X has %d features per sample; expecting %d\"\n\u001b[0m\u001b[1;32m    289\u001b[0m                              % (X.shape[1], n_features))\n\u001b[1;32m    290\u001b[0m \u001b[0;34m\u001b[0m\u001b[0m\n",
      "\u001b[0;31mValueError\u001b[0m: X has 1115 features per sample; expecting 7466"
     ]
    }
   ],
   "source": [
    "scoring(pipe2, X_train_raw, y_train, X_val_raw, y_val)"
   ]
  },
  {
   "cell_type": "markdown",
   "id": "urban-coach",
   "metadata": {},
   "source": [
    "Changing the filters broke our pipeline because the model wasn't retrained on the new bag of words. It's probably not possible to update the pipeline without re-fitting the bag of words, which is the slowest part (well... maybe transforming is slower)."
   ]
  },
  {
   "cell_type": "code",
   "execution_count": 25,
   "id": "novel-fitting",
   "metadata": {},
   "outputs": [],
   "source": [
    "X_train2 = bow2.transform(X_train_raw)"
   ]
  },
  {
   "cell_type": "code",
   "execution_count": 26,
   "id": "wireless-paint",
   "metadata": {},
   "outputs": [],
   "source": [
    "X_val2 = bow2.transform(X_val_raw)"
   ]
  },
  {
   "cell_type": "code",
   "execution_count": 27,
   "id": "earlier-numbers",
   "metadata": {},
   "outputs": [],
   "source": [
    "clf2 = LogisticRegression().fit(X_train2, y_train)"
   ]
  },
  {
   "cell_type": "code",
   "execution_count": 28,
   "id": "wrapped-aquatic",
   "metadata": {},
   "outputs": [
    {
     "name": "stdout",
     "output_type": "stream",
     "text": [
      "Training score: 0.9980457844779452\n",
      "Validation score: 0.9807531380753138\n"
     ]
    }
   ],
   "source": [
    "scoring(clf2, X_train2, y_train, X_val2, y_val)"
   ]
  },
  {
   "cell_type": "code",
   "execution_count": 29,
   "id": "standing-cache",
   "metadata": {},
   "outputs": [
    {
     "data": {
      "text/plain": [
       "(3582, 1115)"
      ]
     },
     "execution_count": 29,
     "metadata": {},
     "output_type": "execute_result"
    }
   ],
   "source": [
    "X_train2.shape"
   ]
  },
  {
   "cell_type": "markdown",
   "id": "matched-spray",
   "metadata": {},
   "source": [
    "We seem to have improved the validation score and decreased overfitting by filtering out more words."
   ]
  },
  {
   "cell_type": "code",
   "execution_count": 35,
   "id": "defensive-flexibility",
   "metadata": {},
   "outputs": [],
   "source": [
    "feature_weights = pd.Series(index=X_train2.columns, data=clf2.coef_[0])"
   ]
  },
  {
   "cell_type": "code",
   "execution_count": 47,
   "id": "signed-lender",
   "metadata": {},
   "outputs": [
    {
     "data": {
      "text/plain": [
       "sight       1.759620\n",
       "remov       1.608940\n",
       "websit      1.174485\n",
       "guarante    1.076444\n",
       "offer       1.070636\n",
       "opt         0.968608\n",
       "below       0.958504\n",
       "market      0.947140\n",
       "price       0.927196\n",
       "pleas       0.926523\n",
       "credit      0.925995\n",
       "repli       0.865705\n",
       "money       0.828253\n",
       "window      0.809870\n",
       "contact     0.792579\n",
       "improv      0.776050\n",
       "access      0.763946\n",
       "color       0.761498\n",
       "visit       0.760643\n",
       "name        0.751352\n",
       "limit       0.737242\n",
       "instruct    0.729157\n",
       "web         0.721511\n",
       "dollar      0.719117\n",
       "amp         0.682896\n",
       "opportun    0.677532\n",
       "china       0.665205\n",
       "parti       0.663037\n",
       "payment     0.662804\n",
       "minut       0.641375\n",
       "final       0.633853\n",
       "size        0.627231\n",
       "record      0.619909\n",
       "site        0.617344\n",
       "invest      0.609582\n",
       "ever        0.608503\n",
       "receiv      0.604273\n",
       "low         0.599970\n",
       "longer      0.598845\n",
       "transfer    0.590153\n",
       "letter      0.589095\n",
       "track       0.585905\n",
       "care        0.584621\n",
       "hundr       0.578068\n",
       "paid        0.570889\n",
       "industri    0.570611\n",
       "cost        0.569355\n",
       "util        0.564450\n",
       "everyon     0.557401\n",
       "member      0.546528\n",
       "dtype: float64"
      ]
     },
     "execution_count": 47,
     "metadata": {},
     "output_type": "execute_result"
    }
   ],
   "source": [
    "feature_weights[feature_weights.gt(0.0)].sort_values(ascending=False)[:50]"
   ]
  },
  {
   "cell_type": "code",
   "execution_count": 48,
   "id": "recreational-accessory",
   "metadata": {},
   "outputs": [],
   "source": [
    "from sklearn.metrics import precision_score, recall_score, f1_score\n",
    "\n",
    "def score(truth, preds):\n",
    "    print(f'Precision: {precision_score(truth, preds):.3f}')\n",
    "    print(f'Recall: {recall_score(truth, preds):.3f}')\n",
    "    print(f'F_1 score: {f1_score(truth, preds):.3f}')"
   ]
  },
  {
   "cell_type": "code",
   "execution_count": 49,
   "id": "needed-payment",
   "metadata": {},
   "outputs": [
    {
     "name": "stdout",
     "output_type": "stream",
     "text": [
      "Precision: 0.997\n",
      "Recall: 0.996\n",
      "F_1 score: 0.997\n",
      "Precision: 0.965\n",
      "Recall: 0.973\n",
      "F_1 score: 0.969\n"
     ]
    }
   ],
   "source": [
    "score(y_train, clf2.predict(X_train2))\n",
    "score(y_val, clf2.predict(X_val2))"
   ]
  },
  {
   "cell_type": "markdown",
   "id": "plastic-experiment",
   "metadata": {},
   "source": [
    "It might be useful to transform the raw data lists into arrays of lists/counters containing the words we extract from each "
   ]
  }
 ],
 "metadata": {
  "kernelspec": {
   "display_name": "ml",
   "language": "python",
   "name": "ml"
  },
  "language_info": {
   "codemirror_mode": {
    "name": "ipython",
    "version": 3
   },
   "file_extension": ".py",
   "mimetype": "text/x-python",
   "name": "python",
   "nbconvert_exporter": "python",
   "pygments_lexer": "ipython3",
   "version": "3.8.8"
  }
 },
 "nbformat": 4,
 "nbformat_minor": 5
}
